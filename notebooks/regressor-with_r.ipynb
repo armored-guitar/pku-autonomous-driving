{
 "cells": [
  {
   "cell_type": "code",
   "execution_count": 1,
   "metadata": {},
   "outputs": [
    {
     "name": "stdout",
     "output_type": "stream",
     "text": [
      "\u001b[0m\u001b[1;31m                          ./+o+-      \u001b[0m\u001b[1;31m ivb\u001b[0m\u001b[1m@\u001b[0m\u001b[0m\u001b[1;31mcds2\u001b[0m\n",
      "\u001b[0m\u001b[1;37m                  yyyyy- \u001b[0m\u001b[1;31m-yyyyyy+     \u001b[0m\u001b[1;31m OS:\u001b[0m Ubuntu 18.04 bionic\u001b[0m\n",
      "\u001b[0m\u001b[1;37m               \u001b[0m\u001b[1;37m://+//////\u001b[0m\u001b[1;31m-yyyyyyo     \u001b[0m\u001b[1;31m Kernel:\u001b[0m x86_64 Linux 4.15.0-74-generic\u001b[0m\n",
      "\u001b[0m\u001b[1;33m           .++ \u001b[0m\u001b[1;37m.:/++++++/-\u001b[0m\u001b[1;31m.+sss/`     \u001b[0m\u001b[1;31m Uptime:\u001b[0m 1d 10h 3m\u001b[0m\n",
      "\u001b[0m\u001b[1;33m         .:++o:  \u001b[0m\u001b[1;37m/++++++++/:--:/-     \u001b[0m\u001b[1;31m Packages:\u001b[0m 3045\u001b[0m\n",
      "\u001b[0m\u001b[1;33m        o:+o+:++.\u001b[0m\u001b[1;37m`..```.-/oo+++++/    \u001b[0m\u001b[1;31m Shell:\u001b[0m sh\u001b[0m\n",
      "\u001b[0m\u001b[1;33m       .:+o:+o/.\u001b[0m\u001b[1;37m          `+sssoo+/   \u001b[0m\u001b[1;31m CPU:\u001b[0m Intel Xeon Gold 6154 @ 16x 3GHz\u001b[0m\n",
      "\u001b[0m\u001b[1;37m  .++/+:\u001b[0m\u001b[1;33m+oo+o:`\u001b[0m\u001b[1;37m             /sssooo.  \u001b[0m\u001b[1;31m GPU:\u001b[0m Tesla V100-SXM2-32GB, Tesla V100-SXM2-32GB, Tesla V100-SXM2-32GB, Tesla V100-SXM2-32GB\u001b[0m\n",
      "\u001b[0m\u001b[1;37m /+++//+:\u001b[0m\u001b[1;33m`oo+o\u001b[0m\u001b[1;37m               /::--:.  \u001b[0m\u001b[1;31m RAM:\u001b[0m 30490MiB / 128933MiB\u001b[0m\n",
      "\u001b[0m\u001b[1;37m \\+/+o+++\u001b[0m\u001b[1;33m`o++o\u001b[0m\u001b[1;31m               ++////.  \u001b[0m\n",
      "\u001b[0m\u001b[1;37m  .++.o+\u001b[0m\u001b[1;33m++oo+:`\u001b[0m\u001b[1;31m             /dddhhh.  \u001b[0m\n",
      "\u001b[0m\u001b[1;33m       .+.o+oo:.\u001b[0m\u001b[1;31m          `oddhhhh+   \u001b[0m\n",
      "\u001b[0m\u001b[1;33m        \\+.++o+o`\u001b[0m\u001b[1;31m`-````.:ohdhhhhh+    \u001b[0m\n",
      "\u001b[0m\u001b[1;33m         `:o+++ \u001b[0m\u001b[1;31m`ohhhhhhhhyo++os:     \u001b[0m\n",
      "\u001b[0m\u001b[1;33m           .o:\u001b[0m\u001b[1;31m`.syhhhhhhh/\u001b[0m\u001b[1;33m.oo++o`     \u001b[0m\n",
      "\u001b[0m\u001b[1;31m               /osyyyyyyo\u001b[0m\u001b[1;33m++ooo+++/    \u001b[0m\n",
      "\u001b[0m\u001b[1;31m                   ````` \u001b[0m\u001b[1;33m+oo+++o\\:    \u001b[0m\n",
      "\u001b[0m\u001b[1;33m                          `oo++.      \u001b[0m\n"
     ]
    }
   ],
   "source": [
    "!screenfetch"
   ]
  },
  {
   "cell_type": "code",
   "execution_count": 2,
   "metadata": {},
   "outputs": [],
   "source": [
    "# x -50 50\n",
    "# y 0 50\n",
    "# z 0 200"
   ]
  },
  {
   "cell_type": "code",
   "execution_count": 3,
   "metadata": {},
   "outputs": [],
   "source": [
    "%load_ext autoreload\n",
    "%autoreload 2"
   ]
  },
  {
   "cell_type": "code",
   "execution_count": 4,
   "metadata": {},
   "outputs": [],
   "source": [
    "import torch\n",
    "import numpy as np\n",
    "import json\n",
    "import config as C\n",
    "import os\n",
    "import cv2\n",
    "from PIL import Image\n",
    "import matplotlib.pyplot as plt\n",
    "from utils import parse_camera_intrinsic as parse_camera_intrinsic\n",
    "from scipy.spatial.transform import Rotation as R\n",
    "from torch.utils.data import Dataset, DataLoader\n",
    "from torchvision import models\n",
    "from torchvision import transforms as T\n",
    "from torch import nn\n",
    "from tqdm import tqdm"
   ]
  },
  {
   "cell_type": "code",
   "execution_count": 5,
   "metadata": {},
   "outputs": [],
   "source": [
    "os.environ['CUDA_VISIBLE_DEVICES'] = '3'"
   ]
  },
  {
   "cell_type": "code",
   "execution_count": 6,
   "metadata": {},
   "outputs": [],
   "source": [
    "with open(C.TRAIN_CROPS_JSON, \"r\") as f:\n",
    "    train_gt = json.load(f)"
   ]
  },
  {
   "cell_type": "code",
   "execution_count": 7,
   "metadata": {
    "scrolled": true
   },
   "outputs": [
    {
     "data": {
      "text/plain": [
       "{'id': 1,\n",
       " 'image_id': 0,\n",
       " 'category_id': 47,\n",
       " 'bbox': [1723.0, 1776.0, 29.0, 26.0],\n",
       " 'position': [3.8249, 31.7701, 168.57],\n",
       " 'orientation': [0.0063812, -0.184722, 3.13912],\n",
       " 'orientation_relative': [0.006918107352997232,\n",
       "  -0.18451171371342667,\n",
       "  3.139121365067781]}"
      ]
     },
     "execution_count": 7,
     "metadata": {},
     "output_type": "execute_result"
    }
   ],
   "source": [
    "train_gt[\"annotations\"][0]"
   ]
  },
  {
   "cell_type": "code",
   "execution_count": 8,
   "metadata": {},
   "outputs": [],
   "source": [
    "p = parse_camera_intrinsic()\n",
    "for k in p:\n",
    "    p[k] = torch.from_numpy(np.array(p[k],dtype=np.float))"
   ]
  },
  {
   "cell_type": "code",
   "execution_count": 9,
   "metadata": {},
   "outputs": [],
   "source": [
    "import io\n",
    "class PKURegressionDataset(Dataset):\n",
    "    \n",
    "    def __init__(self, orientation_field, images_dir, max_size, transforms=None):\n",
    "        super().__init__()\n",
    "        self.orientation_field = orientation_field\n",
    "        self.images_dir = images_dir\n",
    "        self.max_size = max_size\n",
    "        self.transforms = transforms\n",
    "        \n",
    "        with open(C.TRAIN_CROPS_JSON, \"r\") as f:\n",
    "            self.gt = json.load(f)\n",
    "        \n",
    "        annotations =[]\n",
    "        for i in range(len(self.gt['annotations'])):\n",
    "            wx, wy, wz = self.gt['annotations'][i]['position']\n",
    "            if ((-50<wx<50) and (0<wy<50) and (0<wz<200) and (np.sqrt(wx**2 + wy**2 +wz**2) < 50)):\n",
    "                annotations.append(self.gt['annotations'][i])\n",
    "        self.gt['annotations'] = annotations\n",
    "    \n",
    "        cat_ids = set(ann['category_id'] for ann in self.gt['annotations'])\n",
    "        categories = [cat for cat in self.gt['categories'] if cat['id'] in cat_ids]\n",
    "        self.category_id_to_label = {\n",
    "            cat[\"id\"]: label\n",
    "            for label, cat in enumerate(sorted(categories, key=lambda x: x[\"id\"]))\n",
    "        }\n",
    "        self.images_jpeg = self.load_images()\n",
    "        \n",
    "        self.p = parse_camera_intrinsic()\n",
    "        for k in self.p:\n",
    "            self.p[k] = float(self.p[k])\n",
    "    \n",
    "    def load_images(self):\n",
    "        images = {}\n",
    "        for image in tqdm(self.gt['images']):\n",
    "            path = os.path.join(self.images_dir, image['file_name'])\n",
    "            data = open(path, 'rb').read()\n",
    "            images[image['id']] = io.BytesIO(data)\n",
    "        return images\n",
    "    \n",
    "    def __len__(self):\n",
    "        return len(self.gt[\"annotations\"])\n",
    "    \n",
    "    def __getitem__(self, idx):\n",
    "        image = self.load_image(idx)\n",
    "        label = self.get_label(idx)\n",
    "        bbox_x, bbox_y, bbox_w, bbox_h = self.get_bbox(idx)\n",
    "        bbox_center_x, bbox_center_y = bbox_x + bbox_w / 2, bbox_y + bbox_h / 2\n",
    "        wx, wy, wz = self.get_position(idx)\n",
    "        orientation = self.get_orientation(idx)\n",
    "        \n",
    "        result =  dict(\n",
    "            image=image,\n",
    "            label=label,\n",
    "            bbox=np.array([(bbox_center_x-self.p['cx'])/self.p['fx'], (bbox_center_y-self.p['cy'])/self.p['fy'], bbox_w/self.p['fx'], bbox_h/self.p['fy']]),\n",
    "            position=np.array([wx, wy, wz]),\n",
    "            distance=np.sqrt(wx**2 + wy**2 + wz**2),\n",
    "            orientation=np.array(orientation)\n",
    "            )\n",
    "        if self.transforms is not None:\n",
    "            result['image'] = self.transforms(result['image'])\n",
    "        return result\n",
    "    \n",
    "    def load_image(self, idx):\n",
    "        image_id = self.gt[\"annotations\"][idx][\"image_id\"]\n",
    "        image = self.decode_image(self.images_jpeg[image_id])\n",
    "        w, h = image.size\n",
    "        scale = self.max_size / max(w, h)\n",
    "        w_new, h_new = int(w * scale), int(h * scale)\n",
    "        image = image.resize((w_new, h_new), Image.LANCZOS)\n",
    "        new_image = Image.new(\"RGB\", (self.max_size, self.max_size))\n",
    "        new_image.paste(image, ((self.max_size - w_new) // 2, (self.max_size - h_new) // 2))\n",
    "        return new_image\n",
    "        \n",
    "    @staticmethod\n",
    "    def decode_image(bytes_io):\n",
    "        image = Image.open(bytes_io)\n",
    "        image.load()\n",
    "        return image\n",
    "        \n",
    "    def get_label(self, idx):\n",
    "        return self.category_id_to_label[self.gt[\"annotations\"][idx][\"category_id\"]]\n",
    "    \n",
    "    def get_bbox(self, idx):\n",
    "        return self.gt[\"annotations\"][idx][\"bbox\"]\n",
    "    \n",
    "    def get_position(self, idx):\n",
    "        return self.gt[\"annotations\"][idx][\"position\"]\n",
    "    \n",
    "    def get_orientation(self, idx):\n",
    "        euler_angles = self.gt[\"annotations\"][idx][self.orientation_field]\n",
    "        rotation = R.from_euler(\"YXZ\", euler_angles)\n",
    "        q = rotation.as_quat()\n",
    "        e = np.array([0,0,1])\n",
    "        q[:3] = q[:3] * np.dot(e, q[:3]) / (np.abs(np.dot(q[:3], e)))\n",
    "        return q"
   ]
  },
  {
   "cell_type": "code",
   "execution_count": 10,
   "metadata": {},
   "outputs": [],
   "source": [
    "transforms = T.Compose([\n",
    "    T.ToTensor(),\n",
    "    T.Normalize(mean=[0.485, 0.456, 0.406], std=[0.229, 0.224, 0.225]),\n",
    "])"
   ]
  },
  {
   "cell_type": "code",
   "execution_count": 11,
   "metadata": {},
   "outputs": [
    {
     "name": "stderr",
     "output_type": "stream",
     "text": [
      "100%|██████████| 49115/49115 [00:01<00:00, 37659.71it/s]\n"
     ]
    }
   ],
   "source": [
    "ds = PKURegressionDataset(\"orientation\", C.TRAIN_CROPS_ORIGIN, 256, transforms)"
   ]
  },
  {
   "cell_type": "code",
   "execution_count": 12,
   "metadata": {},
   "outputs": [
    {
     "data": {
      "text/plain": [
       "25751"
      ]
     },
     "execution_count": 12,
     "metadata": {},
     "output_type": "execute_result"
    }
   ],
   "source": [
    "len(ds)"
   ]
  },
  {
   "cell_type": "code",
   "execution_count": 13,
   "metadata": {},
   "outputs": [],
   "source": [
    "r = ds[3]"
   ]
  },
  {
   "cell_type": "code",
   "execution_count": 14,
   "metadata": {},
   "outputs": [
    {
     "data": {
      "text/plain": [
       "torch.Size([3, 256, 256])"
      ]
     },
     "execution_count": 14,
     "metadata": {},
     "output_type": "execute_result"
    }
   ],
   "source": [
    "r[\"image\"].shape"
   ]
  },
  {
   "cell_type": "code",
   "execution_count": 15,
   "metadata": {},
   "outputs": [
    {
     "name": "stderr",
     "output_type": "stream",
     "text": [
      "Clipping input data to the valid range for imshow with RGB data ([0..1] for floats or [0..255] for integers).\n"
     ]
    },
    {
     "data": {
      "text/plain": [
       "<matplotlib.image.AxesImage at 0x7f21204b6790>"
      ]
     },
     "execution_count": 15,
     "metadata": {},
     "output_type": "execute_result"
    },
    {
     "data": {
      "image/png": "[encoded data removed]",
      "text/plain": [
       "<Figure size 432x288 with 1 Axes>"
      ]
     },
     "metadata": {
      "needs_background": "light"
     },
     "output_type": "display_data"
    }
   ],
   "source": [
    "plt.imshow((np.transpose(r[\"image\"].numpy(), (1, 2, 0)) * np.array([0.229, 0.224, 0.225]) + np.array([0.485, 0.456, 0.406])))"
   ]
  },
  {
   "cell_type": "code",
   "execution_count": 16,
   "metadata": {},
   "outputs": [
    {
     "data": {
      "text/plain": [
       "{'image': tensor([[[-2.1179, -2.1179, -2.1179,  ..., -2.1179, -2.1179, -2.1179],\n",
       "          [-2.1179, -2.1179, -2.1179,  ..., -2.1179, -2.1179, -2.1179],\n",
       "          [-2.1179, -2.1179, -2.1179,  ..., -2.1179, -2.1179, -2.1179],\n",
       "          ...,\n",
       "          [-2.1179, -2.1179, -2.1179,  ..., -2.1179, -2.1179, -2.1179],\n",
       "          [-2.1179, -2.1179, -2.1179,  ..., -2.1179, -2.1179, -2.1179],\n",
       "          [-2.1179, -2.1179, -2.1179,  ..., -2.1179, -2.1179, -2.1179]],\n",
       " \n",
       "         [[-2.0357, -2.0357, -2.0357,  ..., -2.0357, -2.0357, -2.0357],\n",
       "          [-2.0357, -2.0357, -2.0357,  ..., -2.0357, -2.0357, -2.0357],\n",
       "          [-2.0357, -2.0357, -2.0357,  ..., -2.0357, -2.0357, -2.0357],\n",
       "          ...,\n",
       "          [-2.0357, -2.0357, -2.0357,  ..., -2.0357, -2.0357, -2.0357],\n",
       "          [-2.0357, -2.0357, -2.0357,  ..., -2.0357, -2.0357, -2.0357],\n",
       "          [-2.0357, -2.0357, -2.0357,  ..., -2.0357, -2.0357, -2.0357]],\n",
       " \n",
       "         [[-1.8044, -1.8044, -1.8044,  ..., -1.8044, -1.8044, -1.8044],\n",
       "          [-1.8044, -1.8044, -1.8044,  ..., -1.8044, -1.8044, -1.8044],\n",
       "          [-1.8044, -1.8044, -1.8044,  ..., -1.8044, -1.8044, -1.8044],\n",
       "          ...,\n",
       "          [-1.8044, -1.8044, -1.8044,  ..., -1.8044, -1.8044, -1.8044],\n",
       "          [-1.8044, -1.8044, -1.8044,  ..., -1.8044, -1.8044, -1.8044],\n",
       "          [-1.8044, -1.8044, -1.8044,  ..., -1.8044, -1.8044, -1.8044]]]),\n",
       " 'label': 16,\n",
       " 'bbox': array([0.5492453 , 0.2359256 , 0.19266252, 0.06244916]),\n",
       " 'position': array([17.1267 ,  7.30244, 31.2769 ]),\n",
       " 'distance': 36.399092797123394,\n",
       " 'orientation': array([ 0.69724328,  0.06848643,  0.71278699, -0.03310771])}"
      ]
     },
     "execution_count": 16,
     "metadata": {},
     "output_type": "execute_result"
    }
   ],
   "source": [
    "r"
   ]
  },
  {
   "cell_type": "code",
   "execution_count": 17,
   "metadata": {},
   "outputs": [],
   "source": [
    "dl = DataLoader(ds, batch_size=64, shuffle=True, drop_last=True, pin_memory=True, num_workers=2)"
   ]
  },
  {
   "cell_type": "code",
   "execution_count": 18,
   "metadata": {},
   "outputs": [],
   "source": [
    "for batch in dl:\n",
    "    break"
   ]
  },
  {
   "cell_type": "markdown",
   "metadata": {},
   "source": [
    "print(batch)"
   ]
  },
  {
   "cell_type": "code",
   "execution_count": 19,
   "metadata": {},
   "outputs": [
    {
     "data": {
      "text/plain": [
       "34"
      ]
     },
     "execution_count": 19,
     "metadata": {},
     "output_type": "execute_result"
    }
   ],
   "source": [
    "len(ds.category_id_to_label)"
   ]
  },
  {
   "cell_type": "code",
   "execution_count": 20,
   "metadata": {
    "scrolled": true
   },
   "outputs": [
    {
     "data": {
      "text/plain": [
       "torch.Size([64, 3, 256, 256])"
      ]
     },
     "execution_count": 20,
     "metadata": {},
     "output_type": "execute_result"
    }
   ],
   "source": [
    "batch['image'].shape"
   ]
  },
  {
   "cell_type": "code",
   "execution_count": 21,
   "metadata": {},
   "outputs": [],
   "source": [
    "rad_power = 6"
   ]
  },
  {
   "cell_type": "code",
   "execution_count": 22,
   "metadata": {},
   "outputs": [],
   "source": [
    "class ConvBnAct(nn.Module):\n",
    "    \n",
    "    def __init__(self, in_channels, out_channels):\n",
    "        super().__init__()\n",
    "        self.conv = nn.Conv2d(in_channels, out_channels, (3, 3), padding=1)\n",
    "        self.bn = nn.BatchNorm2d(out_channels)\n",
    "        self.act = nn.LeakyReLU(inplace=True)\n",
    "        \n",
    "        nn.init.kaiming_normal_(self.conv.weight, nonlinearity='relu')\n",
    "        nn.init.constant_(self.conv.bias, 0)\n",
    "    \n",
    "    def forward(self, x):\n",
    "        x = self.conv(x)\n",
    "        x = self.bn(x)\n",
    "        x = self.act(x)\n",
    "        return x\n",
    "\n",
    "class Model(torch.nn.Module):\n",
    "    \n",
    "    def __init__(self):\n",
    "        super().__init__()\n",
    "        self.backbone = models.resnet101(pretrained=True)\n",
    "        \n",
    "        self.local_neck = nn.Sequential(\n",
    "            ConvBnAct(2048, 512),\n",
    "            ConvBnAct(512, 256),\n",
    "            ConvBnAct(256, 64),\n",
    "            nn.Flatten(),\n",
    "            nn.Linear(64 * 8 * 8, 1024),  # 4\n",
    "            nn.LeakyReLU(inplace=True),\n",
    "            nn.Linear(1024, 1024),  # 6\n",
    "            nn.LeakyReLU(inplace=True)\n",
    "        )\n",
    "        nn.init.kaiming_normal_(self.local_neck[4].weight, nonlinearity='leaky_relu')\n",
    "        nn.init.constant_(self.local_neck[4].bias, 0)\n",
    "        nn.init.kaiming_normal_(self.local_neck[6].weight, nonlinearity='leaky_relu')\n",
    "        nn.init.constant_(self.local_neck[6].bias, 0)\n",
    "        \n",
    "        self.cls_head = nn.Linear(1024, 34)\n",
    "        nn.init.kaiming_normal_(self.cls_head.weight, nonlinearity='leaky_relu')\n",
    "        nn.init.constant_(self.cls_head.bias, 0)\n",
    "        \n",
    "        self.rot_head = nn.Linear(1024, 4)\n",
    "        nn.init.kaiming_normal_(self.rot_head.weight, nonlinearity='leaky_relu')\n",
    "        nn.init.constant_(self.rot_head.bias, 0)\n",
    "        \n",
    "        self.trans_ass = nn.Sequential(\n",
    "            nn.Linear(rad_power,1,bias=False)    \n",
    "        )\n",
    "        nn.init.xavier_normal_(self.trans_ass[0].weight)\n",
    "        \n",
    "        \n",
    "        self.trans_neck = nn.Sequential(\n",
    "             nn.Linear(1024, 128),  # 0\n",
    "             nn.LeakyReLU(inplace=True)#,\n",
    "#             nn.Linear(100, 100),  # 2\n",
    "#             nn.LeakyReLU(inplace=True),\n",
    "        )\n",
    "        nn.init.kaiming_normal_(self.trans_neck[0].weight, nonlinearity='leaky_relu')\n",
    "        nn.init.constant_(self.trans_neck[0].bias, 0)\n",
    "#         nn.init.kaiming_normal_(self.trans_neck[2].weight, nonlinearity='leaky_relu')\n",
    "#         nn.init.constant_(self.trans_neck[2].bias, 0)\n",
    "        \n",
    "#         self.ln_to_trans = nn.Sequential(\n",
    "#             nn.Linear(1024, 100),  # 0\n",
    "#             nn.LeakyReLU(inplace=True)\n",
    "#         )\n",
    "#         nn.init.kaiming_normal_(self.ln_to_trans[0].weight, nonlinearity='leaky_relu')\n",
    "#         nn.init.constant_(self.ln_to_trans[0].bias, 0)\n",
    "        self.size_neck = nn.Linear(2,128)\n",
    "        nn.init.xavier_normal_(self.size_neck.weight)\n",
    "        nn.init.constant_(self.size_neck.bias, 0)\n",
    "    \n",
    "        self.trans_head = nn.Linear(128, 1)\n",
    "        nn.init.xavier_normal_(self.trans_head.weight)\n",
    "        nn.init.constant_(self.trans_head.bias, 0)\n",
    "        \n",
    "    def extract_features(self, x):\n",
    "        x = self.backbone.conv1(x)\n",
    "        x = self.backbone.bn1(x)\n",
    "        x = self.backbone.relu(x)\n",
    "        x = self.backbone.maxpool(x)\n",
    "\n",
    "        x = self.backbone.layer1(x)\n",
    "        x = self.backbone.layer2(x)\n",
    "        x = self.backbone.layer3(x)\n",
    "        x = self.backbone.layer4(x)\n",
    "        \n",
    "        return x\n",
    "    \n",
    "    def forward(self, x,bbox):\n",
    "        features = self.extract_features(x)\n",
    "        ln = self.local_neck(features)\n",
    "        tn = self.trans_neck(ln)\n",
    "        rad = torch.sqrt(torch.pow(bbox[:,0:1],2) + torch.pow(bbox[:,1:2],2))\n",
    "        rad_powers = rad\n",
    "        for i in range(1,rad_power):\n",
    "            rad_powers = torch.cat((rad_powers,torch.pow(rad,i+1)),dim=-1 )\n",
    "#         print(rad_powers.shape)    \n",
    "        ta = 1 + self.trans_ass(rad_powers)\n",
    "                            \n",
    "#         translation_v1 = self.trans_neck(bbox)\n",
    "#         ln_to_trans_n = self.ln_to_trans(ln)\n",
    "#         #rint((translation_v1.shape,ln_to_trans_n.shape))\n",
    "        \n",
    "        sn = self.size_neck(bbox[:,2:])\n",
    "        \n",
    "        distance = self.trans_head(sn*tn)\n",
    "        \n",
    "        distance_scaled = distance*ta\n",
    "        \n",
    "        cls_score = self.cls_head(ln)\n",
    "        orientation = self.rot_head(ln)\n",
    "        \n",
    "        return dict(cls_score=cls_score, orientation = orientation, distance = distance_scaled)"
   ]
  },
  {
   "cell_type": "code",
   "execution_count": 23,
   "metadata": {},
   "outputs": [],
   "source": [
    "model = Model()"
   ]
  },
  {
   "cell_type": "code",
   "execution_count": 24,
   "metadata": {},
   "outputs": [],
   "source": [
    "#sum(p.nelement() for p in model.parameters())"
   ]
  },
  {
   "cell_type": "code",
   "execution_count": 25,
   "metadata": {},
   "outputs": [],
   "source": [
    "#sum(p.nelement() for p in model.backbone.parameters())"
   ]
  },
  {
   "cell_type": "markdown",
   "metadata": {},
   "source": [
    "outputs = model(batch['image'])"
   ]
  },
  {
   "cell_type": "markdown",
   "metadata": {},
   "source": [
    "outputs"
   ]
  },
  {
   "cell_type": "markdown",
   "metadata": {},
   "source": [
    " torch.norm(outputs['orientation'], dim=-1, keepdim=True)"
   ]
  },
  {
   "cell_type": "code",
   "execution_count": 26,
   "metadata": {},
   "outputs": [],
   "source": [
    "def huber_loss(bbox_pred, bbox_targets, beta=2.8):\n",
    "    \"\"\"\n",
    "    SmoothL1(x) = 0.5 * x^2 / beta      if |x| < beta\n",
    "                  |x| - 0.5 * beta      otherwise.\n",
    "    https://en.wikipedia.org/wiki/Huber_loss\n",
    "    \"\"\"\n",
    "    box_diff = bbox_pred - bbox_targets\n",
    "\n",
    "    dis_trans = torch.norm(box_diff, dim=1)\n",
    "    # dis_trans = np.linalg.norm(box_diff.data.cpu().numpy(), axis=1)\n",
    "    # we also add a metric for dist<2.8 metres.\n",
    "    inbox_idx = dis_trans <= 2.8\n",
    "    outbox_idx = dis_trans > 2.8\n",
    "\n",
    "    # bbox_inside_weights = torch.from_numpy(inbox_idx.astype('float32')).cuda()\n",
    "    # bbox_outside_weights = torch.from_numpy(outbox_idx.astype('float32')).cuda()\n",
    "    bbox_inside_weights = inbox_idx.float()\n",
    "    bbox_outside_weights = outbox_idx.float()\n",
    "\n",
    "    in_box_pow_diff = 0.5 * torch.pow(box_diff, 2) / beta\n",
    "    in_box_loss = in_box_pow_diff.sum(dim=1) * bbox_inside_weights\n",
    "\n",
    "    out_box_abs_diff = torch.abs(box_diff)\n",
    "    out_box_loss = (out_box_abs_diff.sum(dim=1) - beta / 2) * bbox_outside_weights\n",
    "\n",
    "    loss_box = in_box_loss + out_box_loss\n",
    "    N = loss_box.size(0)  # batch size\n",
    "    loss_box = loss_box.view(-1).sum(0) / N\n",
    "    return loss_box"
   ]
  },
  {
   "cell_type": "code",
   "execution_count": 27,
   "metadata": {},
   "outputs": [],
   "source": [
    "def dist_to_coord(outputs, batch):\n",
    "#     print(outputs['distance'])\n",
    "    z_outputs = outputs['distance']*torch.sqrt(1/torch.reshape(1+torch.pow(batch['bbox'][:,0],2)+torch.pow(batch['bbox'][:,1],2),(64,1)))\n",
    "    x_outputs = torch.reshape(batch['bbox'][:,0],(64,1))*z_outputs\n",
    "    y_outputs = torch.reshape(batch['bbox'][:,1],(64,1))*z_outputs\n",
    "#     print(torch.cat((x_outputs,y_outputs,z_outputs),dim = -1))\n",
    "    return torch.cat((x_outputs,y_outputs,z_outputs),dim = -1)"
   ]
  },
  {
   "cell_type": "markdown",
   "metadata": {},
   "source": [
    "def dist_to_coord(outputs, batch):\n",
    "#     print(outputs['distance'])\n",
    "    z_outputs = outputs['distance']*torch.sqrt(1/torch.reshape(1+torch.pow((batch['bbox'][:,0]-p['cx'])/p['fx'],2)+torch.pow((batch['bbox'][:,1]-p['cy'])/p['fy'],2),(64,1)))\n",
    "    x_outputs = torch.reshape((batch['bbox'][:,0]-p['cx'])/p['fx'],(64,1))*z_outputs\n",
    "    y_outputs = torch.reshape((batch['bbox'][:,1]-p['cy'])/p['fy'],(64,1))*z_outputs\n",
    "#     print(torch.cat((x_outputs,y_outputs,z_outputs),dim = -1))\n",
    "    return torch.cat((x_outputs,y_outputs,z_outputs),dim = -1)"
   ]
  },
  {
   "cell_type": "code",
   "execution_count": 28,
   "metadata": {},
   "outputs": [],
   "source": [
    "def mean_distance(batch,outputs):\n",
    "    dist_to_coord(outputs,batch),batch['position']\n",
    "    distance = torch.sqrt(torch.pow((dist_to_coord(outputs,batch)-batch['position']),2).sum(dim=1)).mean()\n",
    "    return distance"
   ]
  },
  {
   "cell_type": "code",
   "execution_count": 29,
   "metadata": {},
   "outputs": [],
   "source": [
    "def loss_fn(outputs, batch):\n",
    "    cls_loss = nn.functional.cross_entropy(outputs['cls_score'], batch['label'])\n",
    "    normed = outputs['orientation'] / torch.norm(outputs['orientation'], dim=-1, keepdim=True)\n",
    "    \n",
    "#     e = torch.FloatTensor([0, 0, 1]).cuda()\n",
    "#     prod = (normed[:, :3] * e).sum(dim=1)\n",
    "#     normed2 = torch.cat((torch.unsqueeze(prod / torch.abs(prod), 1) * normed[:, :3], normed[:, 3:4]), dim=1)\n",
    "#     trans_loss = huber_loss(outputs['translation'],batch['position'])\n",
    "\n",
    "    rot_loss_old = nn.functional.l1_loss(normed, batch['orientation'])\n",
    "    \n",
    "    rot_loss = 1-(normed[:, -1] * batch['orientation'][:, -1] + \\\n",
    "               (normed[:, :-1] * batch['orientation'][:, :-1]).sum(dim=1)).mean()\n",
    "    trans_loss = huber_loss(dist_to_coord(outputs,batch),batch['position'])\n",
    "#     distance_loss = huber_loss(outputs['distance'],batch['distance'])\n",
    "    true_distance = mean_distance(batch,outputs)\n",
    "    loss =  rot_loss + 0.1*trans_loss + cls_loss \n",
    "    return dict(loss=loss, cls_loss=rot_loss_old, rot_loss = rot_loss, trans_loss = trans_loss, true_distance = true_distance)"
   ]
  },
  {
   "cell_type": "code",
   "execution_count": 30,
   "metadata": {},
   "outputs": [],
   "source": [
    "model = model.cuda()"
   ]
  },
  {
   "cell_type": "code",
   "execution_count": 31,
   "metadata": {},
   "outputs": [],
   "source": [
    "optimizer = torch.optim.Adam(model.parameters(), lr=0.0001)"
   ]
  },
  {
   "cell_type": "markdown",
   "metadata": {},
   "source": [
    "sd = optimizer.state_dict()\n",
    "sd['param_groups'][0]['lr'] = sd['param_groups'][0]['lr']/2\n",
    "optimizer.load_state_dict(sd)"
   ]
  },
  {
   "cell_type": "markdown",
   "metadata": {},
   "source": [
    "sd['param_groups'][0]['lr']"
   ]
  },
  {
   "cell_type": "markdown",
   "metadata": {},
   "source": [
    "model.load_state_dict(torch.load(\"model_16-01-16:35.pth\"))\n",
    "optimizer.load_state_dict(torch.load(\"optim_16-01-16:35.pth\"))"
   ]
  },
  {
   "cell_type": "code",
   "execution_count": 32,
   "metadata": {},
   "outputs": [],
   "source": [
    "losses = []"
   ]
  },
  {
   "cell_type": "code",
   "execution_count": 33,
   "metadata": {},
   "outputs": [
    {
     "name": "stderr",
     "output_type": "stream",
     "text": [
      "\r",
      "  0%|          | 0/402 [00:00<?, ?it/s]"
     ]
    }
   ],
   "source": [
    "pbar = tqdm(total=len(dl))"
   ]
  },
  {
   "cell_type": "code",
   "execution_count": 34,
   "metadata": {},
   "outputs": [],
   "source": [
    "def smooth(beta, array):\n",
    "    s=[]\n",
    "    s.append(array[0])\n",
    "    for i in range(1,len(array)):\n",
    "        s.append((1-beta)*s[-1]+beta*array[i])\n",
    "    return s"
   ]
  },
  {
   "cell_type": "code",
   "execution_count": 35,
   "metadata": {},
   "outputs": [],
   "source": [
    "from IPython.display import clear_output"
   ]
  },
  {
   "cell_type": "code",
   "execution_count": 36,
   "metadata": {
    "scrolled": false
   },
   "outputs": [
    {
     "data": {
      "image/png": "[encoded data removed]",
      "text/plain": [
       "<Figure size 1080x720 with 5 Axes>"
      ]
     },
     "metadata": {
      "needs_background": "light"
     },
     "output_type": "display_data"
    },
    {
     "name": "stderr",
     "output_type": "stream",
     "text": [
      "0.30685 0.12580 0.10502 1.24140 1.93092: : 7912it [1:34:17,  2.22it/s]"
     ]
    },
    {
     "ename": "KeyboardInterrupt",
     "evalue": "",
     "output_type": "error",
     "traceback": [
      "\u001b[0;31m---------------------------------------------------------------------------\u001b[0m",
      "\u001b[0;31mKeyboardInterrupt\u001b[0m                         Traceback (most recent call last)",
      "\u001b[0;32m<ipython-input-36-3501d3f31426>\u001b[0m in \u001b[0;36m<module>\u001b[0;34m\u001b[0m\n\u001b[1;32m      9\u001b[0m             \u001b[0mbatch\u001b[0m\u001b[0;34m[\u001b[0m\u001b[0mk\u001b[0m\u001b[0;34m]\u001b[0m \u001b[0;34m=\u001b[0m \u001b[0mbatch\u001b[0m\u001b[0;34m[\u001b[0m\u001b[0mk\u001b[0m\u001b[0;34m]\u001b[0m\u001b[0;34m.\u001b[0m\u001b[0mcuda\u001b[0m\u001b[0;34m(\u001b[0m\u001b[0;34m)\u001b[0m\u001b[0;34m\u001b[0m\u001b[0;34m\u001b[0m\u001b[0m\n\u001b[1;32m     10\u001b[0m         \u001b[0moutputs\u001b[0m \u001b[0;34m=\u001b[0m \u001b[0mmodel\u001b[0m\u001b[0;34m(\u001b[0m\u001b[0mbatch\u001b[0m\u001b[0;34m[\u001b[0m\u001b[0;34m'image'\u001b[0m\u001b[0;34m]\u001b[0m\u001b[0;34m,\u001b[0m\u001b[0mbatch\u001b[0m\u001b[0;34m[\u001b[0m\u001b[0;34m'bbox'\u001b[0m\u001b[0;34m]\u001b[0m\u001b[0;34m)\u001b[0m\u001b[0;34m\u001b[0m\u001b[0;34m\u001b[0m\u001b[0m\n\u001b[0;32m---> 11\u001b[0;31m         \u001b[0mloss\u001b[0m \u001b[0;34m=\u001b[0m \u001b[0mloss_fn\u001b[0m\u001b[0;34m(\u001b[0m\u001b[0moutputs\u001b[0m\u001b[0;34m,\u001b[0m \u001b[0mbatch\u001b[0m\u001b[0;34m)\u001b[0m\u001b[0;34m\u001b[0m\u001b[0;34m\u001b[0m\u001b[0m\n\u001b[0m\u001b[1;32m     12\u001b[0m         \u001b[0moptimizer\u001b[0m\u001b[0;34m.\u001b[0m\u001b[0mzero_grad\u001b[0m\u001b[0;34m(\u001b[0m\u001b[0;34m)\u001b[0m\u001b[0;34m\u001b[0m\u001b[0;34m\u001b[0m\u001b[0m\n\u001b[1;32m     13\u001b[0m         \u001b[0mloss\u001b[0m\u001b[0;34m[\u001b[0m\u001b[0;34m'loss'\u001b[0m\u001b[0;34m]\u001b[0m\u001b[0;34m.\u001b[0m\u001b[0mbackward\u001b[0m\u001b[0;34m(\u001b[0m\u001b[0;34m)\u001b[0m\u001b[0;34m\u001b[0m\u001b[0;34m\u001b[0m\u001b[0m\n",
      "\u001b[0;32m<ipython-input-29-a0f2d6c3410a>\u001b[0m in \u001b[0;36mloss_fn\u001b[0;34m(outputs, batch)\u001b[0m\n\u001b[1;32m      8\u001b[0m \u001b[0;31m#     trans_loss = huber_loss(outputs['translation'],batch['position'])\u001b[0m\u001b[0;34m\u001b[0m\u001b[0;34m\u001b[0m\u001b[0;34m\u001b[0m\u001b[0m\n\u001b[1;32m      9\u001b[0m \u001b[0;34m\u001b[0m\u001b[0m\n\u001b[0;32m---> 10\u001b[0;31m     \u001b[0mrot_loss_old\u001b[0m \u001b[0;34m=\u001b[0m \u001b[0mnn\u001b[0m\u001b[0;34m.\u001b[0m\u001b[0mfunctional\u001b[0m\u001b[0;34m.\u001b[0m\u001b[0ml1_loss\u001b[0m\u001b[0;34m(\u001b[0m\u001b[0mnormed\u001b[0m\u001b[0;34m,\u001b[0m \u001b[0mbatch\u001b[0m\u001b[0;34m[\u001b[0m\u001b[0;34m'orientation'\u001b[0m\u001b[0;34m]\u001b[0m\u001b[0;34m)\u001b[0m\u001b[0;34m\u001b[0m\u001b[0;34m\u001b[0m\u001b[0m\n\u001b[0m\u001b[1;32m     11\u001b[0m \u001b[0;34m\u001b[0m\u001b[0m\n\u001b[1;32m     12\u001b[0m     rot_loss = 1-(normed[:, -1] * batch['orientation'][:, -1] + \\\n",
      "\u001b[0;32m~/.conda/envs/open-mmlab/lib/python3.7/site-packages/torch/nn/functional.py\u001b[0m in \u001b[0;36ml1_loss\u001b[0;34m(input, target, size_average, reduce, reduction)\u001b[0m\n\u001b[1;32m   2163\u001b[0m     \u001b[0;32melse\u001b[0m\u001b[0;34m:\u001b[0m\u001b[0;34m\u001b[0m\u001b[0;34m\u001b[0m\u001b[0m\n\u001b[1;32m   2164\u001b[0m         \u001b[0mexpanded_input\u001b[0m\u001b[0;34m,\u001b[0m \u001b[0mexpanded_target\u001b[0m \u001b[0;34m=\u001b[0m \u001b[0mtorch\u001b[0m\u001b[0;34m.\u001b[0m\u001b[0mbroadcast_tensors\u001b[0m\u001b[0;34m(\u001b[0m\u001b[0minput\u001b[0m\u001b[0;34m,\u001b[0m \u001b[0mtarget\u001b[0m\u001b[0;34m)\u001b[0m\u001b[0;34m\u001b[0m\u001b[0;34m\u001b[0m\u001b[0m\n\u001b[0;32m-> 2165\u001b[0;31m         \u001b[0mret\u001b[0m \u001b[0;34m=\u001b[0m \u001b[0mtorch\u001b[0m\u001b[0;34m.\u001b[0m\u001b[0m_C\u001b[0m\u001b[0;34m.\u001b[0m\u001b[0m_nn\u001b[0m\u001b[0;34m.\u001b[0m\u001b[0ml1_loss\u001b[0m\u001b[0;34m(\u001b[0m\u001b[0mexpanded_input\u001b[0m\u001b[0;34m,\u001b[0m \u001b[0mexpanded_target\u001b[0m\u001b[0;34m,\u001b[0m \u001b[0m_Reduction\u001b[0m\u001b[0;34m.\u001b[0m\u001b[0mget_enum\u001b[0m\u001b[0;34m(\u001b[0m\u001b[0mreduction\u001b[0m\u001b[0;34m)\u001b[0m\u001b[0;34m)\u001b[0m\u001b[0;34m\u001b[0m\u001b[0;34m\u001b[0m\u001b[0m\n\u001b[0m\u001b[1;32m   2166\u001b[0m     \u001b[0;32mreturn\u001b[0m \u001b[0mret\u001b[0m\u001b[0;34m\u001b[0m\u001b[0;34m\u001b[0m\u001b[0m\n\u001b[1;32m   2167\u001b[0m \u001b[0;34m\u001b[0m\u001b[0m\n",
      "\u001b[0;31mKeyboardInterrupt\u001b[0m: "
     ]
    }
   ],
   "source": [
    "#pbar = tqdm(total=len(dl))\n",
    "for i in range(100):\n",
    "    for j, batch in enumerate(dl):\n",
    "        for k in batch:\n",
    "            if k == 'label':\n",
    "                batch[k] = batch[k].long()\n",
    "            else:\n",
    "                batch[k] = batch[k].float()\n",
    "            batch[k] = batch[k].cuda()\n",
    "        outputs = model(batch['image'],batch['bbox'])\n",
    "        loss = loss_fn(outputs, batch)\n",
    "        optimizer.zero_grad()\n",
    "        loss['loss'].backward()\n",
    "        optimizer.step()\n",
    "        for k in loss:\n",
    "            loss[k] = loss[k].item()\n",
    "        losses.append(loss)\n",
    "        pbar.update()\n",
    "        pbar.set_description(\"{:.5f} {:.5f} {:.5f} {:.5f} {:.5f}\".format(loss['loss'], loss['cls_loss'], loss['rot_loss'], loss['trans_loss'], loss['true_distance']))\n",
    "        if j % 200 == 0:\n",
    "            clear_output()\n",
    "            plt.figure(figsize=[15, 10])\n",
    "            plt.subplot(3, 2, 1)\n",
    "            plt.plot([l[\"loss\"] for l in losses], alpha=0.2) #second epoch lr =1e-4\n",
    "            plt.plot(smooth(0.1, [l[\"loss\"] for l in losses]))\n",
    "            plt.ylim((0,3))\n",
    "            plt.grid()\n",
    "            plt.subplot(3, 2, 2)\n",
    "            plt.plot([l[\"cls_loss\"] for l in losses], alpha=0.2) #second epoch lr =1e-4\n",
    "            plt.plot(smooth(0.1, [l[\"cls_loss\"] for l in losses]))\n",
    "            plt.ylim((0,0.2))\n",
    "            plt.grid()\n",
    "            plt.subplot(3, 2, 3)\n",
    "            plt.plot([l[\"rot_loss\"] for l in losses], alpha=0.2) #second epoch lr =1e-4\n",
    "            plt.plot(smooth(0.1, [l[\"rot_loss\"] for l in losses]))\n",
    "            plt.ylim((0,0.4))\n",
    "            plt.grid()\n",
    "            plt.subplot(3, 2, 4)\n",
    "            plt.plot([l[\"trans_loss\"] for l in losses], alpha=0.2) #second epoch lr =1e-4\n",
    "            plt.plot(smooth(0.1, [l[\"trans_loss\"] for l in losses]))\n",
    "            plt.ylim((0,4))\n",
    "            plt.grid()\n",
    "            plt.subplot(3, 2, 5)\n",
    "            plt.plot([l[\"true_distance\"] for l in losses if 'true_distance' in l], alpha=0.2) #second epoch lr =1e-4\n",
    "            plt.plot(smooth(0.1, [l[\"true_distance\"] for l in losses if 'true_distance' in l]))\n",
    "            plt.ylim((0,4))\n",
    "            plt.grid()\n",
    "            plt.show()\n",
    "    sd = optimizer.state_dict()\n",
    "    sd['param_groups'][0]['lr'] = sd['param_groups'][0]['lr']/2\n",
    "    optimizer.load_state_dict(sd)"
   ]
  },
  {
   "cell_type": "markdown",
   "metadata": {},
   "source": [
    "model.load_state_dict(torch.load(\"stupid_1501_model.pth\"))"
   ]
  },
  {
   "cell_type": "code",
   "execution_count": 36,
   "metadata": {},
   "outputs": [],
   "source": [
    "%autoreload 0"
   ]
  },
  {
   "cell_type": "markdown",
   "metadata": {},
   "source": [
    "torch.save(model.state_dict(), \"model_16-01-17:30.pth\") \n",
    "torch.save(optimizer.state_dict(), \"optim_16-01-17:30.pth\")"
   ]
  },
  {
   "cell_type": "markdown",
   "metadata": {},
   "source": [
    "model.load_state_dict(torch.load(\"model_16-01-11:11.pth\"))"
   ]
  },
  {
   "cell_type": "code",
   "execution_count": 37,
   "metadata": {
    "scrolled": true
   },
   "outputs": [
    {
     "name": "stderr",
     "output_type": "stream",
     "text": [
      "\n",
      "  0%|          | 0/402 [00:00<?, ?it/s]\u001b[A\n",
      "  0%|          | 1/402 [00:00<04:40,  1.43it/s]\u001b[A\n",
      "  0%|          | 2/402 [00:00<03:33,  1.87it/s]\u001b[A\n",
      "  1%|          | 3/402 [00:01<03:07,  2.12it/s]\u001b[A\n",
      "  1%|          | 4/402 [00:01<02:29,  2.67it/s]\u001b[A\n",
      "  1%|          | 5/402 [00:01<02:31,  2.62it/s]\u001b[A\n",
      "  1%|▏         | 6/402 [00:01<02:03,  3.21it/s]\u001b[A\n",
      "  2%|▏         | 7/402 [00:02<01:58,  3.33it/s]\u001b[A\n",
      "  2%|▏         | 8/402 [00:02<01:40,  3.94it/s]\u001b[A\n",
      "  2%|▏         | 9/402 [00:02<01:38,  3.99it/s]\u001b[A\n",
      "  2%|▏         | 10/402 [00:02<01:27,  4.47it/s]\u001b[A\n",
      "  3%|▎         | 11/402 [00:02<01:31,  4.27it/s]\u001b[A\n",
      "  3%|▎         | 12/402 [00:03<01:20,  4.84it/s]\u001b[A\n",
      "  3%|▎         | 13/402 [00:03<01:43,  3.74it/s]\u001b[A\n",
      "  3%|▎         | 14/402 [00:03<01:30,  4.29it/s]\u001b[A\n",
      "  4%|▎         | 15/402 [00:03<01:21,  4.73it/s]\u001b[A\n",
      "  4%|▍         | 16/402 [00:03<01:15,  5.09it/s]\u001b[A\n",
      "  4%|▍         | 17/402 [00:04<01:15,  5.08it/s]\u001b[A\n",
      "  4%|▍         | 18/402 [00:04<01:09,  5.55it/s]\u001b[A\n",
      "  5%|▍         | 19/402 [00:04<01:04,  5.97it/s]\u001b[A\n",
      "  5%|▍         | 20/402 [00:04<01:08,  5.59it/s]\u001b[A\n",
      "  5%|▌         | 21/402 [00:04<01:03,  5.96it/s]\u001b[A\n",
      "  5%|▌         | 22/402 [00:05<01:15,  5.03it/s]\u001b[A\n",
      "  6%|▌         | 23/402 [00:05<01:10,  5.39it/s]\u001b[A\n",
      "  6%|▌         | 24/402 [00:05<01:06,  5.65it/s]\u001b[A\n",
      "  6%|▌         | 25/402 [00:05<01:03,  5.94it/s]\u001b[A\n",
      "  6%|▋         | 26/402 [00:05<01:11,  5.28it/s]\u001b[A\n",
      "  7%|▋         | 27/402 [00:05<01:05,  5.70it/s]\u001b[A\n",
      "  7%|▋         | 28/402 [00:06<01:01,  6.04it/s]\u001b[A\n",
      "  7%|▋         | 29/402 [00:06<00:59,  6.25it/s]\u001b[A\n",
      "  7%|▋         | 30/402 [00:06<01:01,  6.02it/s]\u001b[A\n",
      "  8%|▊         | 31/402 [00:06<01:00,  6.18it/s]\u001b[A\n",
      "  8%|▊         | 32/402 [00:06<00:57,  6.38it/s]\u001b[A\n",
      "  8%|▊         | 33/402 [00:06<00:55,  6.65it/s]\u001b[A\n",
      "  8%|▊         | 34/402 [00:06<00:53,  6.90it/s]\u001b[A\n",
      "  9%|▊         | 35/402 [00:07<00:56,  6.50it/s]\u001b[A\n",
      "  9%|▉         | 36/402 [00:07<00:54,  6.76it/s]\u001b[A\n",
      "  9%|▉         | 37/402 [00:07<01:03,  5.76it/s]\u001b[A\n",
      "  9%|▉         | 38/402 [00:07<00:59,  6.15it/s]\u001b[A\n",
      " 10%|▉         | 39/402 [00:07<01:09,  5.22it/s]\u001b[A\n",
      " 10%|▉         | 40/402 [00:08<01:02,  5.77it/s]\u001b[A\n",
      " 10%|█         | 41/402 [00:08<01:04,  5.60it/s]\u001b[A\n",
      " 10%|█         | 42/402 [00:08<00:59,  6.04it/s]\u001b[A\n",
      " 11%|█         | 43/402 [00:08<01:08,  5.25it/s]\u001b[A\n",
      " 11%|█         | 44/402 [00:08<01:06,  5.35it/s]\u001b[A\n",
      " 11%|█         | 45/402 [00:09<01:12,  4.90it/s]\u001b[A\n",
      " 11%|█▏        | 46/402 [00:09<01:05,  5.43it/s]\u001b[A\n",
      " 12%|█▏        | 47/402 [00:09<01:21,  4.34it/s]\u001b[A\n",
      " 12%|█▏        | 48/402 [00:09<01:14,  4.77it/s]\u001b[A\n",
      " 12%|█▏        | 49/402 [00:09<01:20,  4.40it/s]\u001b[A\n",
      " 12%|█▏        | 50/402 [00:10<01:11,  4.92it/s]\u001b[A\n",
      " 13%|█▎        | 51/402 [00:10<01:10,  5.01it/s]\u001b[A\n",
      " 13%|█▎        | 52/402 [00:10<01:02,  5.56it/s]\u001b[A\n",
      " 13%|█▎        | 53/402 [00:10<00:58,  5.99it/s]\u001b[A\n",
      " 13%|█▎        | 54/402 [00:10<00:54,  6.37it/s]\u001b[A\n",
      " 14%|█▎        | 55/402 [00:10<00:53,  6.50it/s]\u001b[A\n",
      " 14%|█▍        | 56/402 [00:10<00:50,  6.81it/s]\u001b[A\n",
      " 14%|█▍        | 57/402 [00:11<00:52,  6.52it/s]\u001b[A\n",
      " 14%|█▍        | 58/402 [00:11<00:55,  6.24it/s]\u001b[A\n",
      " 15%|█▍        | 59/402 [00:11<01:00,  5.67it/s]\u001b[A\n",
      " 15%|█▍        | 60/402 [00:11<01:09,  4.93it/s]\u001b[A\n",
      " 15%|█▌        | 61/402 [00:11<01:05,  5.21it/s]\u001b[A\n",
      " 15%|█▌        | 62/402 [00:12<01:13,  4.65it/s]\u001b[A\n",
      " 16%|█▌        | 63/402 [00:12<01:05,  5.20it/s]\u001b[A\n",
      " 16%|█▌        | 64/402 [00:12<01:17,  4.36it/s]\u001b[A\n",
      " 16%|█▌        | 65/402 [00:12<01:07,  5.00it/s]\u001b[A\n",
      " 16%|█▋        | 66/402 [00:13<01:14,  4.53it/s]\u001b[A\n",
      " 17%|█▋        | 67/402 [00:13<01:04,  5.16it/s]\u001b[A\n",
      " 17%|█▋        | 68/402 [00:13<01:10,  4.73it/s]\u001b[A\n",
      " 17%|█▋        | 69/402 [00:13<01:04,  5.16it/s]\u001b[A\n",
      " 17%|█▋        | 70/402 [00:13<01:00,  5.52it/s]\u001b[A\n",
      " 18%|█▊        | 71/402 [00:13<00:55,  5.93it/s]\u001b[A\n",
      " 18%|█▊        | 72/402 [00:14<00:52,  6.30it/s]\u001b[A\n",
      " 18%|█▊        | 73/402 [00:14<00:51,  6.41it/s]\u001b[A\n",
      " 18%|█▊        | 74/402 [00:14<00:49,  6.56it/s]\u001b[A\n",
      " 19%|█▊        | 75/402 [00:14<01:11,  4.55it/s]\u001b[A\n",
      " 19%|█▉        | 76/402 [00:14<01:02,  5.18it/s]\u001b[A\n",
      " 19%|█▉        | 77/402 [00:14<00:58,  5.59it/s]\u001b[A\n",
      " 19%|█▉        | 78/402 [00:15<00:54,  5.93it/s]\u001b[A\n",
      " 20%|█▉        | 79/402 [00:15<00:58,  5.51it/s]\u001b[A\n",
      " 20%|█▉        | 80/402 [00:15<00:54,  5.92it/s]\u001b[A\n",
      " 20%|██        | 81/402 [00:15<01:05,  4.89it/s]\u001b[A\n",
      " 20%|██        | 82/402 [00:15<00:58,  5.48it/s]\u001b[A\n",
      " 21%|██        | 83/402 [00:16<01:06,  4.77it/s]\u001b[A\n",
      " 21%|██        | 84/402 [00:16<00:59,  5.37it/s]\u001b[A\n",
      " 21%|██        | 85/402 [00:16<01:01,  5.17it/s]\u001b[A\n",
      " 21%|██▏       | 86/402 [00:16<00:55,  5.70it/s]\u001b[A\n",
      " 22%|██▏       | 87/402 [00:16<00:59,  5.28it/s]\u001b[A\n",
      " 22%|██▏       | 88/402 [00:16<00:55,  5.69it/s]\u001b[A\n",
      " 22%|██▏       | 89/402 [00:17<00:52,  6.01it/s]\u001b[A\n",
      " 22%|██▏       | 90/402 [00:17<00:49,  6.32it/s]\u001b[A\n",
      " 23%|██▎       | 91/402 [00:17<00:46,  6.63it/s]\u001b[A\n",
      " 23%|██▎       | 92/402 [00:17<00:45,  6.86it/s]\u001b[A\n",
      " 23%|██▎       | 93/402 [00:17<00:44,  7.02it/s]\u001b[A\n",
      " 23%|██▎       | 94/402 [00:17<00:43,  7.10it/s]\u001b[A\n",
      " 24%|██▎       | 95/402 [00:17<00:44,  6.97it/s]\u001b[A\n",
      " 24%|██▍       | 96/402 [00:18<00:43,  7.07it/s]\u001b[A\n",
      " 24%|██▍       | 97/402 [00:18<00:43,  7.01it/s]\u001b[A\n",
      " 24%|██▍       | 98/402 [00:18<00:51,  5.87it/s]\u001b[A\n",
      " 25%|██▍       | 99/402 [00:18<00:48,  6.27it/s]\u001b[A\n",
      " 25%|██▍       | 100/402 [00:18<00:56,  5.31it/s]\u001b[A\n",
      " 25%|██▌       | 101/402 [00:19<00:52,  5.79it/s]\u001b[A\n",
      " 25%|██▌       | 102/402 [00:19<00:54,  5.48it/s]\u001b[A\n",
      " 26%|██▌       | 103/402 [00:19<00:53,  5.61it/s]\u001b[A\n",
      " 26%|██▌       | 104/402 [00:19<00:58,  5.07it/s]\u001b[A\n",
      " 26%|██▌       | 105/402 [00:19<00:53,  5.52it/s]\u001b[A\n",
      " 26%|██▋       | 106/402 [00:20<01:08,  4.34it/s]\u001b[A\n",
      " 27%|██▋       | 107/402 [00:20<01:00,  4.87it/s]\u001b[A\n",
      " 27%|██▋       | 108/402 [00:20<01:01,  4.81it/s]\u001b[A\n",
      " 27%|██▋       | 109/402 [00:20<00:55,  5.31it/s]\u001b[A\n",
      " 27%|██▋       | 110/402 [00:20<00:55,  5.23it/s]\u001b[A\n",
      " 28%|██▊       | 111/402 [00:20<00:51,  5.64it/s]\u001b[A\n",
      " 28%|██▊       | 112/402 [00:21<00:56,  5.18it/s]\u001b[A\n",
      " 28%|██▊       | 113/402 [00:21<00:50,  5.68it/s]\u001b[A\n",
      " 28%|██▊       | 114/402 [00:21<00:55,  5.21it/s]\u001b[A\n",
      " 29%|██▊       | 115/402 [00:21<00:49,  5.76it/s]\u001b[A\n",
      " 29%|██▉       | 116/402 [00:22<01:01,  4.63it/s]\u001b[A\n",
      " 29%|██▉       | 117/402 [00:22<00:54,  5.24it/s]\u001b[A\n",
      " 29%|██▉       | 118/402 [00:22<00:53,  5.34it/s]\u001b[A\n",
      " 30%|██▉       | 119/402 [00:22<00:49,  5.76it/s]\u001b[A\n",
      " 30%|██▉       | 120/402 [00:22<00:45,  6.21it/s]\u001b[A\n",
      " 30%|███       | 121/402 [00:22<00:44,  6.26it/s]\u001b[A\n",
      " 30%|███       | 122/402 [00:22<00:42,  6.61it/s]\u001b[A\n",
      " 31%|███       | 123/402 [00:23<00:41,  6.66it/s]\u001b[A\n",
      " 31%|███       | 124/402 [00:23<00:40,  6.89it/s]\u001b[A\n",
      " 31%|███       | 125/402 [00:23<00:39,  7.10it/s]\u001b[A\n",
      " 31%|███▏      | 126/402 [00:23<00:38,  7.16it/s]\u001b[A\n",
      " 32%|███▏      | 127/402 [00:23<00:41,  6.68it/s]\u001b[A\n",
      " 32%|███▏      | 128/402 [00:23<00:39,  6.94it/s]\u001b[A\n",
      " 32%|███▏      | 129/402 [00:24<00:52,  5.15it/s]\u001b[A\n",
      " 32%|███▏      | 130/402 [00:24<00:49,  5.54it/s]\u001b[A\n",
      " 33%|███▎      | 131/402 [00:24<00:50,  5.41it/s]\u001b[A\n",
      " 33%|███▎      | 132/402 [00:24<00:46,  5.80it/s]\u001b[A\n",
      " 33%|███▎      | 133/402 [00:24<00:53,  5.03it/s]\u001b[A\n",
      " 33%|███▎      | 134/402 [00:24<00:48,  5.51it/s]\u001b[A\n",
      " 34%|███▎      | 135/402 [00:25<00:46,  5.76it/s]\u001b[A\n",
      " 34%|███▍      | 136/402 [00:25<00:42,  6.21it/s]\u001b[A\n",
      " 34%|███▍      | 137/402 [00:25<00:41,  6.40it/s]\u001b[A\n",
      " 34%|███▍      | 138/402 [00:25<00:39,  6.66it/s]\u001b[A\n",
      " 35%|███▍      | 139/402 [00:25<00:39,  6.69it/s]\u001b[A\n",
      " 35%|███▍      | 140/402 [00:25<00:37,  6.94it/s]\u001b[A\n",
      " 35%|███▌      | 141/402 [00:25<00:37,  7.03it/s]\u001b[A\n",
      " 35%|███▌      | 142/402 [00:26<00:36,  7.20it/s]\u001b[A\n",
      " 36%|███▌      | 143/402 [00:26<00:35,  7.22it/s]\u001b[A\n",
      " 36%|███▌      | 144/402 [00:26<00:40,  6.38it/s]\u001b[A\n",
      " 36%|███▌      | 145/402 [00:26<00:48,  5.31it/s]\u001b[A\n",
      " 36%|███▋      | 146/402 [00:26<00:49,  5.20it/s]\u001b[A\n",
      " 37%|███▋      | 147/402 [00:27<00:54,  4.68it/s]\u001b[A\n",
      " 37%|███▋      | 148/402 [00:27<00:48,  5.24it/s]\u001b[A\n",
      " 37%|███▋      | 149/402 [00:27<01:05,  3.88it/s]\u001b[A\n",
      " 37%|███▋      | 150/402 [00:27<00:59,  4.24it/s]\u001b[A\n",
      " 38%|███▊      | 151/402 [00:28<01:12,  3.45it/s]\u001b[A\n",
      " 38%|███▊      | 152/402 [00:28<01:02,  4.00it/s]\u001b[A\n",
      " 38%|███▊      | 153/402 [00:28<01:06,  3.73it/s]\u001b[A\n",
      " 38%|███▊      | 154/402 [00:28<01:00,  4.07it/s]\u001b[A\n",
      " 39%|███▊      | 155/402 [00:29<01:09,  3.55it/s]\u001b[A\n"
     ]
    },
    {
     "name": "stderr",
     "output_type": "stream",
     "text": [
      " 39%|███▉      | 156/402 [00:29<00:58,  4.21it/s]\u001b[A\n",
      " 39%|███▉      | 157/402 [00:29<01:09,  3.53it/s]\u001b[A\n",
      " 39%|███▉      | 158/402 [00:29<00:59,  4.08it/s]\u001b[A\n",
      " 40%|███▉      | 159/402 [00:30<01:00,  3.99it/s]\u001b[A\n",
      " 40%|███▉      | 160/402 [00:30<00:53,  4.53it/s]\u001b[A\n",
      " 40%|████      | 161/402 [00:30<00:56,  4.30it/s]\u001b[A\n",
      " 40%|████      | 162/402 [00:30<00:48,  4.95it/s]\u001b[A\n",
      " 41%|████      | 163/402 [00:31<01:00,  3.92it/s]\u001b[A\n",
      " 41%|████      | 164/402 [00:31<00:53,  4.48it/s]\u001b[A\n",
      " 41%|████      | 165/402 [00:31<01:03,  3.72it/s]\u001b[A\n",
      " 41%|████▏     | 166/402 [00:31<00:54,  4.33it/s]\u001b[A\n",
      " 42%|████▏     | 167/402 [00:32<00:53,  4.38it/s]\u001b[A\n",
      " 42%|████▏     | 168/402 [00:32<00:50,  4.62it/s]\u001b[A\n",
      " 42%|████▏     | 169/402 [00:32<00:53,  4.33it/s]\u001b[A\n",
      " 42%|████▏     | 170/402 [00:32<00:48,  4.78it/s]\u001b[A\n",
      " 43%|████▎     | 171/402 [00:32<00:56,  4.11it/s]\u001b[A\n",
      " 43%|████▎     | 172/402 [00:33<00:49,  4.69it/s]\u001b[A\n",
      " 43%|████▎     | 173/402 [00:33<01:09,  3.28it/s]\u001b[A\n",
      " 43%|████▎     | 174/402 [00:33<00:59,  3.86it/s]\u001b[A\n",
      " 44%|████▎     | 175/402 [00:34<01:05,  3.48it/s]\u001b[A\n",
      " 44%|████▍     | 176/402 [00:34<00:55,  4.06it/s]\u001b[A\n",
      " 44%|████▍     | 177/402 [00:34<00:58,  3.83it/s]\u001b[A\n",
      " 44%|████▍     | 178/402 [00:34<00:50,  4.47it/s]\u001b[A\n",
      " 45%|████▍     | 179/402 [00:35<01:03,  3.54it/s]\u001b[A\n",
      " 45%|████▍     | 180/402 [00:35<00:52,  4.21it/s]\u001b[A\n",
      " 45%|████▌     | 181/402 [00:35<00:56,  3.92it/s]\u001b[A\n",
      " 45%|████▌     | 182/402 [00:35<00:51,  4.30it/s]\u001b[A\n",
      " 46%|████▌     | 183/402 [00:36<00:54,  3.99it/s]\u001b[A\n",
      " 46%|████▌     | 184/402 [00:36<00:48,  4.47it/s]\u001b[A\n",
      " 46%|████▌     | 185/402 [00:36<00:50,  4.27it/s]\u001b[A\n",
      " 46%|████▋     | 186/402 [00:36<00:43,  4.91it/s]\u001b[A\n",
      " 47%|████▋     | 187/402 [00:36<00:52,  4.07it/s]\u001b[A\n",
      " 47%|████▋     | 188/402 [00:37<00:47,  4.50it/s]\u001b[A\n",
      " 47%|████▋     | 189/402 [00:37<01:02,  3.38it/s]\u001b[A\n",
      " 47%|████▋     | 190/402 [00:37<00:53,  3.96it/s]\u001b[A\n",
      " 48%|████▊     | 191/402 [00:38<01:04,  3.30it/s]\u001b[A\n",
      " 48%|████▊     | 192/402 [00:38<00:53,  3.89it/s]\u001b[A\n",
      " 48%|████▊     | 193/402 [00:38<00:54,  3.85it/s]\u001b[A\n",
      " 48%|████▊     | 194/402 [00:38<00:46,  4.44it/s]\u001b[A\n",
      " 49%|████▊     | 195/402 [00:39<01:06,  3.13it/s]\u001b[A\n",
      " 49%|████▉     | 196/402 [00:39<00:55,  3.69it/s]\u001b[A\n",
      " 49%|████▉     | 197/402 [00:39<00:52,  3.91it/s]\u001b[A\n",
      " 49%|████▉     | 198/402 [00:39<00:45,  4.45it/s]\u001b[A\n",
      " 50%|████▉     | 199/402 [00:40<01:02,  3.26it/s]\u001b[A\n",
      " 50%|████▉     | 200/402 [00:40<00:52,  3.85it/s]\u001b[A\n",
      " 50%|█████     | 201/402 [00:40<00:59,  3.37it/s]\u001b[A\n",
      " 50%|█████     | 202/402 [00:40<00:50,  3.99it/s]\u001b[A\n",
      " 50%|█████     | 203/402 [00:41<01:00,  3.30it/s]\u001b[A\n",
      " 51%|█████     | 204/402 [00:41<00:49,  3.98it/s]\u001b[A\n",
      " 51%|█████     | 205/402 [00:41<00:59,  3.29it/s]\u001b[A\n",
      " 51%|█████     | 206/402 [00:42<00:50,  3.88it/s]\u001b[A\n",
      " 51%|█████▏    | 207/402 [00:42<00:58,  3.32it/s]\u001b[A\n",
      " 52%|█████▏    | 208/402 [00:42<00:50,  3.84it/s]\u001b[A\n",
      " 52%|█████▏    | 209/402 [00:42<00:51,  3.78it/s]\u001b[A\n",
      " 52%|█████▏    | 210/402 [00:43<00:46,  4.11it/s]\u001b[A\n",
      " 52%|█████▏    | 211/402 [00:43<00:39,  4.78it/s]\u001b[A\n",
      " 53%|█████▎    | 212/402 [00:43<00:36,  5.19it/s]\u001b[A\n",
      " 53%|█████▎    | 213/402 [00:43<00:43,  4.32it/s]\u001b[A\n",
      " 53%|█████▎    | 214/402 [00:43<00:37,  4.96it/s]\u001b[A\n",
      " 53%|█████▎    | 215/402 [00:44<00:42,  4.39it/s]\u001b[A\n",
      " 54%|█████▎    | 216/402 [00:44<00:37,  4.98it/s]\u001b[A\n",
      " 54%|█████▍    | 217/402 [00:44<00:52,  3.53it/s]\u001b[A\n",
      " 54%|█████▍    | 218/402 [00:44<00:43,  4.20it/s]\u001b[A\n",
      " 54%|█████▍    | 219/402 [00:45<00:46,  3.98it/s]\u001b[A\n",
      " 55%|█████▍    | 220/402 [00:45<00:39,  4.62it/s]\u001b[A\n",
      " 55%|█████▍    | 221/402 [00:45<00:48,  3.71it/s]\u001b[A\n",
      " 55%|█████▌    | 222/402 [00:45<00:41,  4.36it/s]\u001b[A\n",
      " 55%|█████▌    | 223/402 [00:46<00:39,  4.48it/s]\u001b[A\n",
      " 56%|█████▌    | 224/402 [00:46<00:35,  5.00it/s]\u001b[A\n",
      " 56%|█████▌    | 225/402 [00:46<00:34,  5.19it/s]\u001b[A\n",
      " 56%|█████▌    | 226/402 [00:46<00:31,  5.55it/s]\u001b[A\n",
      " 56%|█████▋    | 227/402 [00:46<00:35,  4.94it/s]\u001b[A\n",
      " 57%|█████▋    | 228/402 [00:46<00:32,  5.38it/s]\u001b[A\n",
      " 57%|█████▋    | 229/402 [00:47<00:34,  5.07it/s]\u001b[A\n",
      " 57%|█████▋    | 230/402 [00:47<00:31,  5.41it/s]\u001b[A\n",
      " 57%|█████▋    | 231/402 [00:47<00:33,  5.13it/s]\u001b[A\n",
      " 58%|█████▊    | 232/402 [00:47<00:30,  5.50it/s]\u001b[A\n",
      " 58%|█████▊    | 233/402 [00:48<00:37,  4.47it/s]\u001b[A\n",
      " 58%|█████▊    | 234/402 [00:48<00:33,  5.00it/s]\u001b[A\n",
      " 58%|█████▊    | 235/402 [00:48<00:42,  3.91it/s]\u001b[A\n",
      " 59%|█████▊    | 236/402 [00:48<00:36,  4.49it/s]\u001b[A\n",
      " 59%|█████▉    | 237/402 [00:49<00:42,  3.90it/s]\u001b[A\n",
      " 59%|█████▉    | 238/402 [00:49<00:38,  4.27it/s]\u001b[A\n",
      " 59%|█████▉    | 239/402 [00:49<00:36,  4.52it/s]\u001b[A\n",
      " 60%|█████▉    | 240/402 [00:49<00:32,  5.00it/s]\u001b[A\n",
      " 60%|█████▉    | 241/402 [00:50<00:47,  3.36it/s]\u001b[A\n",
      " 60%|██████    | 242/402 [00:50<00:40,  3.96it/s]\u001b[A\n",
      " 60%|██████    | 243/402 [00:50<00:45,  3.47it/s]\u001b[A\n",
      " 61%|██████    | 244/402 [00:50<00:38,  4.14it/s]\u001b[A\n",
      " 61%|██████    | 245/402 [00:50<00:33,  4.69it/s]\u001b[A\n",
      " 61%|██████    | 246/402 [00:51<00:37,  4.14it/s]\u001b[A\n",
      " 61%|██████▏   | 247/402 [00:51<00:32,  4.73it/s]\u001b[A\n",
      " 62%|██████▏   | 248/402 [00:51<00:39,  3.91it/s]\u001b[A\n",
      " 62%|██████▏   | 249/402 [00:51<00:34,  4.48it/s]\u001b[A\n",
      " 62%|██████▏   | 250/402 [00:51<00:32,  4.75it/s]\u001b[A\n",
      " 62%|██████▏   | 251/402 [00:52<00:28,  5.24it/s]\u001b[A\n",
      " 63%|██████▎   | 252/402 [00:52<00:26,  5.65it/s]\u001b[A\n",
      " 63%|██████▎   | 253/402 [00:52<00:24,  6.12it/s]\u001b[A\n",
      " 63%|██████▎   | 254/402 [00:52<00:26,  5.51it/s]\u001b[A\n",
      " 63%|██████▎   | 255/402 [00:52<00:25,  5.85it/s]\u001b[A\n",
      " 64%|██████▎   | 256/402 [00:53<00:29,  5.01it/s]\u001b[A\n",
      " 64%|██████▍   | 257/402 [00:53<00:26,  5.39it/s]\u001b[A\n",
      " 64%|██████▍   | 258/402 [00:53<00:29,  4.84it/s]\u001b[A\n",
      " 64%|██████▍   | 259/402 [00:53<00:27,  5.23it/s]\u001b[A\n",
      " 65%|██████▍   | 260/402 [00:53<00:30,  4.69it/s]\u001b[A\n",
      " 65%|██████▍   | 261/402 [00:54<00:28,  4.93it/s]\u001b[A\n",
      " 65%|██████▌   | 262/402 [00:54<00:32,  4.31it/s]\u001b[A\n",
      " 65%|██████▌   | 263/402 [00:54<00:30,  4.54it/s]\u001b[A\n",
      " 66%|██████▌   | 264/402 [00:54<00:33,  4.07it/s]\u001b[A\n",
      " 66%|██████▌   | 265/402 [00:55<00:30,  4.46it/s]\u001b[A\n",
      " 66%|██████▌   | 266/402 [00:55<00:43,  3.16it/s]\u001b[A\n",
      " 66%|██████▋   | 267/402 [00:55<00:35,  3.82it/s]\u001b[A\n",
      " 67%|██████▋   | 268/402 [00:56<00:44,  3.05it/s]\u001b[A\n",
      " 67%|██████▋   | 269/402 [00:56<00:36,  3.65it/s]\u001b[A\n",
      " 67%|██████▋   | 270/402 [00:56<00:37,  3.52it/s]\u001b[A\n",
      " 67%|██████▋   | 271/402 [00:56<00:31,  4.10it/s]\u001b[A\n",
      " 68%|██████▊   | 272/402 [00:57<00:37,  3.51it/s]\u001b[A\n",
      " 68%|██████▊   | 273/402 [00:57<00:32,  4.00it/s]\u001b[A\n",
      " 68%|██████▊   | 274/402 [00:57<00:28,  4.47it/s]\u001b[A\n",
      " 68%|██████▊   | 275/402 [00:57<00:25,  5.08it/s]\u001b[A\n",
      " 69%|██████▊   | 276/402 [00:58<00:40,  3.13it/s]\u001b[A\n",
      " 69%|██████▉   | 277/402 [00:58<00:33,  3.72it/s]\u001b[A\n",
      " 69%|██████▉   | 278/402 [00:58<00:40,  3.05it/s]\u001b[A\n",
      " 69%|██████▉   | 279/402 [00:58<00:33,  3.63it/s]\u001b[A\n",
      " 70%|██████▉   | 280/402 [00:59<00:31,  3.90it/s]\u001b[A\n",
      " 70%|██████▉   | 281/402 [00:59<00:26,  4.57it/s]\u001b[A\n",
      " 70%|███████   | 282/402 [00:59<00:35,  3.36it/s]\u001b[A\n",
      " 70%|███████   | 283/402 [00:59<00:29,  4.00it/s]\u001b[A\n",
      " 71%|███████   | 284/402 [01:00<00:30,  3.87it/s]\u001b[A\n",
      " 71%|███████   | 285/402 [01:00<00:25,  4.50it/s]\u001b[A\n",
      " 71%|███████   | 286/402 [01:00<00:34,  3.39it/s]\u001b[A\n",
      " 71%|███████▏  | 287/402 [01:01<00:29,  3.91it/s]\u001b[A\n",
      " 72%|███████▏  | 288/402 [01:01<00:32,  3.53it/s]\u001b[A\n",
      " 72%|███████▏  | 289/402 [01:01<00:27,  4.12it/s]\u001b[A\n",
      " 72%|███████▏  | 290/402 [01:01<00:26,  4.23it/s]\u001b[A\n",
      " 72%|███████▏  | 291/402 [01:01<00:22,  4.86it/s]\u001b[A\n",
      " 73%|███████▎  | 292/402 [01:02<00:25,  4.30it/s]\u001b[A\n",
      " 73%|███████▎  | 293/402 [01:02<00:22,  4.88it/s]\u001b[A\n",
      " 73%|███████▎  | 294/402 [01:02<00:25,  4.21it/s]\u001b[A\n",
      " 73%|███████▎  | 295/402 [01:02<00:24,  4.45it/s]\u001b[A\n",
      " 74%|███████▎  | 296/402 [01:03<00:28,  3.76it/s]\u001b[A\n",
      " 74%|███████▍  | 297/402 [01:03<00:23,  4.38it/s]\u001b[A\n",
      " 74%|███████▍  | 298/402 [01:03<00:29,  3.56it/s]\u001b[A\n",
      " 74%|███████▍  | 299/402 [01:03<00:24,  4.19it/s]\u001b[A\n",
      " 75%|███████▍  | 300/402 [01:04<00:24,  4.15it/s]\u001b[A\n",
      " 75%|███████▍  | 301/402 [01:04<00:21,  4.62it/s]\u001b[A\n",
      " 75%|███████▌  | 302/402 [01:04<00:22,  4.37it/s]\u001b[A\n",
      " 75%|███████▌  | 303/402 [01:04<00:21,  4.71it/s]\u001b[A\n",
      " 76%|███████▌  | 304/402 [01:05<00:26,  3.70it/s]\u001b[A\n",
      " 76%|███████▌  | 305/402 [01:05<00:22,  4.33it/s]\u001b[A\n",
      " 76%|███████▌  | 306/402 [01:05<00:24,  3.99it/s]\u001b[A\n",
      " 76%|███████▋  | 307/402 [01:05<00:21,  4.45it/s]\u001b[A\n",
      " 77%|███████▋  | 308/402 [01:06<00:26,  3.53it/s]\u001b[A\n",
      " 77%|███████▋  | 309/402 [01:06<00:23,  4.01it/s]\u001b[A\n"
     ]
    },
    {
     "name": "stderr",
     "output_type": "stream",
     "text": [
      " 77%|███████▋  | 310/402 [01:06<00:23,  3.92it/s]\u001b[A\n",
      " 77%|███████▋  | 311/402 [01:06<00:20,  4.50it/s]\u001b[A\n",
      " 78%|███████▊  | 312/402 [01:06<00:22,  4.09it/s]\u001b[A\n",
      " 78%|███████▊  | 313/402 [01:07<00:19,  4.68it/s]\u001b[A\n",
      " 78%|███████▊  | 314/402 [01:07<00:18,  4.68it/s]\u001b[A\n",
      " 78%|███████▊  | 315/402 [01:07<00:17,  5.10it/s]\u001b[A\n",
      " 79%|███████▊  | 316/402 [01:07<00:17,  4.87it/s]\u001b[A\n",
      " 79%|███████▉  | 317/402 [01:07<00:15,  5.33it/s]\u001b[A\n",
      " 79%|███████▉  | 318/402 [01:08<00:15,  5.27it/s]\u001b[A\n",
      " 79%|███████▉  | 319/402 [01:08<00:14,  5.57it/s]\u001b[A\n",
      " 80%|███████▉  | 320/402 [01:08<00:21,  3.88it/s]\u001b[A\n",
      " 80%|███████▉  | 321/402 [01:08<00:19,  4.07it/s]\u001b[A\n",
      " 80%|████████  | 322/402 [01:09<00:19,  4.12it/s]\u001b[A\n",
      " 80%|████████  | 323/402 [01:09<00:18,  4.22it/s]\u001b[A\n",
      " 81%|████████  | 324/402 [01:09<00:23,  3.28it/s]\u001b[A\n",
      " 81%|████████  | 325/402 [01:09<00:19,  3.96it/s]\u001b[A\n",
      " 81%|████████  | 326/402 [01:10<00:25,  2.96it/s]\u001b[A\n",
      " 81%|████████▏ | 327/402 [01:10<00:21,  3.55it/s]\u001b[A\n",
      " 82%|████████▏ | 328/402 [01:11<00:22,  3.27it/s]\u001b[A\n",
      " 82%|████████▏ | 329/402 [01:11<00:19,  3.84it/s]\u001b[A\n",
      " 82%|████████▏ | 330/402 [01:11<00:23,  3.01it/s]\u001b[A\n",
      " 82%|████████▏ | 331/402 [01:11<00:19,  3.65it/s]\u001b[A\n",
      " 83%|████████▎ | 332/402 [01:12<00:21,  3.31it/s]\u001b[A\n",
      " 83%|████████▎ | 333/402 [01:12<00:17,  3.89it/s]\u001b[A\n",
      " 83%|████████▎ | 334/402 [01:12<00:18,  3.58it/s]\u001b[A\n",
      " 83%|████████▎ | 335/402 [01:12<00:15,  4.21it/s]\u001b[A\n",
      " 84%|████████▎ | 336/402 [01:13<00:18,  3.54it/s]\u001b[A\n",
      " 84%|████████▍ | 337/402 [01:13<00:15,  4.22it/s]\u001b[A\n",
      " 84%|████████▍ | 338/402 [01:13<00:14,  4.50it/s]\u001b[A\n",
      " 84%|████████▍ | 339/402 [01:13<00:12,  5.03it/s]\u001b[A\n",
      " 85%|████████▍ | 340/402 [01:13<00:11,  5.44it/s]\u001b[A\n",
      " 85%|████████▍ | 341/402 [01:13<00:10,  5.82it/s]\u001b[A\n",
      " 85%|████████▌ | 342/402 [01:14<00:12,  4.82it/s]\u001b[A\n",
      " 85%|████████▌ | 343/402 [01:14<00:11,  5.29it/s]\u001b[A\n",
      " 86%|████████▌ | 344/402 [01:14<00:13,  4.27it/s]\u001b[A\n",
      " 86%|████████▌ | 345/402 [01:14<00:11,  4.75it/s]\u001b[A\n",
      " 86%|████████▌ | 346/402 [01:15<00:11,  4.67it/s]\u001b[A\n",
      " 86%|████████▋ | 347/402 [01:15<00:10,  5.17it/s]\u001b[A\n",
      " 87%|████████▋ | 348/402 [01:15<00:12,  4.45it/s]\u001b[A\n",
      " 87%|████████▋ | 349/402 [01:15<00:10,  4.92it/s]\u001b[A\n",
      " 87%|████████▋ | 350/402 [01:16<00:13,  3.81it/s]\u001b[A\n",
      " 87%|████████▋ | 351/402 [01:16<00:11,  4.39it/s]\u001b[A\n",
      " 88%|████████▊ | 352/402 [01:16<00:12,  3.87it/s]\u001b[A\n",
      " 88%|████████▊ | 353/402 [01:16<00:11,  4.41it/s]\u001b[A\n",
      " 88%|████████▊ | 354/402 [01:16<00:10,  4.41it/s]\u001b[A\n",
      " 88%|████████▊ | 355/402 [01:17<00:09,  4.88it/s]\u001b[A\n",
      " 89%|████████▊ | 356/402 [01:17<00:09,  5.09it/s]\u001b[A\n",
      " 89%|████████▉ | 357/402 [01:17<00:07,  5.63it/s]\u001b[A\n",
      " 89%|████████▉ | 358/402 [01:17<00:09,  4.87it/s]\u001b[A\n",
      " 89%|████████▉ | 359/402 [01:17<00:08,  5.25it/s]\u001b[A\n",
      " 90%|████████▉ | 360/402 [01:18<00:09,  4.39it/s]\u001b[A\n",
      " 90%|████████▉ | 361/402 [01:18<00:08,  4.90it/s]\u001b[A\n",
      " 90%|█████████ | 362/402 [01:18<00:10,  3.70it/s]\u001b[A\n",
      " 90%|█████████ | 363/402 [01:18<00:09,  4.29it/s]\u001b[A\n",
      " 91%|█████████ | 364/402 [01:19<00:11,  3.31it/s]\u001b[A\n",
      " 91%|█████████ | 365/402 [01:19<00:09,  3.91it/s]\u001b[A\n",
      " 91%|█████████ | 366/402 [01:19<00:10,  3.56it/s]\u001b[A\n",
      " 91%|█████████▏| 367/402 [01:19<00:08,  4.17it/s]\u001b[A\n",
      " 92%|█████████▏| 368/402 [01:20<00:08,  4.06it/s]\u001b[A\n",
      " 92%|█████████▏| 369/402 [01:20<00:07,  4.71it/s]\u001b[A\n",
      " 92%|█████████▏| 370/402 [01:20<00:09,  3.43it/s]\u001b[A\n",
      " 92%|█████████▏| 371/402 [01:20<00:07,  3.98it/s]\u001b[A\n",
      " 93%|█████████▎| 372/402 [01:21<00:08,  3.44it/s]\u001b[A\n",
      " 93%|█████████▎| 373/402 [01:21<00:07,  4.02it/s]\u001b[A\n",
      " 93%|█████████▎| 374/402 [01:21<00:08,  3.29it/s]\u001b[A\n",
      " 93%|█████████▎| 375/402 [01:22<00:06,  3.94it/s]\u001b[A\n",
      " 94%|█████████▎| 376/402 [01:22<00:06,  4.10it/s]\u001b[A\n",
      " 94%|█████████▍| 377/402 [01:22<00:05,  4.73it/s]\u001b[A\n",
      " 94%|█████████▍| 378/402 [01:22<00:05,  4.69it/s]\u001b[A\n",
      " 94%|█████████▍| 379/402 [01:22<00:04,  4.62it/s]\u001b[A\n",
      " 95%|█████████▍| 380/402 [01:23<00:05,  4.22it/s]\u001b[A\n",
      " 95%|█████████▍| 381/402 [01:23<00:04,  4.71it/s]\u001b[A\n",
      " 95%|█████████▌| 382/402 [01:23<00:05,  3.57it/s]\u001b[A\n",
      " 95%|█████████▌| 383/402 [01:23<00:04,  4.20it/s]\u001b[A\n",
      " 96%|█████████▌| 384/402 [01:24<00:05,  3.28it/s]\u001b[A\n",
      " 96%|█████████▌| 385/402 [01:24<00:04,  3.95it/s]\u001b[A\n",
      " 96%|█████████▌| 386/402 [01:24<00:04,  3.89it/s]\u001b[A\n",
      " 96%|█████████▋| 387/402 [01:24<00:03,  4.47it/s]\u001b[A\n",
      " 97%|█████████▋| 388/402 [01:25<00:03,  4.04it/s]\u001b[A\n",
      " 97%|█████████▋| 389/402 [01:25<00:02,  4.60it/s]\u001b[A\n",
      " 97%|█████████▋| 390/402 [01:25<00:02,  4.60it/s]\u001b[A\n",
      " 97%|█████████▋| 391/402 [01:25<00:02,  5.01it/s]\u001b[A\n",
      " 98%|█████████▊| 392/402 [01:25<00:02,  4.70it/s]\u001b[A\n",
      " 98%|█████████▊| 393/402 [01:26<00:01,  5.18it/s]\u001b[A\n",
      " 98%|█████████▊| 394/402 [01:26<00:01,  4.71it/s]\u001b[A\n",
      " 98%|█████████▊| 395/402 [01:26<00:01,  5.06it/s]\u001b[A\n",
      " 99%|█████████▊| 396/402 [01:26<00:01,  3.81it/s]\u001b[A\n",
      " 99%|█████████▉| 397/402 [01:27<00:01,  4.48it/s]\u001b[A\n",
      " 99%|█████████▉| 398/402 [01:27<00:00,  4.22it/s]\u001b[A\n",
      " 99%|█████████▉| 399/402 [01:27<00:00,  4.85it/s]\u001b[A\n",
      "100%|█████████▉| 400/402 [01:27<00:00,  3.92it/s]\u001b[A\n",
      "100%|█████████▉| 401/402 [01:27<00:00,  4.57it/s]\u001b[A\n",
      "100%|██████████| 402/402 [01:28<00:00,  4.25it/s]\u001b[A"
     ]
    },
    {
     "name": "stdout",
     "output_type": "stream",
     "text": [
      "0.01168886645178828\n"
     ]
    }
   ],
   "source": [
    "pbar = tqdm(total=len(dl))\n",
    "s = 0\n",
    "for batch in dl:\n",
    "    for k in batch:\n",
    "        if k == 'label':\n",
    "            batch[k] = batch[k].long()\n",
    "        else:\n",
    "            batch[k] = batch[k].float()\n",
    "        batch[k] = batch[k].cuda()\n",
    "    with torch.no_grad():\n",
    "        outputs = model(batch['image'],batch['bbox'])\n",
    "    dis_trans = torch.norm(batch['position'] - dist_to_coord(outputs,batch), dim=1)\n",
    "    s += (dis_trans < 0.1).long().sum().item()\n",
    "    pbar.update()\n",
    "print(s / len(ds))"
   ]
  },
  {
   "cell_type": "code",
   "execution_count": 38,
   "metadata": {
    "scrolled": true
   },
   "outputs": [
    {
     "name": "stdout",
     "output_type": "stream",
     "text": [
      "301\n"
     ]
    }
   ],
   "source": [
    "print(s)"
   ]
  },
  {
   "cell_type": "markdown",
   "metadata": {},
   "source": [
    "torch.save(model.state_dict(), \"model_1601_1500.pth\")\n",
    "torch.save(optimizer.state_dict(), \"optim_1601_1500.pth\")"
   ]
  },
  {
   "cell_type": "markdown",
   "metadata": {},
   "source": [
    "plt.plot([l[\"cls_loss\"] for l in losses], alpha=0.2) #second epoch lr =1e-4\n",
    "plt.plot(smooth(0.1, [l[\"cls_loss\"] for l in losses]))\n",
    "plt.ylim((0,0.5))\n",
    "plt.grid()"
   ]
  },
  {
   "cell_type": "markdown",
   "metadata": {
    "scrolled": true
   },
   "source": [
    "# lr = 0.0001\n",
    "plt.plot([l[\"trans_loss\"] for l in losses], alpha=0.2)\n",
    "plt.plot(smooth(0.1, [l[\"trans_loss\"] for l in losses]))\n",
    "plt.ylim(0,30)\n",
    "plt.grid()"
   ]
  },
  {
   "cell_type": "markdown",
   "metadata": {},
   "source": [
    "# lr = 0.001\n",
    "plt.plot([l[\"loss\"] for l in losses], alpha=0.2)\n",
    "plt.plot(smooth(0.1, [l[\"loss\"] for l in losses]))\n",
    "plt.ylim((0,7))\n",
    "plt.grid()"
   ]
  },
  {
   "cell_type": "markdown",
   "metadata": {},
   "source": [
    "# lr = 0.001, LeakyReLU\n",
    "plt.plot([l[\"trans_loss\"] for l in losses], alpha=0.2)\n",
    "plt.plot(smooth(0.1, [l[\"trans_loss\"] for l in losses]))\n",
    "plt.ylim((0,30))\n",
    "plt.grid()"
   ]
  },
  {
   "cell_type": "markdown",
   "metadata": {},
   "source": [
    "# lr = 0.001, ReLU, xavier_normal + constant\n",
    "plt.plot([l[\"trans_loss\"] for l in losses], alpha=0.2)\n",
    "plt.plot(smooth(0.1, [l[\"trans_loss\"] for l in losses]))\n",
    "plt.ylim((0,30))\n",
    "plt.grid()"
   ]
  },
  {
   "cell_type": "markdown",
   "metadata": {},
   "source": [
    "# lr = 0.001, ReLU, kaiming_normal + constant\n",
    "plt.plot([l[\"trans_loss\"] for l in losses], alpha=0.2)\n",
    "plt.plot(smooth(0.1, [l[\"trans_loss\"] for l in losses]))\n",
    "plt.ylim((0,30))\n",
    "plt.grid()"
   ]
  },
  {
   "cell_type": "markdown",
   "metadata": {},
   "source": [
    "# lr = 0.001, LeakyReLU, kaiming_normal + constant\n",
    "plt.plot([l[\"trans_loss\"] for l in losses], alpha=0.2)\n",
    "plt.plot(smooth(0.1, [l[\"trans_loss\"] for l in losses]))\n",
    "plt.ylim((0,30))\n",
    "plt.grid()"
   ]
  },
  {
   "cell_type": "markdown",
   "metadata": {},
   "source": [
    "# lr = 0.001, LeakyReLU, kaiming_normal + constant\n",
    "plt.plot([l[\"trans_loss\"] for l in losses], alpha=0.2)\n",
    "plt.plot(smooth(0.1, [l[\"trans_loss\"] for l in losses]))\n",
    "plt.ylim((0,0.1))\n",
    "plt.grid()"
   ]
  },
  {
   "cell_type": "markdown",
   "metadata": {},
   "source": [
    "# lr = 1E-6, LeakyReLU, kaiming_normal + constant\n",
    "plt.plot([l[\"trans_loss\"] for l in losses], alpha=0.2)\n",
    "plt.plot(smooth(0.1, [l[\"trans_loss\"] for l in losses]))\n",
    "plt.ylim((0,0.1))\n",
    "plt.grid()"
   ]
  },
  {
   "cell_type": "markdown",
   "metadata": {},
   "source": [
    "torch.save(model.state_dict(), \"scare_model.pth\")\n",
    "torch.save(optimizer.state_dict(), \"scare_optim.pth\")"
   ]
  },
  {
   "cell_type": "markdown",
   "metadata": {},
   "source": [
    "batch['orientation']"
   ]
  },
  {
   "cell_type": "markdown",
   "metadata": {},
   "source": [
    "outputs['orientation'] / torch.norm(outputs['orientation'], dim=-1, keepdim=True)"
   ]
  },
  {
   "cell_type": "markdown",
   "metadata": {},
   "source": [
    "torch.sum(torch.abs(outputs['orientation'] / torch.norm(outputs['orientation'], dim=-1, keepdim=True) - batch['orientation']), dim=1)"
   ]
  },
  {
   "cell_type": "markdown",
   "metadata": {},
   "source": [
    "torch.sum((outputs['orientation'] / torch.norm(outputs['orientation'], dim=-1, keepdim=True) - batch['orientation']) ** 2, dim=1) ** 0.5"
   ]
  },
  {
   "cell_type": "markdown",
   "metadata": {},
   "source": [
    "batch['label']"
   ]
  },
  {
   "cell_type": "markdown",
   "metadata": {},
   "source": [
    "torch.argmax(outputs['cls_score'], dim=1)"
   ]
  },
  {
   "cell_type": "markdown",
   "metadata": {},
   "source": [
    "model.backbone"
   ]
  },
  {
   "cell_type": "markdown",
   "metadata": {},
   "source": [
    "nn.Sequential"
   ]
  },
  {
   "cell_type": "markdown",
   "metadata": {},
   "source": [
    "import pandas as pd"
   ]
  },
  {
   "cell_type": "markdown",
   "metadata": {},
   "source": [
    "df = pd.read_csv(C.TRAIN_CSV)"
   ]
  },
  {
   "cell_type": "markdown",
   "metadata": {},
   "source": [
    "df.head()"
   ]
  },
  {
   "cell_type": "markdown",
   "metadata": {},
   "source": [
    "import utils"
   ]
  },
  {
   "cell_type": "markdown",
   "metadata": {},
   "source": [
    "train_anns = utils.load_train_annotations()"
   ]
  },
  {
   "cell_type": "markdown",
   "metadata": {},
   "source": [
    "train_anns[\"ID_8a6e65317\"]"
   ]
  },
  {
   "cell_type": "markdown",
   "metadata": {},
   "source": [
    "orientations_euler = []\n",
    "for k, v in train_anns.items():\n",
    "    for y, p, r in zip(v[\"yaws\"], v[\"pitches\"], v[\"rolls\"]):\n",
    "        orientations_euler.append((-p, -y, -r))"
   ]
  },
  {
   "cell_type": "markdown",
   "metadata": {},
   "source": [
    "len(orientations_euler)"
   ]
  },
  {
   "cell_type": "markdown",
   "metadata": {},
   "source": [
    "from scipy.spatial.transform import rotation as R"
   ]
  },
  {
   "cell_type": "markdown",
   "metadata": {},
   "source": [
    "euler_angles = self.gt[\"annotations\"][idx][self.orientation_field]\n",
    "rotation = R.from_euler(\"XYZ\", euler_angles)\n",
    "q = rotation.as_quat()"
   ]
  },
  {
   "cell_type": "markdown",
   "metadata": {},
   "source": [
    "def quaternion_to_euler_angle(q):\n",
    "\n",
    "    \"\"\"Convert quaternion to euler angel.\n",
    "    Input:\n",
    "        q: 1 * 4 vector,\n",
    "    Output:\n",
    "        angle: 1 x 3 vector, each row is [roll, pitch, yaw]\n",
    "    \"\"\"\n",
    "    w, x, y, z = q\n",
    "    t0 = +2.0 * (w * x + y * z)\n",
    "    t1 = +1.0 - 2.0 * (x * x + y * y)\n",
    "    X = math.atan2(t0, t1)\n",
    "\n",
    "    t2 = +2.0 * (w * y - z * x)\n",
    "    t2 = +1.0 if t2 > +1.0 else t2\n",
    "    t2 = -1.0 if t2 < -1.0 else t2\n",
    "    Y = math.asin(t2)\n",
    "\n",
    "    t3 = +2.0 * (w * z + x * y)\n",
    "    t4 = +1.0 - 2.0 * (y * y + z * z)\n",
    "    Z = math.atan2(t3, t4)\n",
    "\n",
    "    return X, Y, Z"
   ]
  },
  {
   "cell_type": "markdown",
   "metadata": {},
   "source": [
    "def euler_angles_to_quaternions(angle):\n",
    "    \"\"\"Convert euler angels to quaternions representation.\n",
    "    Input:\n",
    "        angle: n x 3 matrix, each row is [roll, pitch, yaw]\n",
    "    Output:\n",
    "        q: n x 4 matrix, each row is corresponding quaternion.\n",
    "    \"\"\"\n",
    "\n",
    "    in_dim = np.ndim(angle)\n",
    "    if in_dim == 1:\n",
    "        angle = angle[None, :]\n",
    "\n",
    "    n = angle.shape[0]\n",
    "    roll, pitch, yaw = angle[:, 0], angle[:, 1], angle[:, 2]\n",
    "    q = np.zeros((n, 4))\n",
    "\n",
    "    cy = np.cos(yaw * 0.5)\n",
    "    sy = np.sin(yaw * 0.5)\n",
    "    cr = np.cos(roll * 0.5)\n",
    "    sr = np.sin(roll * 0.5)\n",
    "    cp = np.cos(pitch * 0.5)\n",
    "    sp = np.sin(pitch * 0.5)\n",
    "\n",
    "    q[:, 0] = cy * cr * cp + sy * sr * sp\n",
    "    q[:, 1] = cy * sr * cp - sy * cr * sp\n",
    "    q[:, 2] = cy * cr * sp + sy * sr * cp\n",
    "    q[:, 3] = sy * cr * cp - cy * sr * sp\n",
    "\n",
    "    return q"
   ]
  },
  {
   "cell_type": "markdown",
   "metadata": {},
   "source": [
    "orientations_euler = np.array(orientations_euler)"
   ]
  },
  {
   "cell_type": "markdown",
   "metadata": {},
   "source": [
    "orientations_quat = euler_angles_to_quaternions(orientations_euler[:, ::-1])"
   ]
  },
  {
   "cell_type": "markdown",
   "metadata": {},
   "source": [
    "orientations_quat[:30]"
   ]
  },
  {
   "cell_type": "markdown",
   "metadata": {},
   "source": [
    "for q in orientations_quat[:100]:\n",
    "    print(q)"
   ]
  },
  {
   "cell_type": "markdown",
   "metadata": {},
   "source": [
    "orientations_quat[0]"
   ]
  },
  {
   "cell_type": "markdown",
   "metadata": {},
   "source": [
    "((orientations_quat[2][1:] / np.sin(np.arccos(orientations_quat[2][0]))) ** 2).sum()"
   ]
  },
  {
   "cell_type": "markdown",
   "metadata": {},
   "source": [
    "((orientations_quat[2][:-1] / np.sin(np.arccos(orientations_quat[2][-1]))) ** 2).sum()"
   ]
  },
  {
   "cell_type": "code",
   "execution_count": null,
   "metadata": {},
   "outputs": [],
   "source": []
  }
 ],
 "metadata": {
  "kernelspec": {
   "display_name": "Python 3",
   "language": "python",
   "name": "python3"
  },
  "language_info": {
   "codemirror_mode": {
    "name": "ipython",
    "version": 3
   },
   "file_extension": ".py",
   "mimetype": "text/x-python",
   "name": "python",
   "nbconvert_exporter": "python",
   "pygments_lexer": "ipython3",
   "version": "3.7.4"
  }
 },
 "nbformat": 4,
 "nbformat_minor": 2
}
