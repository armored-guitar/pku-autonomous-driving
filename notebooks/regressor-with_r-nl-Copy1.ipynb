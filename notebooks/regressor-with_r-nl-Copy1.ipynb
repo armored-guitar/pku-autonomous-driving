{
 "cells": [
  {
   "cell_type": "code",
   "execution_count": 1,
   "metadata": {},
   "outputs": [
    {
     "name": "stdout",
     "output_type": "stream",
     "text": [
      "\u001b[0m\u001b[1;31m                          ./+o+-      \u001b[0m\u001b[1;31m ivb\u001b[0m\u001b[1m@\u001b[0m\u001b[0m\u001b[1;31mcds2\u001b[0m\n",
      "\u001b[0m\u001b[1;37m                  yyyyy- \u001b[0m\u001b[1;31m-yyyyyy+     \u001b[0m\u001b[1;31m OS:\u001b[0m Ubuntu 18.04 bionic\u001b[0m\n",
      "\u001b[0m\u001b[1;37m               \u001b[0m\u001b[1;37m://+//////\u001b[0m\u001b[1;31m-yyyyyyo     \u001b[0m\u001b[1;31m Kernel:\u001b[0m x86_64 Linux 4.15.0-74-generic\u001b[0m\n",
      "\u001b[0m\u001b[1;33m           .++ \u001b[0m\u001b[1;37m.:/++++++/-\u001b[0m\u001b[1;31m.+sss/`     \u001b[0m\u001b[1;31m Uptime:\u001b[0m 1d 12h 13m\u001b[0m\n",
      "\u001b[0m\u001b[1;33m         .:++o:  \u001b[0m\u001b[1;37m/++++++++/:--:/-     \u001b[0m\u001b[1;31m Packages:\u001b[0m 3045\u001b[0m\n",
      "\u001b[0m\u001b[1;33m        o:+o+:++.\u001b[0m\u001b[1;37m`..```.-/oo+++++/    \u001b[0m\u001b[1;31m Shell:\u001b[0m sh\u001b[0m\n",
      "\u001b[0m\u001b[1;33m       .:+o:+o/.\u001b[0m\u001b[1;37m          `+sssoo+/   \u001b[0m\u001b[1;31m CPU:\u001b[0m Intel Xeon Gold 6154 @ 16x 3GHz\u001b[0m\n",
      "\u001b[0m\u001b[1;37m  .++/+:\u001b[0m\u001b[1;33m+oo+o:`\u001b[0m\u001b[1;37m             /sssooo.  \u001b[0m\u001b[1;31m GPU:\u001b[0m Tesla V100-SXM2-32GB, Tesla V100-SXM2-32GB, Tesla V100-SXM2-32GB, Tesla V100-SXM2-32GB\u001b[0m\n",
      "\u001b[0m\u001b[1;37m /+++//+:\u001b[0m\u001b[1;33m`oo+o\u001b[0m\u001b[1;37m               /::--:.  \u001b[0m\u001b[1;31m RAM:\u001b[0m 23044MiB / 128933MiB\u001b[0m\n",
      "\u001b[0m\u001b[1;37m \\+/+o+++\u001b[0m\u001b[1;33m`o++o\u001b[0m\u001b[1;31m               ++////.  \u001b[0m\n",
      "\u001b[0m\u001b[1;37m  .++.o+\u001b[0m\u001b[1;33m++oo+:`\u001b[0m\u001b[1;31m             /dddhhh.  \u001b[0m\n",
      "\u001b[0m\u001b[1;33m       .+.o+oo:.\u001b[0m\u001b[1;31m          `oddhhhh+   \u001b[0m\n",
      "\u001b[0m\u001b[1;33m        \\+.++o+o`\u001b[0m\u001b[1;31m`-````.:ohdhhhhh+    \u001b[0m\n",
      "\u001b[0m\u001b[1;33m         `:o+++ \u001b[0m\u001b[1;31m`ohhhhhhhhyo++os:     \u001b[0m\n",
      "\u001b[0m\u001b[1;33m           .o:\u001b[0m\u001b[1;31m`.syhhhhhhh/\u001b[0m\u001b[1;33m.oo++o`     \u001b[0m\n",
      "\u001b[0m\u001b[1;31m               /osyyyyyyo\u001b[0m\u001b[1;33m++ooo+++/    \u001b[0m\n",
      "\u001b[0m\u001b[1;31m                   ````` \u001b[0m\u001b[1;33m+oo+++o\\:    \u001b[0m\n",
      "\u001b[0m\u001b[1;33m                          `oo++.      \u001b[0m\n"
     ]
    }
   ],
   "source": [
    "!screenfetch"
   ]
  },
  {
   "cell_type": "code",
   "execution_count": 2,
   "metadata": {},
   "outputs": [],
   "source": [
    "# x -50 50\n",
    "# y 0 50\n",
    "# z 0 200"
   ]
  },
  {
   "cell_type": "code",
   "execution_count": 3,
   "metadata": {},
   "outputs": [],
   "source": [
    "%load_ext autoreload\n",
    "%autoreload 2"
   ]
  },
  {
   "cell_type": "code",
   "execution_count": 37,
   "metadata": {},
   "outputs": [],
   "source": [
    "import torch\n",
    "import numpy as np\n",
    "import json\n",
    "import config as C\n",
    "import os\n",
    "import cv2\n",
    "from PIL import Image\n",
    "import matplotlib.pyplot as plt\n",
    "from utils import parse_camera_intrinsic as parse_camera_intrinsic\n",
    "from scipy.spatial.transform import Rotation as R\n",
    "from torch.utils.data import Dataset, DataLoader\n",
    "from torchvision import models\n",
    "from torchvision import transforms as T\n",
    "from torch import nn\n",
    "from tqdm import tqdm\n",
    "import seaborn"
   ]
  },
  {
   "cell_type": "code",
   "execution_count": 5,
   "metadata": {},
   "outputs": [],
   "source": [
    "os.environ['CUDA_VISIBLE_DEVICES'] = '1'"
   ]
  },
  {
   "cell_type": "code",
   "execution_count": 6,
   "metadata": {},
   "outputs": [],
   "source": [
    "with open(C.TRAIN_CROPS_JSON, \"r\") as f:\n",
    "    train_gt = json.load(f)"
   ]
  },
  {
   "cell_type": "code",
   "execution_count": 7,
   "metadata": {
    "scrolled": true
   },
   "outputs": [
    {
     "data": {
      "text/plain": [
       "{'id': 1,\n",
       " 'image_id': 0,\n",
       " 'category_id': 47,\n",
       " 'bbox': [1723.0, 1776.0, 29.0, 26.0],\n",
       " 'position': [3.8249, 31.7701, 168.57],\n",
       " 'orientation': [0.0063812, -0.184722, 3.13912],\n",
       " 'orientation_relative': [0.006918107352997232,\n",
       "  -0.18451171371342667,\n",
       "  3.139121365067781]}"
      ]
     },
     "execution_count": 7,
     "metadata": {},
     "output_type": "execute_result"
    }
   ],
   "source": [
    "train_gt[\"annotations\"][0]"
   ]
  },
  {
   "cell_type": "code",
   "execution_count": 8,
   "metadata": {},
   "outputs": [],
   "source": [
    "p = parse_camera_intrinsic()\n",
    "for k in p:\n",
    "    p[k] = torch.from_numpy(np.array(p[k],dtype=np.float))"
   ]
  },
  {
   "cell_type": "code",
   "execution_count": 9,
   "metadata": {},
   "outputs": [],
   "source": [
    "import io\n",
    "class PKURegressionDataset(Dataset):\n",
    "    \n",
    "    def __init__(self, orientation_field, images_dir, max_size, transforms=None):\n",
    "        super().__init__()\n",
    "        self.orientation_field = orientation_field\n",
    "        self.images_dir = images_dir\n",
    "        self.max_size = max_size\n",
    "        self.transforms = transforms\n",
    "        \n",
    "        with open(C.TRAIN_CROPS_JSON, \"r\") as f:\n",
    "            self.gt = json.load(f)\n",
    "        \n",
    "        annotations =[]\n",
    "        for i in range(len(self.gt['annotations'])):\n",
    "            wx, wy, wz = self.gt['annotations'][i]['position']\n",
    "            if ((-50<wx<50) and (0<wy<50) and (0<wz<200) and (np.sqrt(wx**2 + wy**2 +wz**2) < 100)):\n",
    "                annotations.append(self.gt['annotations'][i])\n",
    "        self.gt['annotations'] = annotations\n",
    "    \n",
    "        cat_ids = set(ann['category_id'] for ann in self.gt['annotations'])\n",
    "        categories = [cat for cat in self.gt['categories'] if cat['id'] in cat_ids]\n",
    "        self.category_id_to_label = {\n",
    "            cat[\"id\"]: label\n",
    "            for label, cat in enumerate(sorted(categories, key=lambda x: x[\"id\"]))\n",
    "        }\n",
    "        self.images_jpeg = self.load_images()\n",
    "        \n",
    "        self.p = parse_camera_intrinsic()\n",
    "        for k in self.p:\n",
    "            self.p[k] = float(self.p[k])\n",
    "    \n",
    "    def load_images(self):\n",
    "        images = {}\n",
    "        for image in tqdm(self.gt['images']):\n",
    "            path = os.path.join(self.images_dir, image['file_name'])\n",
    "            data = open(path, 'rb').read()\n",
    "            images[image['id']] = io.BytesIO(data)\n",
    "        return images\n",
    "    \n",
    "    def __len__(self):\n",
    "        return len(self.gt[\"annotations\"])\n",
    "    \n",
    "    def __getitem__(self, idx):\n",
    "        image = self.load_image(idx)\n",
    "        label = self.get_label(idx)\n",
    "        bbox_x, bbox_y, bbox_w, bbox_h = self.get_bbox(idx)\n",
    "        bbox_center_x, bbox_center_y = bbox_x + bbox_w / 2, bbox_y + bbox_h / 2\n",
    "        wx, wy, wz = self.get_position(idx)\n",
    "        orientation = self.get_orientation(idx)\n",
    "        \n",
    "        result =  dict(\n",
    "            image=image,\n",
    "            label=label,\n",
    "            bbox=np.array([(bbox_center_x-self.p['cx'])/self.p['fx'], (bbox_center_y-self.p['cy'])/self.p['fy'], bbox_w/self.p['fx'], bbox_h/self.p['fy']]),\n",
    "            position=np.array([wx, wy, wz]),\n",
    "            distance=np.sqrt(wx**2 + wy**2 + wz**2),\n",
    "            orientation=np.array(orientation)\n",
    "            )\n",
    "        if self.transforms is not None:\n",
    "            result['image'] = self.transforms(result['image'])\n",
    "        return result\n",
    "    \n",
    "    def load_image(self, idx):\n",
    "        image_id = self.gt[\"annotations\"][idx][\"image_id\"]\n",
    "        image = self.decode_image(self.images_jpeg[image_id])\n",
    "        w, h = image.size\n",
    "        scale = self.max_size / max(w, h)\n",
    "        w_new, h_new = int(w * scale), int(h * scale)\n",
    "        image = image.resize((w_new, h_new), Image.LANCZOS)\n",
    "        new_image = Image.new(\"RGB\", (self.max_size, self.max_size))\n",
    "        new_image.paste(image, ((self.max_size - w_new) // 2, (self.max_size - h_new) // 2))\n",
    "        return new_image\n",
    "        \n",
    "    @staticmethod\n",
    "    def decode_image(bytes_io):\n",
    "        image = Image.open(bytes_io)\n",
    "        image.load()\n",
    "        return image\n",
    "        \n",
    "    def get_label(self, idx):\n",
    "        return self.category_id_to_label[self.gt[\"annotations\"][idx][\"category_id\"]]\n",
    "    \n",
    "    def get_bbox(self, idx):\n",
    "        return self.gt[\"annotations\"][idx][\"bbox\"]\n",
    "    \n",
    "    def get_position(self, idx):\n",
    "        return self.gt[\"annotations\"][idx][\"position\"]\n",
    "    \n",
    "    def get_orientation(self, idx):\n",
    "        euler_angles = self.gt[\"annotations\"][idx][self.orientation_field]\n",
    "        rotation = R.from_euler(\"YXZ\", euler_angles)\n",
    "        q = rotation.as_quat()\n",
    "        e = np.array([0,0,1])\n",
    "        q[:3] = q[:3] * np.dot(e, q[:3]) / (np.abs(np.dot(q[:3], e)))\n",
    "        return q"
   ]
  },
  {
   "cell_type": "code",
   "execution_count": 10,
   "metadata": {},
   "outputs": [],
   "source": [
    "transforms = T.Compose([\n",
    "    T.ToTensor(),\n",
    "    T.Normalize(mean=[0.485, 0.456, 0.406], std=[0.229, 0.224, 0.225]),\n",
    "])"
   ]
  },
  {
   "cell_type": "code",
   "execution_count": 11,
   "metadata": {},
   "outputs": [
    {
     "name": "stderr",
     "output_type": "stream",
     "text": [
      "100%|██████████| 49115/49115 [00:01<00:00, 25751.88it/s]\n"
     ]
    }
   ],
   "source": [
    "ds = PKURegressionDataset(\"orientation_relative\", C.TRAIN_CROPS_CALIBRATED, 256, transforms)"
   ]
  },
  {
   "cell_type": "code",
   "execution_count": 12,
   "metadata": {},
   "outputs": [
    {
     "data": {
      "text/plain": [
       "44277"
      ]
     },
     "execution_count": 12,
     "metadata": {},
     "output_type": "execute_result"
    }
   ],
   "source": [
    "len(ds)"
   ]
  },
  {
   "cell_type": "code",
   "execution_count": 13,
   "metadata": {},
   "outputs": [],
   "source": [
    "r = ds[3]"
   ]
  },
  {
   "cell_type": "code",
   "execution_count": 14,
   "metadata": {},
   "outputs": [
    {
     "data": {
      "text/plain": [
       "torch.Size([3, 256, 256])"
      ]
     },
     "execution_count": 14,
     "metadata": {},
     "output_type": "execute_result"
    }
   ],
   "source": [
    "r[\"image\"].shape"
   ]
  },
  {
   "cell_type": "code",
   "execution_count": 15,
   "metadata": {},
   "outputs": [
    {
     "name": "stderr",
     "output_type": "stream",
     "text": [
      "Clipping input data to the valid range for imshow with RGB data ([0..1] for floats or [0..255] for integers).\n"
     ]
    },
    {
     "data": {
      "text/plain": [
       "<matplotlib.image.AxesImage at 0x7f15b81d4210>"
      ]
     },
     "execution_count": 15,
     "metadata": {},
     "output_type": "execute_result"
    },
    {
     "data": {
      "image/png": "[encoded data removed]",
      "text/plain": [
       "<Figure size 432x288 with 1 Axes>"
      ]
     },
     "metadata": {
      "needs_background": "light"
     },
     "output_type": "display_data"
    }
   ],
   "source": [
    "plt.imshow((np.transpose(r[\"image\"].numpy(), (1, 2, 0)) * np.array([0.229, 0.224, 0.225]) + np.array([0.485, 0.456, 0.406])))"
   ]
  },
  {
   "cell_type": "code",
   "execution_count": 16,
   "metadata": {},
   "outputs": [
    {
     "data": {
      "text/plain": [
       "{'image': tensor([[[-2.1179, -2.1179, -2.1179,  ..., -2.1179, -2.1179, -2.1179],\n",
       "          [-2.1179, -2.1179, -2.1179,  ..., -2.1179, -2.1179, -2.1179],\n",
       "          [-2.1179, -2.1179, -2.1179,  ..., -2.1179, -2.1179, -2.1179],\n",
       "          ...,\n",
       "          [-2.1179, -2.1179, -2.1179,  ..., -2.1179, -2.1179, -2.1179],\n",
       "          [-2.1179, -2.1179, -2.1179,  ..., -2.1179, -2.1179, -2.1179],\n",
       "          [-2.1179, -2.1179, -2.1179,  ..., -2.1179, -2.1179, -2.1179]],\n",
       " \n",
       "         [[-2.0357, -2.0357, -2.0357,  ..., -2.0357, -2.0357, -2.0357],\n",
       "          [-2.0357, -2.0357, -2.0357,  ..., -2.0357, -2.0357, -2.0357],\n",
       "          [-2.0357, -2.0357, -2.0357,  ..., -2.0357, -2.0357, -2.0357],\n",
       "          ...,\n",
       "          [-2.0357, -2.0357, -2.0357,  ..., -2.0357, -2.0357, -2.0357],\n",
       "          [-2.0357, -2.0357, -2.0357,  ..., -2.0357, -2.0357, -2.0357],\n",
       "          [-2.0357, -2.0357, -2.0357,  ..., -2.0357, -2.0357, -2.0357]],\n",
       " \n",
       "         [[-1.8044, -1.8044, -1.8044,  ..., -1.8044, -1.8044, -1.8044],\n",
       "          [-1.8044, -1.8044, -1.8044,  ..., -1.8044, -1.8044, -1.8044],\n",
       "          [-1.8044, -1.8044, -1.8044,  ..., -1.8044, -1.8044, -1.8044],\n",
       "          ...,\n",
       "          [-1.8044, -1.8044, -1.8044,  ..., -1.8044, -1.8044, -1.8044],\n",
       "          [-1.8044, -1.8044, -1.8044,  ..., -1.8044, -1.8044, -1.8044],\n",
       "          [-1.8044, -1.8044, -1.8044,  ..., -1.8044, -1.8044, -1.8044]]]),\n",
       " 'label': 11,\n",
       " 'bbox': array([0.27782547, 0.19689487, 0.08374745, 0.02602048]),\n",
       " 'position': array([18.5887, 13.1897, 67.0674]),\n",
       " 'distance': 70.83462498340766,\n",
       " 'orientation': array([-0.76617838,  0.04446448,  0.6373304 ,  0.06930768])}"
      ]
     },
     "execution_count": 16,
     "metadata": {},
     "output_type": "execute_result"
    }
   ],
   "source": [
    "r"
   ]
  },
  {
   "cell_type": "code",
   "execution_count": 17,
   "metadata": {},
   "outputs": [],
   "source": [
    "dl = DataLoader(ds, batch_size=64, shuffle=True, drop_last=True, pin_memory=True, num_workers=2)"
   ]
  },
  {
   "cell_type": "code",
   "execution_count": 18,
   "metadata": {},
   "outputs": [],
   "source": [
    "for batch in dl:\n",
    "    break"
   ]
  },
  {
   "cell_type": "markdown",
   "metadata": {},
   "source": [
    "print(batch)"
   ]
  },
  {
   "cell_type": "code",
   "execution_count": 19,
   "metadata": {},
   "outputs": [
    {
     "data": {
      "text/plain": [
       "34"
      ]
     },
     "execution_count": 19,
     "metadata": {},
     "output_type": "execute_result"
    }
   ],
   "source": [
    "len(ds.category_id_to_label)"
   ]
  },
  {
   "cell_type": "code",
   "execution_count": 20,
   "metadata": {
    "scrolled": true
   },
   "outputs": [
    {
     "data": {
      "text/plain": [
       "torch.Size([64, 3, 256, 256])"
      ]
     },
     "execution_count": 20,
     "metadata": {},
     "output_type": "execute_result"
    }
   ],
   "source": [
    "batch['image'].shape"
   ]
  },
  {
   "cell_type": "code",
   "execution_count": 21,
   "metadata": {},
   "outputs": [],
   "source": [
    "rad_power = 6"
   ]
  },
  {
   "cell_type": "code",
   "execution_count": 22,
   "metadata": {},
   "outputs": [],
   "source": [
    "class ConvBnAct(nn.Module):\n",
    "    \n",
    "    def __init__(self, in_channels, out_channels):\n",
    "        super().__init__()\n",
    "        self.conv = nn.Conv2d(in_channels, out_channels, (3, 3), padding=1)\n",
    "        self.bn = nn.BatchNorm2d(out_channels)\n",
    "        self.act = nn.LeakyReLU(inplace=True)\n",
    "        \n",
    "        nn.init.kaiming_normal_(self.conv.weight, nonlinearity='relu')\n",
    "        nn.init.constant_(self.conv.bias, 0)\n",
    "    \n",
    "    def forward(self, x):\n",
    "        x = self.conv(x)\n",
    "        x = self.bn(x)\n",
    "        x = self.act(x)\n",
    "        return x\n",
    "\n",
    "class Model(torch.nn.Module):\n",
    "    \n",
    "    def __init__(self):\n",
    "        super().__init__()\n",
    "        self.backbone = models.resnet101(pretrained=True)\n",
    "        \n",
    "        self.local_neck = nn.Sequential(\n",
    "            ConvBnAct(2048, 512),\n",
    "            ConvBnAct(512, 256),\n",
    "            ConvBnAct(256, 64),\n",
    "            nn.Flatten(),\n",
    "            nn.Linear(64 * 8 * 8, 1024),  # 4\n",
    "            nn.LeakyReLU(inplace=True),\n",
    "            nn.Linear(1024, 1024),  # 6\n",
    "            nn.LeakyReLU(inplace=True)\n",
    "        )\n",
    "        nn.init.kaiming_normal_(self.local_neck[4].weight, nonlinearity='leaky_relu')\n",
    "        nn.init.constant_(self.local_neck[4].bias, 0)\n",
    "        nn.init.kaiming_normal_(self.local_neck[6].weight, nonlinearity='leaky_relu')\n",
    "        nn.init.constant_(self.local_neck[6].bias, 0)\n",
    "        \n",
    "        self.cls_head = nn.Linear(1024, 34)\n",
    "        nn.init.kaiming_normal_(self.cls_head.weight, nonlinearity='leaky_relu')\n",
    "        nn.init.constant_(self.cls_head.bias, 0)\n",
    "        \n",
    "        self.rot_head = nn.Linear(1024, 4)\n",
    "        nn.init.kaiming_normal_(self.rot_head.weight, nonlinearity='leaky_relu')\n",
    "        nn.init.constant_(self.rot_head.bias, 0)\n",
    "        \n",
    "        self.trans_ass = nn.Sequential(\n",
    "            nn.Linear(rad_power,1,bias=False)    \n",
    "        )\n",
    "        nn.init.xavier_normal_(self.trans_ass[0].weight)\n",
    "        \n",
    "        \n",
    "        self.trans_neck = nn.Sequential(\n",
    "             nn.Linear(1024, 128),  # 0\n",
    "             nn.LeakyReLU(inplace=True),\n",
    "             nn.Linear(128, 128),  # 2\n",
    "             nn.LeakyReLU(inplace=True),\n",
    "             nn.Linear(128,7)\n",
    "        )\n",
    "        nn.init.kaiming_normal_(self.trans_neck[0].weight, nonlinearity='leaky_relu')\n",
    "        nn.init.constant_(self.trans_neck[0].bias, 0)\n",
    "        nn.init.kaiming_normal_(self.trans_neck[2].weight, nonlinearity='leaky_relu')\n",
    "        nn.init.constant_(self.trans_neck[2].bias, 0)\n",
    "        nn.init.xavier_normal_(self.trans_neck[4].weight)\n",
    "        nn.init.constant_(self.trans_neck[4].bias, 0)\n",
    "        \n",
    "#         self.ln_to_trans = nn.Sequential(\n",
    "#             nn.Linear(1024, 100),  # 0\n",
    "#             nn.LeakyReLU(inplace=True)\n",
    "#         )\n",
    "#         nn.init.kaiming_normal_(self.ln_to_trans[0].weight, nonlinearity='leaky_relu')\n",
    "#         nn.init.constant_(self.ln_to_trans[0].bias, 0)\n",
    "#         self.size_neck = nn.Sequential(\n",
    "#             nn.Linear(2,128),\n",
    "#             nn.LeakyReLU(inplace=True),\n",
    "#             nn.Linear(128,128),\n",
    "#             nn.LeakyReLU(inplace=True),\n",
    "#             nn.Linear(128,128),\n",
    "#             nn.LeakyReLU(inplace=True)\n",
    "#         )\n",
    "#         nn.init.kaiming_normal_(self.size_neck[0].weight, nonlinearity='leaky_relu')\n",
    "#         nn.init.constant_(self.size_neck[0].bias, 0)\n",
    "#         nn.init.kaiming_normal_(self.size_neck[2].weight, nonlinearity='leaky_relu')\n",
    "#         nn.init.constant_(self.size_neck[2].bias, 0)\n",
    "#         nn.init.kaiming_normal_(self.size_neck[4].weight, nonlinearity='leaky_relu')\n",
    "#         nn.init.constant_(self.size_neck[4].bias, 0)\n",
    "    \n",
    "        self.trans_head = nn.Linear(256, 1)\n",
    "        nn.init.xavier_normal_(self.trans_head.weight)\n",
    "        nn.init.constant_(self.trans_head.bias, 0)\n",
    "        \n",
    "    def extract_features(self, x):\n",
    "        x = self.backbone.conv1(x)\n",
    "        x = self.backbone.bn1(x)\n",
    "        x = self.backbone.relu(x)\n",
    "        x = self.backbone.maxpool(x)\n",
    "\n",
    "        x = self.backbone.layer1(x)\n",
    "        x = self.backbone.layer2(x)\n",
    "        x = self.backbone.layer3(x)\n",
    "        x = self.backbone.layer4(x)\n",
    "        \n",
    "        return x\n",
    "    \n",
    "    def forward(self, x,bbox):\n",
    "        features = self.extract_features(x)\n",
    "        ln = self.local_neck(features)\n",
    "        tn = self.trans_neck(ln)\n",
    "        rad = torch.sqrt(torch.pow(bbox[:,0:1],2) + torch.pow(bbox[:,1:2],2))\n",
    "        rad_powers = rad\n",
    "        for i in range(1,rad_power):\n",
    "            rad_powers = torch.cat((rad_powers,torch.pow(rad,i+1)),dim=-1 )\n",
    "#         print(rad_powers.shape)    \n",
    "        ta = 1 + self.trans_ass(rad_powers)\n",
    "                            \n",
    "#         translation_v1 = self.trans_neck(bbox)\n",
    "#         ln_to_trans_n = self.ln_to_trans(ln)\n",
    "#         #rint((translation_v1.shape,ln_to_trans_n.shape))\n",
    "        \n",
    "        #sn = self.size_neck(bbox[:,2:])\n",
    "        \n",
    "        distance = nn.functional.sigmoid(tn[:,6:7])*(tn[:,0:1]/(bbox[:,2:3]-tn[:,1:2])+tn[:,2:3]) + (1 - nn.functional.sigmoid(tn[:,6:7]))*(tn[:,3:4]/(bbox[:,3:4]-tn[:,4:5])+tn[:,5:6])\n",
    "        \n",
    "        distance_scaled = distance*ta\n",
    "        \n",
    "        cls_score = self.cls_head(ln)\n",
    "        orientation = self.rot_head(ln)\n",
    "        \n",
    "        return dict(cls_score=cls_score, orientation = orientation, distance = distance_scaled)"
   ]
  },
  {
   "cell_type": "code",
   "execution_count": 23,
   "metadata": {},
   "outputs": [],
   "source": [
    "model = Model()"
   ]
  },
  {
   "cell_type": "code",
   "execution_count": 24,
   "metadata": {},
   "outputs": [],
   "source": [
    "#sum(p.nelement() for p in model.parameters())"
   ]
  },
  {
   "cell_type": "code",
   "execution_count": 25,
   "metadata": {},
   "outputs": [],
   "source": [
    "#sum(p.nelement() for p in model.backbone.parameters())"
   ]
  },
  {
   "cell_type": "markdown",
   "metadata": {},
   "source": [
    "outputs = model(batch['image'])"
   ]
  },
  {
   "cell_type": "markdown",
   "metadata": {},
   "source": [
    "outputs"
   ]
  },
  {
   "cell_type": "markdown",
   "metadata": {},
   "source": [
    " torch.norm(outputs['orientation'], dim=-1, keepdim=True)"
   ]
  },
  {
   "cell_type": "code",
   "execution_count": 26,
   "metadata": {},
   "outputs": [],
   "source": [
    "def huber_loss(bbox_pred, bbox_targets, beta=2.8):\n",
    "    \"\"\"\n",
    "    SmoothL1(x) = 0.5 * x^2 / beta      if |x| < beta\n",
    "                  |x| - 0.5 * beta      otherwise.\n",
    "    https://en.wikipedia.org/wiki/Huber_loss\n",
    "    \"\"\"\n",
    "    box_diff = bbox_pred - bbox_targets\n",
    "\n",
    "    dis_trans = torch.norm(box_diff, dim=1)\n",
    "    # dis_trans = np.linalg.norm(box_diff.data.cpu().numpy(), axis=1)\n",
    "    # we also add a metric for dist<2.8 metres.\n",
    "    inbox_idx = dis_trans <= 2.8\n",
    "    outbox_idx = dis_trans > 2.8\n",
    "\n",
    "    # bbox_inside_weights = torch.from_numpy(inbox_idx.astype('float32')).cuda()\n",
    "    # bbox_outside_weights = torch.from_numpy(outbox_idx.astype('float32')).cuda()\n",
    "    bbox_inside_weights = inbox_idx.float()\n",
    "    bbox_outside_weights = outbox_idx.float()\n",
    "\n",
    "    in_box_pow_diff = 0.5 * torch.pow(box_diff, 2) / beta\n",
    "    in_box_loss = in_box_pow_diff.sum(dim=1) * bbox_inside_weights\n",
    "\n",
    "    out_box_abs_diff = torch.abs(box_diff)\n",
    "    out_box_loss = (out_box_abs_diff.sum(dim=1) - beta / 2) * bbox_outside_weights\n",
    "\n",
    "    loss_box = in_box_loss + out_box_loss\n",
    "    N = loss_box.size(0)  # batch size\n",
    "    loss_box = loss_box.view(-1).sum(0) / N\n",
    "    return loss_box"
   ]
  },
  {
   "cell_type": "code",
   "execution_count": 27,
   "metadata": {},
   "outputs": [],
   "source": [
    "def dist_to_coord(outputs, batch):\n",
    "#     print(outputs['distance'])\n",
    "    z_outputs = outputs['distance']*torch.sqrt(1/torch.reshape(1+torch.pow(batch['bbox'][:,0],2)+torch.pow(batch['bbox'][:,1],2),(64,1)))\n",
    "    x_outputs = torch.reshape(batch['bbox'][:,0],(64,1))*z_outputs\n",
    "    y_outputs = torch.reshape(batch['bbox'][:,1],(64,1))*z_outputs\n",
    "#     print(torch.cat((x_outputs,y_outputs,z_outputs),dim = -1))\n",
    "    return torch.cat((x_outputs,y_outputs,z_outputs),dim = -1)"
   ]
  },
  {
   "cell_type": "markdown",
   "metadata": {},
   "source": [
    "def dist_to_coord(outputs, batch):\n",
    "#     print(outputs['distance'])\n",
    "    z_outputs = outputs['distance']*torch.sqrt(1/torch.reshape(1+torch.pow((batch['bbox'][:,0]-p['cx'])/p['fx'],2)+torch.pow((batch['bbox'][:,1]-p['cy'])/p['fy'],2),(64,1)))\n",
    "    x_outputs = torch.reshape((batch['bbox'][:,0]-p['cx'])/p['fx'],(64,1))*z_outputs\n",
    "    y_outputs = torch.reshape((batch['bbox'][:,1]-p['cy'])/p['fy'],(64,1))*z_outputs\n",
    "#     print(torch.cat((x_outputs,y_outputs,z_outputs),dim = -1))\n",
    "    return torch.cat((x_outputs,y_outputs,z_outputs),dim = -1)"
   ]
  },
  {
   "cell_type": "code",
   "execution_count": 28,
   "metadata": {},
   "outputs": [],
   "source": [
    "def mean_distance(batch,outputs):\n",
    "    dist_to_coord(outputs,batch),batch['position']\n",
    "    distance = torch.sqrt(torch.pow((dist_to_coord(outputs,batch)-batch['position']),2).sum(dim=1)).mean()\n",
    "    return distance"
   ]
  },
  {
   "cell_type": "code",
   "execution_count": 29,
   "metadata": {},
   "outputs": [],
   "source": [
    "def loss_fn(outputs, batch):\n",
    "    cls_loss = nn.functional.cross_entropy(outputs['cls_score'], batch['label'])\n",
    "    normed = outputs['orientation'] / torch.norm(outputs['orientation'], dim=-1, keepdim=True)\n",
    "    \n",
    "#     e = torch.FloatTensor([0, 0, 1]).cuda()\n",
    "#     prod = (normed[:, :3] * e).sum(dim=1)\n",
    "#     normed2 = torch.cat((torch.unsqueeze(prod / torch.abs(prod), 1) * normed[:, :3], normed[:, 3:4]), dim=1)\n",
    "#     trans_loss = huber_loss(outputs['translation'],batch['position'])\n",
    "\n",
    "    rot_loss_old = nn.functional.l1_loss(normed, batch['orientation'])\n",
    "    \n",
    "    rot_loss = 1-(normed[:, -1] * batch['orientation'][:, -1] + \\\n",
    "               (normed[:, :-1] * batch['orientation'][:, :-1]).sum(dim=1)).mean()\n",
    "    trans_loss = huber_loss(dist_to_coord(outputs,batch),batch['position'])\n",
    "#     distance_loss = huber_loss(outputs['distance'],batch['distance'])\n",
    "    true_distance = mean_distance(batch,outputs)\n",
    "    loss =  rot_loss + 0.1*trans_loss + cls_loss \n",
    "    return dict(loss=loss, cls_loss=rot_loss_old, rot_loss = rot_loss, trans_loss = trans_loss, true_distance = true_distance)"
   ]
  },
  {
   "cell_type": "code",
   "execution_count": 30,
   "metadata": {},
   "outputs": [],
   "source": [
    "model = model.cuda()"
   ]
  },
  {
   "cell_type": "code",
   "execution_count": 31,
   "metadata": {},
   "outputs": [],
   "source": [
    "optimizer = torch.optim.Adam(model.parameters(), lr=0.0001)"
   ]
  },
  {
   "cell_type": "markdown",
   "metadata": {},
   "source": [
    "sd = optimizer.state_dict()\n",
    "sd['param_groups'][0]['lr'] = sd['param_groups'][0]['lr']/2\n",
    "optimizer.load_state_dict(sd)"
   ]
  },
  {
   "cell_type": "markdown",
   "metadata": {},
   "source": [
    "sd['param_groups'][0]['lr']"
   ]
  },
  {
   "cell_type": "markdown",
   "metadata": {},
   "source": [
    "model.load_state_dict(torch.load(\"model_16-01-16:35.pth\"))\n",
    "optimizer.load_state_dict(torch.load(\"optim_16-01-16:35.pth\"))"
   ]
  },
  {
   "cell_type": "code",
   "execution_count": 32,
   "metadata": {},
   "outputs": [],
   "source": [
    "losses = []"
   ]
  },
  {
   "cell_type": "code",
   "execution_count": 33,
   "metadata": {},
   "outputs": [
    {
     "name": "stderr",
     "output_type": "stream",
     "text": [
      "\r",
      "  0%|          | 0/691 [00:00<?, ?it/s]"
     ]
    }
   ],
   "source": [
    "pbar = tqdm(total=len(dl))"
   ]
  },
  {
   "cell_type": "code",
   "execution_count": 34,
   "metadata": {},
   "outputs": [],
   "source": [
    "def smooth(beta, array):\n",
    "    s=[]\n",
    "    s.append(array[0])\n",
    "    for i in range(1,len(array)):\n",
    "        s.append((1-beta)*s[-1]+beta*array[i])\n",
    "    return s"
   ]
  },
  {
   "cell_type": "code",
   "execution_count": 35,
   "metadata": {},
   "outputs": [],
   "source": [
    "from IPython.display import clear_output"
   ]
  },
  {
   "cell_type": "code",
   "execution_count": 36,
   "metadata": {
    "scrolled": false
   },
   "outputs": [
    {
     "data": {
      "image/png": "[encoded data removed]",
      "text/plain": [
       "<Figure size 1080x720 with 5 Axes>"
      ]
     },
     "metadata": {
      "needs_background": "light"
     },
     "output_type": "display_data"
    },
    {
     "name": "stderr",
     "output_type": "stream",
     "text": [
      "3.40553 0.21255 0.33737 4.34665 4.27269: : 69100it [8:55:06,  2.34it/s]"
     ]
    }
   ],
   "source": [
    "#pbar = tqdm(total=len(dl))\n",
    "for i in range(100):\n",
    "    for j, batch in enumerate(dl):\n",
    "        for k in batch:\n",
    "            if k == 'label':\n",
    "                batch[k] = batch[k].long()\n",
    "            else:\n",
    "                batch[k] = batch[k].float()\n",
    "            batch[k] = batch[k].cuda()\n",
    "        outputs = model(batch['image'],batch['bbox'])\n",
    "        loss = loss_fn(outputs, batch)\n",
    "        optimizer.zero_grad()\n",
    "        loss['loss'].backward()\n",
    "        optimizer.step()\n",
    "        for k in loss:\n",
    "            loss[k] = loss[k].item()\n",
    "        losses.append(loss)\n",
    "        pbar.update()\n",
    "        pbar.set_description(\"{:.5f} {:.5f} {:.5f} {:.5f} {:.5f}\".format(loss['loss'], loss['cls_loss'], loss['rot_loss'], loss['trans_loss'], loss['true_distance']))\n",
    "        if j % 200 == 0:\n",
    "            clear_output()\n",
    "            plt.figure(figsize=[15, 10])\n",
    "            plt.subplot(3, 2, 1)\n",
    "            plt.plot([l[\"loss\"] for l in losses], alpha=0.2) #second epoch lr =1e-4\n",
    "            plt.plot(smooth(0.1, [l[\"loss\"] for l in losses]))\n",
    "            plt.ylim((0,3))\n",
    "            plt.grid()\n",
    "            plt.subplot(3, 2, 2)\n",
    "            plt.plot([l[\"cls_loss\"] for l in losses], alpha=0.2) #second epoch lr =1e-4\n",
    "            plt.plot(smooth(0.1, [l[\"cls_loss\"] for l in losses]))\n",
    "            plt.ylim((0,0.2))\n",
    "            plt.grid()\n",
    "            plt.subplot(3, 2, 3)\n",
    "            plt.plot([l[\"rot_loss\"] for l in losses], alpha=0.2) #second epoch lr =1e-4\n",
    "            plt.plot(smooth(0.1, [l[\"rot_loss\"] for l in losses]))\n",
    "            plt.ylim((0,0.4))\n",
    "            plt.grid()\n",
    "            plt.subplot(3, 2, 4)\n",
    "            plt.plot([l[\"trans_loss\"] for l in losses], alpha=0.2) #second epoch lr =1e-4\n",
    "            plt.plot(smooth(0.1, [l[\"trans_loss\"] for l in losses]))\n",
    "            plt.ylim((0,4))\n",
    "            plt.grid()\n",
    "            plt.subplot(3, 2, 5)\n",
    "            plt.plot([l[\"true_distance\"] for l in losses if 'true_distance' in l], alpha=0.2) #second epoch lr =1e-4\n",
    "            plt.plot(smooth(0.1, [l[\"true_distance\"] for l in losses if 'true_distance' in l]))\n",
    "            plt.ylim((0,4))\n",
    "            plt.grid()\n",
    "            plt.show()\n",
    "    sd = optimizer.state_dict()\n",
    "    sd['param_groups'][0]['lr'] = sd['param_groups'][0]['lr']/2\n",
    "    optimizer.load_state_dict(sd)"
   ]
  },
  {
   "cell_type": "markdown",
   "metadata": {},
   "source": [
    "model.load_state_dict(torch.load(\"stupid_1501_model.pth\"))"
   ]
  },
  {
   "cell_type": "code",
   "execution_count": 36,
   "metadata": {},
   "outputs": [],
   "source": [
    "%autoreload 0"
   ]
  },
  {
   "cell_type": "markdown",
   "metadata": {},
   "source": [
    "torch.save(model.state_dict(), \"model_16-01-17:30.pth\") \n",
    "torch.save(optimizer.state_dict(), \"optim_16-01-17:30.pth\")"
   ]
  },
  {
   "cell_type": "markdown",
   "metadata": {},
   "source": [
    "model.load_state_dict(torch.load(\"model_16-01-11:11.pth\"))"
   ]
  },
  {
   "cell_type": "code",
   "execution_count": 37,
   "metadata": {
    "scrolled": true
   },
   "outputs": [
    {
     "name": "stderr",
     "output_type": "stream",
     "text": [
      "\n",
      "  0%|          | 0/691 [00:00<?, ?it/s]\u001b[A\n",
      "  0%|          | 1/691 [00:01<17:21,  1.51s/it]\u001b[A\n",
      "  0%|          | 2/691 [00:01<12:37,  1.10s/it]\u001b[A\n",
      "  0%|          | 3/691 [00:02<10:13,  1.12it/s]\u001b[A\n",
      "  1%|          | 4/691 [00:02<07:39,  1.50it/s]\u001b[A\n",
      "  1%|          | 5/691 [00:02<06:38,  1.72it/s]\u001b[A\n",
      "  1%|          | 6/691 [00:02<05:05,  2.24it/s]\u001b[A\n",
      "  1%|          | 7/691 [00:02<04:18,  2.65it/s]\u001b[A\n",
      "  1%|          | 8/691 [00:03<03:33,  3.20it/s]\u001b[A\n",
      "  1%|▏         | 9/691 [00:03<02:58,  3.81it/s]\u001b[A\n",
      "  1%|▏         | 10/691 [00:03<02:38,  4.30it/s]\u001b[A\n",
      "  2%|▏         | 11/691 [00:03<02:21,  4.80it/s]\u001b[A\n",
      "  2%|▏         | 12/691 [00:03<02:44,  4.14it/s]\u001b[A\n",
      "  2%|▏         | 13/691 [00:04<02:23,  4.72it/s]\u001b[A\n",
      "  2%|▏         | 14/691 [00:04<02:56,  3.83it/s]\u001b[A\n",
      "  2%|▏         | 15/691 [00:04<02:30,  4.49it/s]\u001b[A\n",
      "  2%|▏         | 16/691 [00:04<02:54,  3.88it/s]\u001b[A\n",
      "  2%|▏         | 17/691 [00:05<02:32,  4.41it/s]\u001b[A\n",
      "  3%|▎         | 18/691 [00:05<02:26,  4.58it/s]\u001b[A\n",
      "  3%|▎         | 19/691 [00:05<02:11,  5.10it/s]\u001b[A\n",
      "  3%|▎         | 20/691 [00:05<02:09,  5.19it/s]\u001b[A\n",
      "  3%|▎         | 21/691 [00:05<02:00,  5.55it/s]\u001b[A\n",
      "  3%|▎         | 22/691 [00:05<01:58,  5.66it/s]\u001b[A\n",
      "  3%|▎         | 23/691 [00:06<01:51,  5.99it/s]\u001b[A\n",
      "  3%|▎         | 24/691 [00:06<01:56,  5.74it/s]\u001b[A\n",
      "  4%|▎         | 25/691 [00:06<01:48,  6.15it/s]\u001b[A\n",
      "  4%|▍         | 26/691 [00:06<01:59,  5.55it/s]\u001b[A\n",
      "  4%|▍         | 27/691 [00:06<01:51,  5.93it/s]\u001b[A\n",
      "  4%|▍         | 28/691 [00:06<02:13,  4.97it/s]\u001b[A\n",
      "  4%|▍         | 29/691 [00:07<02:02,  5.43it/s]\u001b[A\n",
      "  4%|▍         | 30/691 [00:07<01:51,  5.94it/s]\u001b[A\n",
      "  4%|▍         | 31/691 [00:07<01:46,  6.22it/s]\u001b[A\n",
      "  5%|▍         | 32/691 [00:07<01:50,  5.99it/s]\u001b[A\n",
      "  5%|▍         | 33/691 [00:07<01:56,  5.64it/s]\u001b[A\n",
      "  5%|▍         | 34/691 [00:08<02:05,  5.22it/s]\u001b[A\n",
      "  5%|▌         | 35/691 [00:08<02:10,  5.01it/s]\u001b[A\n",
      "  5%|▌         | 36/691 [00:08<01:57,  5.57it/s]\u001b[A\n",
      "  5%|▌         | 37/691 [00:08<02:32,  4.28it/s]\u001b[A\n",
      "  5%|▌         | 38/691 [00:08<02:14,  4.87it/s]\u001b[A\n",
      "  6%|▌         | 39/691 [00:09<02:03,  5.27it/s]\u001b[A\n",
      "  6%|▌         | 40/691 [00:09<01:56,  5.57it/s]\u001b[A\n",
      "  6%|▌         | 41/691 [00:09<01:49,  5.92it/s]\u001b[A\n",
      "  6%|▌         | 42/691 [00:09<01:45,  6.14it/s]\u001b[A\n",
      "  6%|▌         | 43/691 [00:09<02:11,  4.91it/s]\u001b[A\n",
      "  6%|▋         | 44/691 [00:09<02:00,  5.35it/s]\u001b[A\n",
      "  7%|▋         | 45/691 [00:10<02:13,  4.85it/s]\u001b[A\n",
      "  7%|▋         | 46/691 [00:10<02:14,  4.78it/s]\u001b[A\n",
      "  7%|▋         | 47/691 [00:10<02:20,  4.60it/s]\u001b[A\n",
      "  7%|▋         | 48/691 [00:10<02:08,  5.01it/s]\u001b[A\n",
      "  7%|▋         | 49/691 [00:11<02:18,  4.63it/s]\u001b[A\n",
      "  7%|▋         | 50/691 [00:11<02:06,  5.07it/s]\u001b[A\n",
      "  7%|▋         | 51/691 [00:11<02:08,  5.00it/s]\u001b[A\n",
      "  8%|▊         | 52/691 [00:11<02:04,  5.13it/s]\u001b[A\n",
      "  8%|▊         | 53/691 [00:11<01:52,  5.65it/s]\u001b[A\n",
      "  8%|▊         | 54/691 [00:11<01:50,  5.75it/s]\u001b[A\n",
      "  8%|▊         | 55/691 [00:12<01:47,  5.91it/s]\u001b[A\n",
      "  8%|▊         | 56/691 [00:12<02:06,  5.03it/s]\u001b[A\n",
      "  8%|▊         | 57/691 [00:12<01:58,  5.35it/s]\u001b[A\n",
      "  8%|▊         | 58/691 [00:12<02:20,  4.52it/s]\u001b[A\n",
      "  9%|▊         | 59/691 [00:12<02:08,  4.92it/s]\u001b[A\n",
      "  9%|▊         | 60/691 [00:13<02:16,  4.64it/s]\u001b[A\n",
      "  9%|▉         | 61/691 [00:13<02:03,  5.08it/s]\u001b[A\n",
      "  9%|▉         | 62/691 [00:13<01:51,  5.63it/s]\u001b[A\n",
      "  9%|▉         | 63/691 [00:13<02:13,  4.69it/s]\u001b[A\n",
      "  9%|▉         | 64/691 [00:13<02:01,  5.16it/s]\u001b[A\n",
      "  9%|▉         | 65/691 [00:14<01:51,  5.59it/s]\u001b[A\n",
      " 10%|▉         | 66/691 [00:14<01:43,  6.03it/s]\u001b[A\n",
      " 10%|▉         | 67/691 [00:14<01:40,  6.20it/s]\u001b[A\n",
      " 10%|▉         | 68/691 [00:14<01:38,  6.32it/s]\u001b[A\n",
      " 10%|▉         | 69/691 [00:14<01:35,  6.54it/s]\u001b[A\n",
      " 10%|█         | 70/691 [00:14<01:31,  6.82it/s]\u001b[A\n",
      " 10%|█         | 71/691 [00:14<01:30,  6.84it/s]\u001b[A\n",
      " 10%|█         | 72/691 [00:15<01:42,  6.02it/s]\u001b[A\n",
      " 11%|█         | 73/691 [00:15<01:57,  5.27it/s]\u001b[A\n",
      " 11%|█         | 74/691 [00:15<01:50,  5.56it/s]\u001b[A\n",
      " 11%|█         | 75/691 [00:15<02:00,  5.13it/s]\u001b[A\n",
      " 11%|█         | 76/691 [00:15<01:54,  5.37it/s]\u001b[A\n",
      " 11%|█         | 77/691 [00:16<02:20,  4.38it/s]\u001b[A\n",
      " 11%|█▏        | 78/691 [00:16<02:04,  4.91it/s]\u001b[A\n",
      " 11%|█▏        | 79/691 [00:16<02:27,  4.16it/s]\u001b[A\n",
      " 12%|█▏        | 80/691 [00:16<02:12,  4.59it/s]\u001b[A\n",
      " 12%|█▏        | 81/691 [00:17<02:06,  4.83it/s]\u001b[A\n",
      " 12%|█▏        | 82/691 [00:17<01:55,  5.29it/s]\u001b[A\n",
      " 12%|█▏        | 83/691 [00:17<01:57,  5.17it/s]\u001b[A\n",
      " 12%|█▏        | 84/691 [00:17<01:47,  5.65it/s]\u001b[A\n",
      " 12%|█▏        | 85/691 [00:17<01:44,  5.82it/s]\u001b[A\n",
      " 12%|█▏        | 86/691 [00:17<01:39,  6.07it/s]\u001b[A\n",
      " 13%|█▎        | 87/691 [00:18<01:59,  5.06it/s]\u001b[A\n",
      " 13%|█▎        | 88/691 [00:18<01:49,  5.50it/s]\u001b[A\n",
      " 13%|█▎        | 89/691 [00:18<01:54,  5.28it/s]\u001b[A\n",
      " 13%|█▎        | 90/691 [00:18<02:04,  4.83it/s]\u001b[A\n",
      " 13%|█▎        | 91/691 [00:18<01:53,  5.30it/s]\u001b[A\n",
      " 13%|█▎        | 92/691 [00:19<02:37,  3.81it/s]\u001b[A\n",
      " 13%|█▎        | 93/691 [00:19<02:15,  4.42it/s]\u001b[A\n",
      " 14%|█▎        | 94/691 [00:19<02:01,  4.91it/s]\u001b[A\n",
      " 14%|█▎        | 95/691 [00:19<01:51,  5.36it/s]\u001b[A\n",
      " 14%|█▍        | 96/691 [00:19<01:45,  5.62it/s]\u001b[A\n",
      " 14%|█▍        | 97/691 [00:20<01:38,  6.05it/s]\u001b[A\n",
      " 14%|█▍        | 98/691 [00:20<02:28,  3.98it/s]\u001b[A\n",
      " 14%|█▍        | 99/691 [00:20<02:10,  4.55it/s]\u001b[A\n",
      " 14%|█▍        | 100/691 [00:20<02:24,  4.08it/s]\u001b[A\n",
      " 15%|█▍        | 101/691 [00:21<02:07,  4.62it/s]\u001b[A\n",
      " 15%|█▍        | 102/691 [00:21<02:34,  3.81it/s]\u001b[A\n",
      " 15%|█▍        | 103/691 [00:21<02:13,  4.40it/s]\u001b[A\n",
      " 15%|█▌        | 104/691 [00:21<01:56,  5.05it/s]\u001b[A\n",
      " 15%|█▌        | 105/691 [00:21<01:48,  5.41it/s]\u001b[A\n",
      " 15%|█▌        | 106/691 [00:22<01:43,  5.64it/s]\u001b[A\n",
      " 15%|█▌        | 107/691 [00:22<01:38,  5.90it/s]\u001b[A\n",
      " 16%|█▌        | 108/691 [00:22<01:33,  6.25it/s]\u001b[A\n",
      " 16%|█▌        | 109/691 [00:22<01:40,  5.78it/s]\u001b[A\n",
      " 16%|█▌        | 110/691 [00:22<01:36,  6.00it/s]\u001b[A\n",
      " 16%|█▌        | 111/691 [00:22<01:41,  5.72it/s]\u001b[A\n",
      " 16%|█▌        | 112/691 [00:23<01:34,  6.12it/s]\u001b[A\n",
      " 16%|█▋        | 113/691 [00:23<01:54,  5.06it/s]\u001b[A\n",
      " 16%|█▋        | 114/691 [00:23<01:45,  5.47it/s]\u001b[A\n",
      " 17%|█▋        | 115/691 [00:23<01:52,  5.11it/s]\u001b[A\n",
      " 17%|█▋        | 116/691 [00:23<01:44,  5.51it/s]\u001b[A\n",
      " 17%|█▋        | 117/691 [00:24<01:51,  5.14it/s]\u001b[A\n",
      " 17%|█▋        | 118/691 [00:24<01:42,  5.61it/s]\u001b[A\n",
      " 17%|█▋        | 119/691 [00:24<01:58,  4.82it/s]\u001b[A\n",
      " 17%|█▋        | 120/691 [00:24<01:48,  5.26it/s]\u001b[A\n",
      " 18%|█▊        | 121/691 [00:24<02:10,  4.38it/s]\u001b[A\n",
      " 18%|█▊        | 122/691 [00:25<01:53,  5.00it/s]\u001b[A\n",
      " 18%|█▊        | 123/691 [00:25<01:47,  5.31it/s]\u001b[A\n",
      " 18%|█▊        | 124/691 [00:25<01:40,  5.63it/s]\u001b[A\n",
      " 18%|█▊        | 125/691 [00:25<01:33,  6.08it/s]\u001b[A\n",
      " 18%|█▊        | 126/691 [00:25<01:29,  6.28it/s]\u001b[A\n",
      " 18%|█▊        | 127/691 [00:25<01:25,  6.58it/s]\u001b[A\n",
      " 19%|█▊        | 128/691 [00:25<01:23,  6.78it/s]\u001b[A\n",
      " 19%|█▊        | 129/691 [00:26<01:25,  6.54it/s]\u001b[A\n",
      " 19%|█▉        | 130/691 [00:26<01:23,  6.71it/s]\u001b[A\n",
      " 19%|█▉        | 131/691 [00:26<01:20,  6.92it/s]\u001b[A\n",
      " 19%|█▉        | 132/691 [00:26<01:20,  6.97it/s]\u001b[A\n",
      " 19%|█▉        | 133/691 [00:26<01:33,  5.99it/s]\u001b[A\n",
      " 19%|█▉        | 134/691 [00:26<01:37,  5.72it/s]\u001b[A\n",
      " 20%|█▉        | 135/691 [00:27<01:31,  6.10it/s]\u001b[A\n",
      " 20%|█▉        | 136/691 [00:27<01:47,  5.16it/s]\u001b[A\n",
      " 20%|█▉        | 137/691 [00:27<01:45,  5.25it/s]\u001b[A\n",
      " 20%|█▉        | 138/691 [00:27<01:42,  5.40it/s]\u001b[A\n",
      " 20%|██        | 139/691 [00:27<01:33,  5.93it/s]\u001b[A\n",
      " 20%|██        | 140/691 [00:27<01:28,  6.20it/s]\u001b[A\n",
      " 20%|██        | 141/691 [00:28<01:41,  5.41it/s]\u001b[A\n",
      " 21%|██        | 142/691 [00:28<01:33,  5.87it/s]\u001b[A\n",
      " 21%|██        | 143/691 [00:28<01:27,  6.29it/s]\u001b[A\n",
      " 21%|██        | 144/691 [00:28<01:26,  6.35it/s]\u001b[A\n",
      " 21%|██        | 145/691 [00:28<01:23,  6.51it/s]\u001b[A\n",
      " 21%|██        | 146/691 [00:28<01:31,  5.95it/s]\u001b[A\n",
      " 21%|██▏       | 147/691 [00:29<01:26,  6.29it/s]\u001b[A\n",
      " 21%|██▏       | 148/691 [00:29<01:53,  4.79it/s]\u001b[A\n",
      " 22%|██▏       | 149/691 [00:29<01:41,  5.36it/s]\u001b[A\n",
      " 22%|██▏       | 150/691 [00:29<02:17,  3.93it/s]\u001b[A\n",
      " 22%|██▏       | 151/691 [00:30<01:58,  4.57it/s]\u001b[A\n",
      " 22%|██▏       | 152/691 [00:30<02:39,  3.38it/s]\u001b[A\n",
      " 22%|██▏       | 153/691 [00:30<02:15,  3.98it/s]\u001b[A\n",
      " 22%|██▏       | 154/691 [00:31<02:44,  3.26it/s]\u001b[A\n",
      " 22%|██▏       | 155/691 [00:31<02:17,  3.88it/s]\u001b[A\n"
     ]
    },
    {
     "name": "stderr",
     "output_type": "stream",
     "text": [
      " 23%|██▎       | 156/691 [00:31<02:19,  3.84it/s]\u001b[A\n",
      " 23%|██▎       | 157/691 [00:31<02:08,  4.17it/s]\u001b[A\n",
      " 23%|██▎       | 158/691 [00:31<01:52,  4.75it/s]\u001b[A\n",
      " 23%|██▎       | 159/691 [00:32<01:39,  5.34it/s]\u001b[A\n",
      " 23%|██▎       | 160/691 [00:32<01:31,  5.82it/s]\u001b[A\n",
      " 23%|██▎       | 161/691 [00:32<01:25,  6.17it/s]\u001b[A\n",
      " 23%|██▎       | 162/691 [00:32<01:46,  4.99it/s]\u001b[A\n",
      " 24%|██▎       | 163/691 [00:32<01:35,  5.54it/s]\u001b[A\n",
      " 24%|██▎       | 164/691 [00:32<01:29,  5.90it/s]\u001b[A\n",
      " 24%|██▍       | 165/691 [00:33<01:34,  5.59it/s]\u001b[A\n",
      " 24%|██▍       | 166/691 [00:33<01:35,  5.47it/s]\u001b[A\n",
      " 24%|██▍       | 167/691 [00:33<01:29,  5.84it/s]\u001b[A\n",
      " 24%|██▍       | 168/691 [00:33<02:09,  4.03it/s]\u001b[A\n",
      " 24%|██▍       | 169/691 [00:33<01:53,  4.59it/s]\u001b[A\n",
      " 25%|██▍       | 170/691 [00:34<02:06,  4.13it/s]\u001b[A\n",
      " 25%|██▍       | 171/691 [00:34<01:49,  4.76it/s]\u001b[A\n",
      " 25%|██▍       | 172/691 [00:34<01:49,  4.74it/s]\u001b[A\n",
      " 25%|██▌       | 173/691 [00:34<01:38,  5.26it/s]\u001b[A\n",
      " 25%|██▌       | 174/691 [00:35<02:05,  4.12it/s]\u001b[A\n",
      " 25%|██▌       | 175/691 [00:35<01:48,  4.76it/s]\u001b[A\n",
      " 25%|██▌       | 176/691 [00:35<01:43,  4.97it/s]\u001b[A\n",
      " 26%|██▌       | 177/691 [00:35<01:33,  5.50it/s]\u001b[A\n",
      " 26%|██▌       | 178/691 [00:35<01:46,  4.83it/s]\u001b[A\n",
      " 26%|██▌       | 179/691 [00:35<01:34,  5.40it/s]\u001b[A\n",
      " 26%|██▌       | 180/691 [00:36<01:55,  4.42it/s]\u001b[A\n",
      " 26%|██▌       | 181/691 [00:36<01:41,  5.03it/s]\u001b[A\n",
      " 26%|██▋       | 182/691 [00:36<02:09,  3.94it/s]\u001b[A\n",
      " 26%|██▋       | 183/691 [00:37<01:59,  4.25it/s]\u001b[A\n",
      " 27%|██▋       | 184/691 [00:37<01:44,  4.84it/s]\u001b[A\n",
      " 27%|██▋       | 185/691 [00:37<01:32,  5.44it/s]\u001b[A\n",
      " 27%|██▋       | 186/691 [00:37<01:25,  5.93it/s]\u001b[A\n",
      " 27%|██▋       | 187/691 [00:37<01:19,  6.36it/s]\u001b[A\n",
      " 27%|██▋       | 188/691 [00:37<01:15,  6.66it/s]\u001b[A\n",
      " 27%|██▋       | 189/691 [00:37<01:13,  6.83it/s]\u001b[A\n",
      " 27%|██▋       | 190/691 [00:37<01:11,  6.98it/s]\u001b[A\n",
      " 28%|██▊       | 191/691 [00:38<01:34,  5.29it/s]\u001b[A\n",
      " 28%|██▊       | 192/691 [00:38<01:28,  5.66it/s]\u001b[A\n",
      " 28%|██▊       | 193/691 [00:38<01:45,  4.72it/s]\u001b[A\n",
      " 28%|██▊       | 194/691 [00:38<01:33,  5.34it/s]\u001b[A\n",
      " 28%|██▊       | 195/691 [00:39<01:58,  4.18it/s]\u001b[A\n",
      " 28%|██▊       | 196/691 [00:39<01:48,  4.58it/s]\u001b[A\n",
      " 29%|██▊       | 197/691 [00:39<01:38,  5.00it/s]\u001b[A\n",
      " 29%|██▊       | 198/691 [00:39<01:45,  4.65it/s]\u001b[A\n",
      " 29%|██▉       | 199/691 [00:39<01:37,  5.06it/s]\u001b[A\n",
      " 29%|██▉       | 200/691 [00:40<01:43,  4.75it/s]\u001b[A\n",
      " 29%|██▉       | 201/691 [00:40<01:33,  5.26it/s]\u001b[A\n",
      " 29%|██▉       | 202/691 [00:40<01:47,  4.54it/s]\u001b[A\n",
      " 29%|██▉       | 203/691 [00:40<01:37,  4.99it/s]\u001b[A\n",
      " 30%|██▉       | 204/691 [00:41<01:44,  4.67it/s]\u001b[A\n",
      " 30%|██▉       | 205/691 [00:41<01:36,  5.03it/s]\u001b[A\n",
      " 30%|██▉       | 206/691 [00:41<02:02,  3.97it/s]\u001b[A\n",
      " 30%|██▉       | 207/691 [00:41<01:50,  4.38it/s]\u001b[A\n",
      " 30%|███       | 208/691 [00:41<01:45,  4.59it/s]\u001b[A\n",
      " 30%|███       | 209/691 [00:42<01:33,  5.17it/s]\u001b[A\n",
      " 30%|███       | 210/691 [00:42<01:55,  4.18it/s]\u001b[A\n",
      " 31%|███       | 211/691 [00:42<01:40,  4.79it/s]\u001b[A\n",
      " 31%|███       | 212/691 [00:42<02:06,  3.80it/s]\u001b[A\n",
      " 31%|███       | 213/691 [00:43<01:50,  4.33it/s]\u001b[A\n",
      " 31%|███       | 214/691 [00:43<01:47,  4.43it/s]\u001b[A\n",
      " 31%|███       | 215/691 [00:43<01:37,  4.87it/s]\u001b[A\n",
      " 31%|███▏      | 216/691 [00:43<01:58,  4.01it/s]\u001b[A\n",
      " 31%|███▏      | 217/691 [00:43<01:42,  4.65it/s]\u001b[A\n",
      " 32%|███▏      | 218/691 [00:44<01:59,  3.97it/s]\u001b[A\n",
      " 32%|███▏      | 219/691 [00:44<01:45,  4.47it/s]\u001b[A\n",
      " 32%|███▏      | 220/691 [00:44<02:10,  3.61it/s]\u001b[A\n",
      " 32%|███▏      | 221/691 [00:44<01:51,  4.20it/s]\u001b[A\n",
      " 32%|███▏      | 222/691 [00:45<01:42,  4.59it/s]\u001b[A\n",
      " 32%|███▏      | 223/691 [00:45<01:31,  5.09it/s]\u001b[A\n",
      " 32%|███▏      | 224/691 [00:45<01:39,  4.69it/s]\u001b[A\n",
      " 33%|███▎      | 225/691 [00:45<01:29,  5.21it/s]\u001b[A\n",
      " 33%|███▎      | 226/691 [00:45<01:25,  5.43it/s]\u001b[A\n",
      " 33%|███▎      | 227/691 [00:46<01:20,  5.75it/s]\u001b[A\n",
      " 33%|███▎      | 228/691 [00:46<01:40,  4.60it/s]\u001b[A\n",
      " 33%|███▎      | 229/691 [00:46<01:35,  4.82it/s]\u001b[A\n",
      " 33%|███▎      | 230/691 [00:46<01:29,  5.16it/s]\u001b[A\n",
      " 33%|███▎      | 231/691 [00:46<01:24,  5.42it/s]\u001b[A\n",
      " 34%|███▎      | 232/691 [00:46<01:19,  5.76it/s]\u001b[A\n",
      " 34%|███▎      | 233/691 [00:47<01:13,  6.22it/s]\u001b[A\n",
      " 34%|███▍      | 234/691 [00:47<01:16,  5.95it/s]\u001b[A\n",
      " 34%|███▍      | 235/691 [00:47<01:14,  6.13it/s]\u001b[A\n",
      " 34%|███▍      | 236/691 [00:47<01:13,  6.21it/s]\u001b[A\n",
      " 34%|███▍      | 237/691 [00:47<01:21,  5.56it/s]\u001b[A\n",
      " 34%|███▍      | 238/691 [00:47<01:18,  5.77it/s]\u001b[A\n",
      " 35%|███▍      | 239/691 [00:48<01:24,  5.37it/s]\u001b[A\n",
      " 35%|███▍      | 240/691 [00:48<01:19,  5.68it/s]\u001b[A\n",
      " 35%|███▍      | 241/691 [00:48<01:32,  4.89it/s]\u001b[A\n",
      " 35%|███▌      | 242/691 [00:48<01:22,  5.41it/s]\u001b[A\n",
      " 35%|███▌      | 243/691 [00:49<01:39,  4.50it/s]\u001b[A\n",
      " 35%|███▌      | 244/691 [00:49<01:30,  4.92it/s]\u001b[A\n",
      " 35%|███▌      | 245/691 [00:49<01:56,  3.84it/s]\u001b[A\n",
      " 36%|███▌      | 246/691 [00:49<01:39,  4.45it/s]\u001b[A\n",
      " 36%|███▌      | 247/691 [00:50<01:59,  3.71it/s]\u001b[A\n",
      " 36%|███▌      | 248/691 [00:50<01:42,  4.33it/s]\u001b[A\n",
      " 36%|███▌      | 249/691 [00:50<01:35,  4.61it/s]\u001b[A\n",
      " 36%|███▌      | 250/691 [00:50<01:26,  5.12it/s]\u001b[A\n",
      " 36%|███▋      | 251/691 [00:50<01:34,  4.64it/s]\u001b[A\n",
      " 36%|███▋      | 252/691 [00:51<01:25,  5.15it/s]\u001b[A\n",
      " 37%|███▋      | 253/691 [00:51<01:27,  5.02it/s]\u001b[A\n",
      " 37%|███▋      | 254/691 [00:51<01:21,  5.34it/s]\u001b[A\n",
      " 37%|███▋      | 255/691 [00:51<01:14,  5.87it/s]\u001b[A\n",
      " 37%|███▋      | 256/691 [00:51<01:10,  6.20it/s]\u001b[A\n",
      " 37%|███▋      | 257/691 [00:51<01:07,  6.44it/s]\u001b[A\n",
      " 37%|███▋      | 258/691 [00:52<01:15,  5.73it/s]\u001b[A\n",
      " 37%|███▋      | 259/691 [00:52<01:10,  6.09it/s]\u001b[A\n",
      " 38%|███▊      | 260/691 [00:52<01:21,  5.28it/s]\u001b[A\n",
      " 38%|███▊      | 261/691 [00:52<01:20,  5.37it/s]\u001b[A\n",
      " 38%|███▊      | 262/691 [00:52<01:16,  5.64it/s]\u001b[A\n",
      " 38%|███▊      | 263/691 [00:52<01:09,  6.12it/s]\u001b[A\n",
      " 38%|███▊      | 264/691 [00:53<01:08,  6.21it/s]\u001b[A\n",
      " 38%|███▊      | 265/691 [00:53<01:06,  6.36it/s]\u001b[A\n",
      " 38%|███▊      | 266/691 [00:53<01:08,  6.21it/s]\u001b[A\n",
      " 39%|███▊      | 267/691 [00:53<01:07,  6.32it/s]\u001b[A\n",
      " 39%|███▉      | 268/691 [00:53<01:08,  6.17it/s]\u001b[A\n",
      " 39%|███▉      | 269/691 [00:53<01:09,  6.05it/s]\u001b[A\n",
      " 39%|███▉      | 270/691 [00:54<01:10,  6.01it/s]\u001b[A\n",
      " 39%|███▉      | 271/691 [00:54<01:30,  4.63it/s]\u001b[A\n",
      " 39%|███▉      | 272/691 [00:54<01:22,  5.10it/s]\u001b[A\n",
      " 40%|███▉      | 273/691 [00:54<01:13,  5.66it/s]\u001b[A\n",
      " 40%|███▉      | 274/691 [00:54<01:10,  5.93it/s]\u001b[A\n",
      " 40%|███▉      | 275/691 [00:55<01:32,  4.52it/s]\u001b[A\n",
      " 40%|███▉      | 276/691 [00:55<01:23,  4.98it/s]\u001b[A\n",
      " 40%|████      | 277/691 [00:55<01:24,  4.88it/s]\u001b[A\n",
      " 40%|████      | 278/691 [00:55<01:16,  5.38it/s]\u001b[A\n",
      " 40%|████      | 279/691 [00:55<01:10,  5.82it/s]\u001b[A\n",
      " 41%|████      | 280/691 [00:55<01:05,  6.28it/s]\u001b[A\n",
      " 41%|████      | 281/691 [00:56<01:08,  6.00it/s]\u001b[A\n",
      " 41%|████      | 282/691 [00:56<01:07,  6.08it/s]\u001b[A\n",
      " 41%|████      | 283/691 [00:56<01:24,  4.81it/s]\u001b[A\n",
      " 41%|████      | 284/691 [00:56<01:17,  5.26it/s]\u001b[A\n",
      " 41%|████      | 285/691 [00:56<01:27,  4.64it/s]\u001b[A\n",
      " 41%|████▏     | 286/691 [00:57<01:20,  5.04it/s]\u001b[A\n",
      " 42%|████▏     | 287/691 [00:57<01:18,  5.13it/s]\u001b[A\n",
      " 42%|████▏     | 288/691 [00:57<01:12,  5.57it/s]\u001b[A\n",
      " 42%|████▏     | 289/691 [00:57<01:34,  4.25it/s]\u001b[A\n",
      " 42%|████▏     | 290/691 [00:57<01:25,  4.71it/s]\u001b[A\n",
      " 42%|████▏     | 291/691 [00:58<01:22,  4.83it/s]\u001b[A\n",
      " 42%|████▏     | 292/691 [00:58<01:20,  4.96it/s]\u001b[A\n",
      " 42%|████▏     | 293/691 [00:58<01:20,  4.94it/s]\u001b[A\n",
      " 43%|████▎     | 294/691 [00:58<01:13,  5.41it/s]\u001b[A\n",
      " 43%|████▎     | 295/691 [00:58<01:14,  5.33it/s]\u001b[A\n",
      " 43%|████▎     | 296/691 [00:59<01:10,  5.57it/s]\u001b[A\n",
      " 43%|████▎     | 297/691 [00:59<01:05,  5.97it/s]\u001b[A\n",
      " 43%|████▎     | 298/691 [00:59<01:04,  6.14it/s]\u001b[A\n",
      " 43%|████▎     | 299/691 [00:59<01:02,  6.24it/s]\u001b[A\n",
      " 43%|████▎     | 300/691 [00:59<00:59,  6.58it/s]\u001b[A\n",
      " 44%|████▎     | 301/691 [00:59<00:57,  6.80it/s]\u001b[A\n",
      " 44%|████▎     | 302/691 [00:59<00:59,  6.59it/s]\u001b[A\n",
      " 44%|████▍     | 303/691 [01:00<00:57,  6.75it/s]\u001b[A\n",
      " 44%|████▍     | 304/691 [01:00<00:56,  6.87it/s]\u001b[A\n",
      " 44%|████▍     | 305/691 [01:00<00:55,  6.91it/s]\u001b[A\n",
      " 44%|████▍     | 306/691 [01:00<00:55,  6.88it/s]\u001b[A\n",
      " 44%|████▍     | 307/691 [01:00<00:55,  6.96it/s]\u001b[A\n",
      " 45%|████▍     | 308/691 [01:00<00:54,  7.09it/s]\u001b[A\n",
      " 45%|████▍     | 309/691 [01:00<00:54,  6.95it/s]\u001b[A\n"
     ]
    },
    {
     "name": "stderr",
     "output_type": "stream",
     "text": [
      " 45%|████▍     | 310/691 [01:01<00:53,  7.10it/s]\u001b[A\n",
      " 45%|████▌     | 311/691 [01:01<01:24,  4.51it/s]\u001b[A\n",
      " 45%|████▌     | 312/691 [01:01<01:18,  4.84it/s]\u001b[A\n",
      " 45%|████▌     | 313/691 [01:01<01:18,  4.81it/s]\u001b[A\n",
      " 45%|████▌     | 314/691 [01:02<01:11,  5.24it/s]\u001b[A\n",
      " 46%|████▌     | 315/691 [01:02<01:19,  4.75it/s]\u001b[A\n",
      " 46%|████▌     | 316/691 [01:02<01:12,  5.15it/s]\u001b[A\n",
      " 46%|████▌     | 317/691 [01:02<01:13,  5.07it/s]\u001b[A\n",
      " 46%|████▌     | 318/691 [01:02<01:06,  5.59it/s]\u001b[A\n",
      " 46%|████▌     | 319/691 [01:02<01:05,  5.68it/s]\u001b[A\n",
      " 46%|████▋     | 320/691 [01:03<01:00,  6.12it/s]\u001b[A\n",
      " 46%|████▋     | 321/691 [01:03<01:19,  4.63it/s]\u001b[A\n",
      " 47%|████▋     | 322/691 [01:03<01:11,  5.18it/s]\u001b[A\n",
      " 47%|████▋     | 323/691 [01:03<01:06,  5.52it/s]\u001b[A\n",
      " 47%|████▋     | 324/691 [01:03<01:03,  5.82it/s]\u001b[A\n",
      " 47%|████▋     | 325/691 [01:04<01:15,  4.85it/s]\u001b[A\n",
      " 47%|████▋     | 326/691 [01:04<01:07,  5.41it/s]\u001b[A\n",
      " 47%|████▋     | 327/691 [01:04<01:06,  5.46it/s]\u001b[A\n",
      " 47%|████▋     | 328/691 [01:04<01:02,  5.82it/s]\u001b[A\n",
      " 48%|████▊     | 329/691 [01:04<01:06,  5.40it/s]\u001b[A\n",
      " 48%|████▊     | 330/691 [01:04<01:02,  5.82it/s]\u001b[A\n",
      " 48%|████▊     | 331/691 [01:05<00:57,  6.27it/s]\u001b[A\n",
      " 48%|████▊     | 332/691 [01:05<00:54,  6.63it/s]\u001b[A\n",
      " 48%|████▊     | 333/691 [01:05<00:51,  6.91it/s]\u001b[A\n",
      " 48%|████▊     | 334/691 [01:05<00:50,  7.08it/s]\u001b[A\n",
      " 48%|████▊     | 335/691 [01:05<00:49,  7.20it/s]\u001b[A\n",
      " 49%|████▊     | 336/691 [01:05<00:48,  7.29it/s]\u001b[A\n",
      " 49%|████▉     | 337/691 [01:05<00:48,  7.35it/s]\u001b[A\n",
      " 49%|████▉     | 338/691 [01:06<00:47,  7.39it/s]\u001b[A\n",
      " 49%|████▉     | 339/691 [01:06<00:47,  7.40it/s]\u001b[A\n",
      " 49%|████▉     | 340/691 [01:06<00:47,  7.43it/s]\u001b[A\n",
      " 49%|████▉     | 341/691 [01:06<00:47,  7.34it/s]\u001b[A\n",
      " 49%|████▉     | 342/691 [01:06<00:48,  7.24it/s]\u001b[A\n",
      " 50%|████▉     | 343/691 [01:06<00:49,  7.04it/s]\u001b[A\n",
      " 50%|████▉     | 344/691 [01:06<00:48,  7.14it/s]\u001b[A\n",
      " 50%|████▉     | 345/691 [01:06<00:47,  7.24it/s]\u001b[A\n",
      " 50%|█████     | 346/691 [01:07<00:47,  7.32it/s]\u001b[A\n",
      " 50%|█████     | 347/691 [01:07<00:46,  7.38it/s]\u001b[A\n",
      " 50%|█████     | 348/691 [01:07<00:46,  7.45it/s]\u001b[A\n",
      " 51%|█████     | 349/691 [01:07<00:45,  7.51it/s]\u001b[A\n",
      " 51%|█████     | 350/691 [01:07<00:46,  7.39it/s]\u001b[A\n",
      " 51%|█████     | 351/691 [01:07<00:46,  7.26it/s]\u001b[A\n",
      " 51%|█████     | 352/691 [01:07<00:47,  7.15it/s]\u001b[A\n",
      " 51%|█████     | 353/691 [01:08<00:46,  7.26it/s]\u001b[A\n",
      " 51%|█████     | 354/691 [01:08<00:45,  7.36it/s]\u001b[A\n",
      " 51%|█████▏    | 355/691 [01:08<00:46,  7.20it/s]\u001b[A\n",
      " 52%|█████▏    | 356/691 [01:08<00:47,  7.09it/s]\u001b[A\n",
      " 52%|█████▏    | 357/691 [01:08<00:47,  7.09it/s]\u001b[A\n",
      " 52%|█████▏    | 358/691 [01:08<00:47,  7.04it/s]\u001b[A\n",
      " 52%|█████▏    | 359/691 [01:08<00:47,  6.96it/s]\u001b[A\n",
      " 52%|█████▏    | 360/691 [01:09<00:47,  6.90it/s]\u001b[A\n",
      " 52%|█████▏    | 361/691 [01:09<00:47,  7.00it/s]\u001b[A\n",
      " 52%|█████▏    | 362/691 [01:09<00:46,  7.08it/s]\u001b[A\n",
      " 53%|█████▎    | 363/691 [01:09<00:46,  7.07it/s]\u001b[A\n",
      " 53%|█████▎    | 364/691 [01:09<00:45,  7.23it/s]\u001b[A\n",
      " 53%|█████▎    | 365/691 [01:09<00:46,  7.04it/s]\u001b[A\n",
      " 53%|█████▎    | 366/691 [01:09<00:45,  7.09it/s]\u001b[A\n",
      " 53%|█████▎    | 367/691 [01:10<00:45,  7.20it/s]\u001b[A\n",
      " 53%|█████▎    | 368/691 [01:10<00:44,  7.33it/s]\u001b[A\n",
      " 53%|█████▎    | 369/691 [01:10<00:43,  7.38it/s]\u001b[A\n",
      " 54%|█████▎    | 370/691 [01:10<00:43,  7.41it/s]\u001b[A\n",
      " 54%|█████▎    | 371/691 [01:10<00:43,  7.43it/s]\u001b[A\n",
      " 54%|█████▍    | 372/691 [01:10<00:42,  7.45it/s]\u001b[A\n",
      " 54%|█████▍    | 373/691 [01:10<00:43,  7.26it/s]\u001b[A\n",
      " 54%|█████▍    | 374/691 [01:11<00:43,  7.32it/s]\u001b[A\n",
      " 54%|█████▍    | 375/691 [01:11<00:45,  6.93it/s]\u001b[A\n",
      " 54%|█████▍    | 376/691 [01:11<00:45,  6.99it/s]\u001b[A\n",
      " 55%|█████▍    | 377/691 [01:11<00:43,  7.18it/s]\u001b[A\n",
      " 55%|█████▍    | 378/691 [01:11<00:44,  7.00it/s]\u001b[A\n",
      " 55%|█████▍    | 379/691 [01:11<00:44,  6.97it/s]\u001b[A\n",
      " 55%|█████▍    | 380/691 [01:11<00:43,  7.14it/s]\u001b[A\n",
      " 55%|█████▌    | 381/691 [01:11<00:42,  7.29it/s]\u001b[A\n",
      " 55%|█████▌    | 382/691 [01:12<00:42,  7.35it/s]\u001b[A\n",
      " 55%|█████▌    | 383/691 [01:12<00:41,  7.37it/s]\u001b[A\n",
      " 56%|█████▌    | 384/691 [01:12<00:42,  7.14it/s]\u001b[A\n",
      " 56%|█████▌    | 385/691 [01:12<00:42,  7.18it/s]\u001b[A\n",
      " 56%|█████▌    | 386/691 [01:12<00:43,  6.95it/s]\u001b[A\n",
      " 56%|█████▌    | 387/691 [01:12<00:43,  6.95it/s]\u001b[A\n",
      " 56%|█████▌    | 388/691 [01:13<00:43,  6.90it/s]\u001b[A\n",
      " 56%|█████▋    | 389/691 [01:13<00:44,  6.77it/s]\u001b[A\n",
      " 56%|█████▋    | 390/691 [01:13<00:42,  7.01it/s]\u001b[A\n",
      " 57%|█████▋    | 391/691 [01:13<00:42,  6.99it/s]\u001b[A\n",
      " 57%|█████▋    | 392/691 [01:13<00:42,  7.06it/s]\u001b[A\n",
      " 57%|█████▋    | 393/691 [01:13<00:42,  7.04it/s]\u001b[A\n",
      " 57%|█████▋    | 394/691 [01:13<00:41,  7.10it/s]\u001b[A\n",
      " 57%|█████▋    | 395/691 [01:13<00:42,  6.98it/s]\u001b[A\n",
      " 57%|█████▋    | 396/691 [01:14<00:41,  7.18it/s]\u001b[A\n",
      " 57%|█████▋    | 397/691 [01:14<00:40,  7.27it/s]\u001b[A\n",
      " 58%|█████▊    | 398/691 [01:14<00:39,  7.34it/s]\u001b[A\n",
      " 58%|█████▊    | 399/691 [01:14<00:39,  7.34it/s]\u001b[A\n",
      " 58%|█████▊    | 400/691 [01:14<00:39,  7.44it/s]\u001b[A\n",
      " 58%|█████▊    | 401/691 [01:14<00:39,  7.34it/s]\u001b[A\n",
      " 58%|█████▊    | 402/691 [01:14<00:40,  7.19it/s]\u001b[A\n",
      " 58%|█████▊    | 403/691 [01:15<00:39,  7.33it/s]\u001b[A\n",
      " 58%|█████▊    | 404/691 [01:15<00:38,  7.43it/s]\u001b[A\n",
      " 59%|█████▊    | 405/691 [01:15<00:39,  7.32it/s]\u001b[A\n",
      " 59%|█████▉    | 406/691 [01:15<00:38,  7.36it/s]\u001b[A\n",
      " 59%|█████▉    | 407/691 [01:15<00:39,  7.20it/s]\u001b[A\n",
      " 59%|█████▉    | 408/691 [01:15<00:38,  7.32it/s]\u001b[A\n",
      " 59%|█████▉    | 409/691 [01:15<00:38,  7.30it/s]\u001b[A\n",
      " 59%|█████▉    | 410/691 [01:16<00:38,  7.24it/s]\u001b[A\n",
      " 59%|█████▉    | 411/691 [01:16<00:38,  7.23it/s]\u001b[A\n",
      " 60%|█████▉    | 412/691 [01:16<00:37,  7.36it/s]\u001b[A\n",
      " 60%|█████▉    | 413/691 [01:16<00:37,  7.45it/s]\u001b[A\n",
      " 60%|█████▉    | 414/691 [01:16<00:38,  7.24it/s]\u001b[A\n",
      " 60%|██████    | 415/691 [01:16<00:38,  7.08it/s]\u001b[A\n",
      " 60%|██████    | 416/691 [01:16<00:38,  7.23it/s]\u001b[A\n",
      " 60%|██████    | 417/691 [01:17<00:38,  7.14it/s]\u001b[A\n",
      " 60%|██████    | 418/691 [01:17<00:38,  7.12it/s]\u001b[A\n",
      " 61%|██████    | 419/691 [01:17<00:37,  7.22it/s]\u001b[A\n",
      " 61%|██████    | 420/691 [01:17<00:37,  7.28it/s]\u001b[A\n",
      " 61%|██████    | 421/691 [01:17<00:37,  7.17it/s]\u001b[A\n",
      " 61%|██████    | 422/691 [01:17<00:37,  7.25it/s]\u001b[A\n",
      " 61%|██████    | 423/691 [01:17<00:37,  7.17it/s]\u001b[A\n",
      " 61%|██████▏   | 424/691 [01:17<00:36,  7.32it/s]\u001b[A\n",
      " 62%|██████▏   | 425/691 [01:18<00:38,  6.93it/s]\u001b[A\n",
      " 62%|██████▏   | 426/691 [01:18<00:37,  7.05it/s]\u001b[A\n",
      " 62%|██████▏   | 427/691 [01:18<00:36,  7.22it/s]\u001b[A\n",
      " 62%|██████▏   | 428/691 [01:18<00:36,  7.24it/s]\u001b[A\n",
      " 62%|██████▏   | 429/691 [01:18<00:36,  7.23it/s]\u001b[A\n",
      " 62%|██████▏   | 430/691 [01:18<00:41,  6.33it/s]\u001b[A\n",
      " 62%|██████▏   | 431/691 [01:19<00:39,  6.66it/s]\u001b[A\n",
      " 63%|██████▎   | 432/691 [01:19<00:41,  6.22it/s]\u001b[A\n",
      " 63%|██████▎   | 433/691 [01:19<00:40,  6.38it/s]\u001b[A\n",
      " 63%|██████▎   | 434/691 [01:19<00:38,  6.72it/s]\u001b[A\n",
      " 63%|██████▎   | 435/691 [01:19<00:36,  6.94it/s]\u001b[A\n",
      " 63%|██████▎   | 436/691 [01:19<00:35,  7.09it/s]\u001b[A\n",
      " 63%|██████▎   | 437/691 [01:19<00:35,  7.21it/s]\u001b[A\n",
      " 63%|██████▎   | 438/691 [01:20<00:34,  7.34it/s]\u001b[A\n",
      " 64%|██████▎   | 439/691 [01:20<00:34,  7.36it/s]\u001b[A\n",
      " 64%|██████▎   | 440/691 [01:20<00:34,  7.36it/s]\u001b[A\n",
      " 64%|██████▍   | 441/691 [01:20<00:33,  7.40it/s]\u001b[A\n",
      " 64%|██████▍   | 442/691 [01:20<00:33,  7.41it/s]\u001b[A\n",
      " 64%|██████▍   | 443/691 [01:20<00:33,  7.48it/s]\u001b[A\n",
      " 64%|██████▍   | 444/691 [01:20<00:32,  7.54it/s]\u001b[A\n",
      " 64%|██████▍   | 445/691 [01:20<00:32,  7.52it/s]\u001b[A\n",
      " 65%|██████▍   | 446/691 [01:21<00:32,  7.51it/s]\u001b[A\n",
      " 65%|██████▍   | 447/691 [01:21<00:32,  7.55it/s]\u001b[A\n",
      " 65%|██████▍   | 448/691 [01:21<00:32,  7.48it/s]\u001b[A\n",
      " 65%|██████▍   | 449/691 [01:21<00:32,  7.50it/s]\u001b[A\n",
      " 65%|██████▌   | 450/691 [01:21<00:33,  7.19it/s]\u001b[A\n",
      " 65%|██████▌   | 451/691 [01:21<00:33,  7.17it/s]\u001b[A\n",
      " 65%|██████▌   | 452/691 [01:21<00:32,  7.31it/s]\u001b[A\n",
      " 66%|██████▌   | 453/691 [01:22<00:32,  7.40it/s]\u001b[A\n",
      " 66%|██████▌   | 454/691 [01:22<00:31,  7.48it/s]\u001b[A\n",
      " 66%|██████▌   | 455/691 [01:22<00:32,  7.37it/s]\u001b[A\n",
      " 66%|██████▌   | 456/691 [01:22<00:31,  7.46it/s]\u001b[A\n",
      " 66%|██████▌   | 457/691 [01:22<00:31,  7.45it/s]\u001b[A\n",
      " 66%|██████▋   | 458/691 [01:22<00:31,  7.51it/s]\u001b[A\n",
      " 66%|██████▋   | 459/691 [01:22<00:30,  7.50it/s]\u001b[A\n",
      " 67%|██████▋   | 460/691 [01:22<00:30,  7.53it/s]\u001b[A\n",
      " 67%|██████▋   | 461/691 [01:23<00:30,  7.57it/s]\u001b[A\n",
      " 67%|██████▋   | 462/691 [01:23<00:30,  7.60it/s]\u001b[A\n",
      " 67%|██████▋   | 463/691 [01:23<00:29,  7.62it/s]\u001b[A\n"
     ]
    },
    {
     "name": "stderr",
     "output_type": "stream",
     "text": [
      " 67%|██████▋   | 464/691 [01:23<00:29,  7.64it/s]\u001b[A\n",
      " 67%|██████▋   | 465/691 [01:23<00:29,  7.65it/s]\u001b[A\n",
      " 67%|██████▋   | 466/691 [01:23<00:29,  7.66it/s]\u001b[A\n",
      " 68%|██████▊   | 467/691 [01:23<00:29,  7.66it/s]\u001b[A\n",
      " 68%|██████▊   | 468/691 [01:24<00:29,  7.66it/s]\u001b[A\n",
      " 68%|██████▊   | 469/691 [01:24<00:29,  7.64it/s]\u001b[A\n",
      " 68%|██████▊   | 470/691 [01:24<00:28,  7.65it/s]\u001b[A\n",
      " 68%|██████▊   | 471/691 [01:24<00:29,  7.45it/s]\u001b[A\n",
      " 68%|██████▊   | 472/691 [01:24<00:29,  7.51it/s]\u001b[A\n",
      " 68%|██████▊   | 473/691 [01:24<00:28,  7.54it/s]\u001b[A\n",
      " 69%|██████▊   | 474/691 [01:24<00:28,  7.53it/s]\u001b[A\n",
      " 69%|██████▊   | 475/691 [01:24<00:28,  7.51it/s]\u001b[A\n",
      " 69%|██████▉   | 476/691 [01:25<00:29,  7.40it/s]\u001b[A\n",
      " 69%|██████▉   | 477/691 [01:25<00:28,  7.39it/s]\u001b[A\n",
      " 69%|██████▉   | 478/691 [01:25<00:28,  7.37it/s]\u001b[A\n",
      " 69%|██████▉   | 479/691 [01:25<00:28,  7.39it/s]\u001b[A\n",
      " 69%|██████▉   | 480/691 [01:25<00:28,  7.38it/s]\u001b[A\n",
      " 70%|██████▉   | 481/691 [01:25<00:28,  7.39it/s]\u001b[A\n",
      " 70%|██████▉   | 482/691 [01:25<00:28,  7.41it/s]\u001b[A\n",
      " 70%|██████▉   | 483/691 [01:26<00:27,  7.43it/s]\u001b[A\n",
      " 70%|███████   | 484/691 [01:26<00:28,  7.39it/s]\u001b[A\n",
      " 70%|███████   | 485/691 [01:26<00:27,  7.42it/s]\u001b[A\n",
      " 70%|███████   | 486/691 [01:26<00:27,  7.42it/s]\u001b[A\n",
      " 70%|███████   | 487/691 [01:26<00:27,  7.44it/s]\u001b[A\n",
      " 71%|███████   | 488/691 [01:26<00:27,  7.46it/s]\u001b[A\n",
      " 71%|███████   | 489/691 [01:26<00:27,  7.47it/s]\u001b[A\n",
      " 71%|███████   | 490/691 [01:26<00:26,  7.47it/s]\u001b[A\n",
      " 71%|███████   | 491/691 [01:27<00:26,  7.48it/s]\u001b[A\n",
      " 71%|███████   | 492/691 [01:27<00:26,  7.54it/s]\u001b[A\n",
      " 71%|███████▏  | 493/691 [01:27<00:26,  7.58it/s]\u001b[A\n",
      " 71%|███████▏  | 494/691 [01:27<00:26,  7.49it/s]\u001b[A\n",
      " 72%|███████▏  | 495/691 [01:27<00:26,  7.42it/s]\u001b[A\n",
      " 72%|███████▏  | 496/691 [01:27<00:27,  7.03it/s]\u001b[A\n",
      " 72%|███████▏  | 497/691 [01:27<00:27,  7.00it/s]\u001b[A\n",
      " 72%|███████▏  | 498/691 [01:28<00:28,  6.86it/s]\u001b[A\n",
      " 72%|███████▏  | 499/691 [01:28<00:27,  6.87it/s]\u001b[A\n",
      " 72%|███████▏  | 500/691 [01:28<00:27,  6.97it/s]\u001b[A\n",
      " 73%|███████▎  | 501/691 [01:28<00:27,  6.93it/s]\u001b[A\n",
      " 73%|███████▎  | 502/691 [01:28<00:26,  7.14it/s]\u001b[A\n",
      " 73%|███████▎  | 503/691 [01:28<00:25,  7.28it/s]\u001b[A\n",
      " 73%|███████▎  | 504/691 [01:28<00:25,  7.39it/s]\u001b[A\n",
      " 73%|███████▎  | 505/691 [01:29<00:24,  7.46it/s]\u001b[A\n",
      " 73%|███████▎  | 506/691 [01:29<00:24,  7.52it/s]\u001b[A\n",
      " 73%|███████▎  | 507/691 [01:29<00:24,  7.56it/s]\u001b[A\n",
      " 74%|███████▎  | 508/691 [01:29<00:24,  7.54it/s]\u001b[A\n",
      " 74%|███████▎  | 509/691 [01:29<00:24,  7.49it/s]\u001b[A\n",
      " 74%|███████▍  | 510/691 [01:29<00:24,  7.49it/s]\u001b[A\n",
      " 74%|███████▍  | 511/691 [01:29<00:24,  7.49it/s]\u001b[A\n",
      " 74%|███████▍  | 512/691 [01:29<00:23,  7.47it/s]\u001b[A\n",
      " 74%|███████▍  | 513/691 [01:30<00:23,  7.48it/s]\u001b[A\n",
      " 74%|███████▍  | 514/691 [01:30<00:23,  7.48it/s]\u001b[A\n",
      " 75%|███████▍  | 515/691 [01:30<00:23,  7.48it/s]\u001b[A\n",
      " 75%|███████▍  | 516/691 [01:30<00:23,  7.48it/s]\u001b[A\n",
      " 75%|███████▍  | 517/691 [01:30<00:23,  7.40it/s]\u001b[A\n",
      " 75%|███████▍  | 518/691 [01:30<00:23,  7.42it/s]\u001b[A\n",
      " 75%|███████▌  | 519/691 [01:30<00:23,  7.42it/s]\u001b[A\n",
      " 75%|███████▌  | 520/691 [01:31<00:23,  7.43it/s]\u001b[A\n",
      " 75%|███████▌  | 521/691 [01:31<00:23,  7.30it/s]\u001b[A\n",
      " 76%|███████▌  | 522/691 [01:31<00:22,  7.38it/s]\u001b[A\n",
      " 76%|███████▌  | 523/691 [01:31<00:23,  7.12it/s]\u001b[A\n",
      " 76%|███████▌  | 524/691 [01:31<00:22,  7.27it/s]\u001b[A\n",
      " 76%|███████▌  | 525/691 [01:31<00:22,  7.38it/s]\u001b[A\n",
      " 76%|███████▌  | 526/691 [01:31<00:22,  7.45it/s]\u001b[A\n",
      " 76%|███████▋  | 527/691 [01:31<00:21,  7.51it/s]\u001b[A\n",
      " 76%|███████▋  | 528/691 [01:32<00:21,  7.56it/s]\u001b[A\n",
      " 77%|███████▋  | 529/691 [01:32<00:21,  7.54it/s]\u001b[A\n",
      " 77%|███████▋  | 530/691 [01:32<00:21,  7.53it/s]\u001b[A\n",
      " 77%|███████▋  | 531/691 [01:32<00:21,  7.49it/s]\u001b[A\n",
      " 77%|███████▋  | 532/691 [01:32<00:21,  7.34it/s]\u001b[A\n",
      " 77%|███████▋  | 533/691 [01:32<00:21,  7.29it/s]\u001b[A\n",
      " 77%|███████▋  | 534/691 [01:32<00:21,  7.40it/s]\u001b[A\n",
      " 77%|███████▋  | 535/691 [01:33<00:21,  7.42it/s]\u001b[A\n",
      " 78%|███████▊  | 536/691 [01:33<00:21,  7.35it/s]\u001b[A\n",
      " 78%|███████▊  | 537/691 [01:33<00:21,  7.32it/s]\u001b[A\n",
      " 78%|███████▊  | 538/691 [01:33<00:20,  7.42it/s]\u001b[A\n",
      " 78%|███████▊  | 539/691 [01:33<00:20,  7.44it/s]\u001b[A\n",
      " 78%|███████▊  | 540/691 [01:33<00:20,  7.30it/s]\u001b[A\n",
      " 78%|███████▊  | 541/691 [01:33<00:20,  7.15it/s]\u001b[A\n",
      " 78%|███████▊  | 542/691 [01:34<00:20,  7.29it/s]\u001b[A\n",
      " 79%|███████▊  | 543/691 [01:34<00:20,  7.06it/s]\u001b[A\n",
      " 79%|███████▊  | 544/691 [01:34<00:20,  7.22it/s]\u001b[A\n",
      " 79%|███████▉  | 545/691 [01:34<00:19,  7.35it/s]\u001b[A\n",
      " 79%|███████▉  | 546/691 [01:34<00:19,  7.45it/s]\u001b[A\n",
      " 79%|███████▉  | 547/691 [01:34<00:19,  7.46it/s]\u001b[A\n",
      " 79%|███████▉  | 548/691 [01:34<00:19,  7.47it/s]\u001b[A\n",
      " 79%|███████▉  | 549/691 [01:34<00:18,  7.48it/s]\u001b[A\n",
      " 80%|███████▉  | 550/691 [01:35<00:18,  7.49it/s]\u001b[A\n",
      " 80%|███████▉  | 551/691 [01:35<00:18,  7.49it/s]\u001b[A\n",
      " 80%|███████▉  | 552/691 [01:35<00:18,  7.49it/s]\u001b[A\n",
      " 80%|████████  | 553/691 [01:35<00:18,  7.49it/s]\u001b[A\n",
      " 80%|████████  | 554/691 [01:35<00:18,  7.39it/s]\u001b[A\n",
      " 80%|████████  | 555/691 [01:35<00:18,  7.42it/s]\u001b[A\n",
      " 80%|████████  | 556/691 [01:35<00:18,  7.44it/s]\u001b[A\n",
      " 81%|████████  | 557/691 [01:36<00:17,  7.48it/s]\u001b[A\n",
      " 81%|████████  | 558/691 [01:36<00:17,  7.51it/s]\u001b[A\n",
      " 81%|████████  | 559/691 [01:36<00:17,  7.56it/s]\u001b[A\n",
      " 81%|████████  | 560/691 [01:36<00:17,  7.59it/s]\u001b[A\n",
      " 81%|████████  | 561/691 [01:36<00:17,  7.61it/s]\u001b[A\n",
      " 81%|████████▏ | 562/691 [01:36<00:17,  7.48it/s]\u001b[A\n",
      " 81%|████████▏ | 563/691 [01:36<00:16,  7.54it/s]\u001b[A\n",
      " 82%|████████▏ | 564/691 [01:36<00:17,  7.41it/s]\u001b[A\n",
      " 82%|████████▏ | 565/691 [01:37<00:17,  7.35it/s]\u001b[A\n",
      " 82%|████████▏ | 566/691 [01:37<00:16,  7.42it/s]\u001b[A\n",
      " 82%|████████▏ | 567/691 [01:37<00:16,  7.47it/s]\u001b[A\n",
      " 82%|████████▏ | 568/691 [01:37<00:16,  7.49it/s]\u001b[A\n",
      " 82%|████████▏ | 569/691 [01:37<00:16,  7.54it/s]\u001b[A\n",
      " 82%|████████▏ | 570/691 [01:37<00:16,  7.55it/s]\u001b[A\n",
      " 83%|████████▎ | 571/691 [01:37<00:15,  7.58it/s]\u001b[A\n",
      " 83%|████████▎ | 572/691 [01:38<00:16,  7.39it/s]\u001b[A\n",
      " 83%|████████▎ | 573/691 [01:38<00:16,  7.31it/s]\u001b[A\n",
      " 83%|████████▎ | 574/691 [01:38<00:16,  7.20it/s]\u001b[A\n",
      " 83%|████████▎ | 575/691 [01:38<00:16,  7.10it/s]\u001b[A\n",
      " 83%|████████▎ | 576/691 [01:38<00:15,  7.26it/s]\u001b[A\n",
      " 84%|████████▎ | 577/691 [01:38<00:15,  7.36it/s]\u001b[A\n",
      " 84%|████████▎ | 578/691 [01:38<00:15,  7.45it/s]\u001b[A\n",
      " 84%|████████▍ | 579/691 [01:39<00:14,  7.50it/s]\u001b[A\n",
      " 84%|████████▍ | 580/691 [01:39<00:14,  7.55it/s]\u001b[A\n",
      " 84%|████████▍ | 581/691 [01:39<00:14,  7.53it/s]\u001b[A\n",
      " 84%|████████▍ | 582/691 [01:39<00:14,  7.49it/s]\u001b[A\n",
      " 84%|████████▍ | 583/691 [01:39<00:14,  7.30it/s]\u001b[A\n",
      " 85%|████████▍ | 584/691 [01:39<00:14,  7.17it/s]\u001b[A\n",
      " 85%|████████▍ | 585/691 [01:39<00:14,  7.23it/s]\u001b[A\n",
      " 85%|████████▍ | 586/691 [01:39<00:14,  7.36it/s]\u001b[A\n",
      " 85%|████████▍ | 587/691 [01:40<00:13,  7.45it/s]\u001b[A\n",
      " 85%|████████▌ | 588/691 [01:40<00:13,  7.45it/s]\u001b[A\n",
      " 85%|████████▌ | 589/691 [01:40<00:13,  7.46it/s]\u001b[A\n",
      " 85%|████████▌ | 590/691 [01:40<00:13,  7.47it/s]\u001b[A\n",
      " 86%|████████▌ | 591/691 [01:40<00:13,  7.41it/s]\u001b[A\n",
      " 86%|████████▌ | 592/691 [01:40<00:13,  7.44it/s]\u001b[A\n",
      " 86%|████████▌ | 593/691 [01:40<00:13,  7.36it/s]\u001b[A\n",
      " 86%|████████▌ | 594/691 [01:41<00:13,  7.31it/s]\u001b[A\n",
      " 86%|████████▌ | 595/691 [01:41<00:12,  7.39it/s]\u001b[A\n",
      " 86%|████████▋ | 596/691 [01:41<00:13,  7.04it/s]\u001b[A\n",
      " 86%|████████▋ | 597/691 [01:41<00:13,  7.12it/s]\u001b[A\n",
      " 87%|████████▋ | 598/691 [01:41<00:12,  7.27it/s]\u001b[A\n",
      " 87%|████████▋ | 599/691 [01:41<00:12,  7.32it/s]\u001b[A\n",
      " 87%|████████▋ | 600/691 [01:41<00:12,  7.29it/s]\u001b[A\n",
      " 87%|████████▋ | 601/691 [01:42<00:12,  7.35it/s]\u001b[A\n",
      " 87%|████████▋ | 602/691 [01:42<00:12,  7.39it/s]\u001b[A\n",
      " 87%|████████▋ | 603/691 [01:42<00:11,  7.42it/s]\u001b[A\n",
      " 87%|████████▋ | 604/691 [01:42<00:11,  7.47it/s]\u001b[A\n",
      " 88%|████████▊ | 605/691 [01:42<00:11,  7.47it/s]\u001b[A\n",
      " 88%|████████▊ | 606/691 [01:42<00:11,  7.49it/s]\u001b[A\n",
      " 88%|████████▊ | 607/691 [01:42<00:11,  7.54it/s]\u001b[A\n",
      " 88%|████████▊ | 608/691 [01:42<00:11,  7.15it/s]\u001b[A\n",
      " 88%|████████▊ | 609/691 [01:43<00:11,  7.30it/s]\u001b[A\n",
      " 88%|████████▊ | 610/691 [01:43<00:10,  7.40it/s]\u001b[A\n",
      " 88%|████████▊ | 611/691 [01:43<00:10,  7.48it/s]\u001b[A\n",
      " 89%|████████▊ | 612/691 [01:43<00:10,  7.47it/s]\u001b[A\n",
      " 89%|████████▊ | 613/691 [01:43<00:10,  7.48it/s]\u001b[A\n",
      " 89%|████████▉ | 614/691 [01:43<00:10,  7.39it/s]\u001b[A\n",
      " 89%|████████▉ | 615/691 [01:43<00:10,  7.47it/s]\u001b[A\n",
      " 89%|████████▉ | 616/691 [01:44<00:10,  7.29it/s]\u001b[A\n",
      " 89%|████████▉ | 617/691 [01:44<00:10,  7.15it/s]\u001b[A\n"
     ]
    },
    {
     "name": "stderr",
     "output_type": "stream",
     "text": [
      " 89%|████████▉ | 618/691 [01:44<00:10,  7.29it/s]\u001b[A\n",
      " 90%|████████▉ | 619/691 [01:44<00:10,  7.14it/s]\u001b[A\n",
      " 90%|████████▉ | 620/691 [01:44<00:10,  6.94it/s]\u001b[A\n",
      " 90%|████████▉ | 621/691 [01:44<00:10,  6.94it/s]\u001b[A\n",
      " 90%|█████████ | 622/691 [01:44<00:09,  7.10it/s]\u001b[A\n",
      " 90%|█████████ | 623/691 [01:45<00:09,  7.24it/s]\u001b[A\n",
      " 90%|█████████ | 624/691 [01:45<00:09,  7.17it/s]\u001b[A\n",
      " 90%|█████████ | 625/691 [01:45<00:09,  7.24it/s]\u001b[A\n",
      " 91%|█████████ | 626/691 [01:45<00:08,  7.37it/s]\u001b[A\n",
      " 91%|█████████ | 627/691 [01:45<00:08,  7.21it/s]\u001b[A\n",
      " 91%|█████████ | 628/691 [01:45<00:08,  7.17it/s]\u001b[A\n",
      " 91%|█████████ | 629/691 [01:45<00:08,  7.29it/s]\u001b[A\n",
      " 91%|█████████ | 630/691 [01:45<00:08,  7.39it/s]\u001b[A\n",
      " 91%|█████████▏| 631/691 [01:46<00:08,  7.45it/s]\u001b[A\n",
      " 91%|█████████▏| 632/691 [01:46<00:08,  7.32it/s]\u001b[A\n",
      " 92%|█████████▏| 633/691 [01:46<00:07,  7.42it/s]\u001b[A\n",
      " 92%|█████████▏| 634/691 [01:46<00:07,  7.42it/s]\u001b[A\n",
      " 92%|█████████▏| 635/691 [01:46<00:07,  7.44it/s]\u001b[A\n",
      " 92%|█████████▏| 636/691 [01:46<00:07,  7.44it/s]\u001b[A\n",
      " 92%|█████████▏| 637/691 [01:46<00:07,  7.46it/s]\u001b[A\n",
      " 92%|█████████▏| 638/691 [01:47<00:07,  7.11it/s]\u001b[A\n",
      " 92%|█████████▏| 639/691 [01:47<00:07,  7.19it/s]\u001b[A\n",
      " 93%|█████████▎| 640/691 [01:47<00:07,  7.05it/s]\u001b[A\n",
      " 93%|█████████▎| 641/691 [01:47<00:07,  6.94it/s]\u001b[A\n",
      " 93%|█████████▎| 642/691 [01:47<00:07,  6.91it/s]\u001b[A\n",
      " 93%|█████████▎| 643/691 [01:47<00:07,  6.61it/s]\u001b[A\n",
      " 93%|█████████▎| 644/691 [01:47<00:07,  6.55it/s]\u001b[A\n",
      " 93%|█████████▎| 645/691 [01:48<00:07,  6.31it/s]\u001b[A\n",
      " 93%|█████████▎| 646/691 [01:48<00:06,  6.62it/s]\u001b[A\n",
      " 94%|█████████▎| 647/691 [01:48<00:06,  6.68it/s]\u001b[A\n",
      " 94%|█████████▍| 648/691 [01:48<00:06,  6.90it/s]\u001b[A\n",
      " 94%|█████████▍| 649/691 [01:48<00:06,  6.82it/s]\u001b[A\n",
      " 94%|█████████▍| 650/691 [01:48<00:05,  6.88it/s]\u001b[A\n",
      " 94%|█████████▍| 651/691 [01:48<00:05,  7.10it/s]\u001b[A\n",
      " 94%|█████████▍| 652/691 [01:49<00:05,  7.25it/s]\u001b[A\n",
      " 95%|█████████▍| 653/691 [01:49<00:05,  7.19it/s]\u001b[A\n",
      " 95%|█████████▍| 654/691 [01:49<00:05,  7.22it/s]\u001b[A\n",
      " 95%|█████████▍| 655/691 [01:49<00:04,  7.27it/s]\u001b[A\n",
      " 95%|█████████▍| 656/691 [01:49<00:04,  7.12it/s]\u001b[A\n",
      " 95%|█████████▌| 657/691 [01:49<00:04,  7.11it/s]\u001b[A\n",
      " 95%|█████████▌| 658/691 [01:49<00:04,  7.24it/s]\u001b[A\n",
      " 95%|█████████▌| 659/691 [01:50<00:04,  7.20it/s]\u001b[A\n",
      " 96%|█████████▌| 660/691 [01:50<00:04,  7.18it/s]\u001b[A\n",
      " 96%|█████████▌| 661/691 [01:50<00:04,  7.24it/s]\u001b[A\n",
      " 96%|█████████▌| 662/691 [01:50<00:03,  7.26it/s]\u001b[A\n",
      " 96%|█████████▌| 663/691 [01:50<00:04,  6.80it/s]\u001b[A\n",
      " 96%|█████████▌| 664/691 [01:50<00:04,  6.47it/s]\u001b[A\n",
      " 96%|█████████▌| 665/691 [01:50<00:03,  6.79it/s]\u001b[A\n",
      " 96%|█████████▋| 666/691 [01:51<00:03,  6.97it/s]\u001b[A\n",
      " 97%|█████████▋| 667/691 [01:51<00:03,  6.40it/s]\u001b[A\n",
      " 97%|█████████▋| 668/691 [01:51<00:03,  6.61it/s]\u001b[A\n",
      " 97%|█████████▋| 669/691 [01:51<00:03,  6.81it/s]\u001b[A\n",
      " 97%|█████████▋| 670/691 [01:51<00:02,  7.03it/s]\u001b[A\n",
      " 97%|█████████▋| 671/691 [01:51<00:02,  7.21it/s]\u001b[A\n",
      " 97%|█████████▋| 672/691 [01:51<00:02,  7.34it/s]\u001b[A\n",
      " 97%|█████████▋| 673/691 [01:52<00:02,  7.44it/s]\u001b[A\n",
      " 98%|█████████▊| 674/691 [01:52<00:02,  7.50it/s]\u001b[A\n",
      " 98%|█████████▊| 675/691 [01:52<00:02,  7.50it/s]\u001b[A\n",
      " 98%|█████████▊| 676/691 [01:52<00:01,  7.50it/s]\u001b[A\n",
      " 98%|█████████▊| 677/691 [01:52<00:01,  7.56it/s]\u001b[A\n",
      " 98%|█████████▊| 678/691 [01:52<00:01,  7.59it/s]\u001b[A\n",
      " 98%|█████████▊| 679/691 [01:52<00:01,  7.59it/s]\u001b[A\n",
      " 98%|█████████▊| 680/691 [01:53<00:01,  7.38it/s]\u001b[A\n",
      " 99%|█████████▊| 681/691 [01:53<00:01,  7.43it/s]\u001b[A\n",
      " 99%|█████████▊| 682/691 [01:53<00:01,  7.50it/s]\u001b[A\n",
      " 99%|█████████▉| 683/691 [01:53<00:01,  7.35it/s]\u001b[A\n",
      " 99%|█████████▉| 684/691 [01:53<00:00,  7.45it/s]\u001b[A\n",
      " 99%|█████████▉| 685/691 [01:53<00:00,  7.46it/s]\u001b[A\n",
      " 99%|█████████▉| 686/691 [01:53<00:00,  7.47it/s]\u001b[A\n",
      " 99%|█████████▉| 687/691 [01:53<00:00,  7.48it/s]\u001b[A\n",
      "100%|█████████▉| 688/691 [01:54<00:00,  7.44it/s]\u001b[A\n",
      "100%|█████████▉| 689/691 [01:54<00:00,  7.51it/s]\u001b[A\n",
      "100%|█████████▉| 690/691 [01:54<00:00,  7.56it/s]\u001b[A\n",
      "100%|██████████| 691/691 [01:54<00:00,  7.59it/s]\u001b[A"
     ]
    },
    {
     "name": "stdout",
     "output_type": "stream",
     "text": [
      "0.018293922352462903\n"
     ]
    }
   ],
   "source": [
    "pbar = tqdm(total=len(dl))\n",
    "s = 0\n",
    "for batch in dl:\n",
    "    for k in batch:\n",
    "        if k == 'label':\n",
    "            batch[k] = batch[k].long()\n",
    "        else:\n",
    "            batch[k] = batch[k].float()\n",
    "        batch[k] = batch[k].cuda()\n",
    "    with torch.no_grad():\n",
    "        outputs = model(batch['image'],batch['bbox'])\n",
    "    dis_trans = torch.norm(batch['position'] - dist_to_coord(outputs,batch), dim=1)\n",
    "    s += (dis_trans < 0.1).long().sum().item()\n",
    "    pbar.update()\n",
    "print(s / len(ds))"
   ]
  },
  {
   "cell_type": "code",
   "execution_count": 38,
   "metadata": {
    "scrolled": true
   },
   "outputs": [
    {
     "name": "stdout",
     "output_type": "stream",
     "text": [
      "810\n"
     ]
    }
   ],
   "source": [
    "print(s)"
   ]
  },
  {
   "cell_type": "markdown",
   "metadata": {},
   "source": [
    "torch.save(model.state_dict(), \"model_1601_1500.pth\")\n",
    "torch.save(optimizer.state_dict(), \"optim_1601_1500.pth\")"
   ]
  },
  {
   "cell_type": "markdown",
   "metadata": {},
   "source": [
    "plt.plot([l[\"cls_loss\"] for l in losses], alpha=0.2) #second epoch lr =1e-4\n",
    "plt.plot(smooth(0.1, [l[\"cls_loss\"] for l in losses]))\n",
    "plt.ylim((0,0.5))\n",
    "plt.grid()"
   ]
  },
  {
   "cell_type": "markdown",
   "metadata": {
    "scrolled": true
   },
   "source": [
    "# lr = 0.0001\n",
    "plt.plot([l[\"trans_loss\"] for l in losses], alpha=0.2)\n",
    "plt.plot(smooth(0.1, [l[\"trans_loss\"] for l in losses]))\n",
    "plt.ylim(0,30)\n",
    "plt.grid()"
   ]
  },
  {
   "cell_type": "markdown",
   "metadata": {},
   "source": [
    "# lr = 0.001\n",
    "plt.plot([l[\"loss\"] for l in losses], alpha=0.2)\n",
    "plt.plot(smooth(0.1, [l[\"loss\"] for l in losses]))\n",
    "plt.ylim((0,7))\n",
    "plt.grid()"
   ]
  },
  {
   "cell_type": "markdown",
   "metadata": {},
   "source": [
    "# lr = 0.001, LeakyReLU\n",
    "plt.plot([l[\"trans_loss\"] for l in losses], alpha=0.2)\n",
    "plt.plot(smooth(0.1, [l[\"trans_loss\"] for l in losses]))\n",
    "plt.ylim((0,30))\n",
    "plt.grid()"
   ]
  },
  {
   "cell_type": "markdown",
   "metadata": {},
   "source": [
    "# lr = 0.001, ReLU, xavier_normal + constant\n",
    "plt.plot([l[\"trans_loss\"] for l in losses], alpha=0.2)\n",
    "plt.plot(smooth(0.1, [l[\"trans_loss\"] for l in losses]))\n",
    "plt.ylim((0,30))\n",
    "plt.grid()"
   ]
  },
  {
   "cell_type": "markdown",
   "metadata": {},
   "source": [
    "# lr = 0.001, ReLU, kaiming_normal + constant\n",
    "plt.plot([l[\"trans_loss\"] for l in losses], alpha=0.2)\n",
    "plt.plot(smooth(0.1, [l[\"trans_loss\"] for l in losses]))\n",
    "plt.ylim((0,30))\n",
    "plt.grid()"
   ]
  },
  {
   "cell_type": "markdown",
   "metadata": {},
   "source": [
    "# lr = 0.001, LeakyReLU, kaiming_normal + constant\n",
    "plt.plot([l[\"trans_loss\"] for l in losses], alpha=0.2)\n",
    "plt.plot(smooth(0.1, [l[\"trans_loss\"] for l in losses]))\n",
    "plt.ylim((0,30))\n",
    "plt.grid()"
   ]
  },
  {
   "cell_type": "markdown",
   "metadata": {},
   "source": [
    "# lr = 0.001, LeakyReLU, kaiming_normal + constant\n",
    "plt.plot([l[\"trans_loss\"] for l in losses], alpha=0.2)\n",
    "plt.plot(smooth(0.1, [l[\"trans_loss\"] for l in losses]))\n",
    "plt.ylim((0,0.1))\n",
    "plt.grid()"
   ]
  },
  {
   "cell_type": "markdown",
   "metadata": {},
   "source": [
    "# lr = 1E-6, LeakyReLU, kaiming_normal + constant\n",
    "plt.plot([l[\"trans_loss\"] for l in losses], alpha=0.2)\n",
    "plt.plot(smooth(0.1, [l[\"trans_loss\"] for l in losses]))\n",
    "plt.ylim((0,0.1))\n",
    "plt.grid()"
   ]
  },
  {
   "cell_type": "markdown",
   "metadata": {},
   "source": [
    "torch.save(model.state_dict(), \"scare_model.pth\")\n",
    "torch.save(optimizer.state_dict(), \"scare_optim.pth\")"
   ]
  },
  {
   "cell_type": "markdown",
   "metadata": {},
   "source": [
    "batch['orientation']"
   ]
  },
  {
   "cell_type": "markdown",
   "metadata": {},
   "source": [
    "outputs['orientation'] / torch.norm(outputs['orientation'], dim=-1, keepdim=True)"
   ]
  },
  {
   "cell_type": "markdown",
   "metadata": {},
   "source": [
    "torch.sum(torch.abs(outputs['orientation'] / torch.norm(outputs['orientation'], dim=-1, keepdim=True) - batch['orientation']), dim=1)"
   ]
  },
  {
   "cell_type": "markdown",
   "metadata": {},
   "source": [
    "torch.sum((outputs['orientation'] / torch.norm(outputs['orientation'], dim=-1, keepdim=True) - batch['orientation']) ** 2, dim=1) ** 0.5"
   ]
  },
  {
   "cell_type": "markdown",
   "metadata": {},
   "source": [
    "batch['label']"
   ]
  },
  {
   "cell_type": "markdown",
   "metadata": {},
   "source": [
    "torch.argmax(outputs['cls_score'], dim=1)"
   ]
  },
  {
   "cell_type": "markdown",
   "metadata": {},
   "source": [
    "model.backbone"
   ]
  },
  {
   "cell_type": "markdown",
   "metadata": {},
   "source": [
    "nn.Sequential"
   ]
  },
  {
   "cell_type": "markdown",
   "metadata": {},
   "source": [
    "import pandas as pd"
   ]
  },
  {
   "cell_type": "markdown",
   "metadata": {},
   "source": [
    "df = pd.read_csv(C.TRAIN_CSV)"
   ]
  },
  {
   "cell_type": "markdown",
   "metadata": {},
   "source": [
    "df.head()"
   ]
  },
  {
   "cell_type": "markdown",
   "metadata": {},
   "source": [
    "import utils"
   ]
  },
  {
   "cell_type": "markdown",
   "metadata": {},
   "source": [
    "train_anns = utils.load_train_annotations()"
   ]
  },
  {
   "cell_type": "markdown",
   "metadata": {},
   "source": [
    "train_anns[\"ID_8a6e65317\"]"
   ]
  },
  {
   "cell_type": "markdown",
   "metadata": {},
   "source": [
    "orientations_euler = []\n",
    "for k, v in train_anns.items():\n",
    "    for y, p, r in zip(v[\"yaws\"], v[\"pitches\"], v[\"rolls\"]):\n",
    "        orientations_euler.append((-p, -y, -r))"
   ]
  },
  {
   "cell_type": "markdown",
   "metadata": {},
   "source": [
    "len(orientations_euler)"
   ]
  },
  {
   "cell_type": "markdown",
   "metadata": {},
   "source": [
    "from scipy.spatial.transform import rotation as R"
   ]
  },
  {
   "cell_type": "markdown",
   "metadata": {},
   "source": [
    "euler_angles = self.gt[\"annotations\"][idx][self.orientation_field]\n",
    "rotation = R.from_euler(\"XYZ\", euler_angles)\n",
    "q = rotation.as_quat()"
   ]
  },
  {
   "cell_type": "markdown",
   "metadata": {},
   "source": [
    "def quaternion_to_euler_angle(q):\n",
    "\n",
    "    \"\"\"Convert quaternion to euler angel.\n",
    "    Input:\n",
    "        q: 1 * 4 vector,\n",
    "    Output:\n",
    "        angle: 1 x 3 vector, each row is [roll, pitch, yaw]\n",
    "    \"\"\"\n",
    "    w, x, y, z = q\n",
    "    t0 = +2.0 * (w * x + y * z)\n",
    "    t1 = +1.0 - 2.0 * (x * x + y * y)\n",
    "    X = math.atan2(t0, t1)\n",
    "\n",
    "    t2 = +2.0 * (w * y - z * x)\n",
    "    t2 = +1.0 if t2 > +1.0 else t2\n",
    "    t2 = -1.0 if t2 < -1.0 else t2\n",
    "    Y = math.asin(t2)\n",
    "\n",
    "    t3 = +2.0 * (w * z + x * y)\n",
    "    t4 = +1.0 - 2.0 * (y * y + z * z)\n",
    "    Z = math.atan2(t3, t4)\n",
    "\n",
    "    return X, Y, Z"
   ]
  },
  {
   "cell_type": "markdown",
   "metadata": {},
   "source": [
    "def euler_angles_to_quaternions(angle):\n",
    "    \"\"\"Convert euler angels to quaternions representation.\n",
    "    Input:\n",
    "        angle: n x 3 matrix, each row is [roll, pitch, yaw]\n",
    "    Output:\n",
    "        q: n x 4 matrix, each row is corresponding quaternion.\n",
    "    \"\"\"\n",
    "\n",
    "    in_dim = np.ndim(angle)\n",
    "    if in_dim == 1:\n",
    "        angle = angle[None, :]\n",
    "\n",
    "    n = angle.shape[0]\n",
    "    roll, pitch, yaw = angle[:, 0], angle[:, 1], angle[:, 2]\n",
    "    q = np.zeros((n, 4))\n",
    "\n",
    "    cy = np.cos(yaw * 0.5)\n",
    "    sy = np.sin(yaw * 0.5)\n",
    "    cr = np.cos(roll * 0.5)\n",
    "    sr = np.sin(roll * 0.5)\n",
    "    cp = np.cos(pitch * 0.5)\n",
    "    sp = np.sin(pitch * 0.5)\n",
    "\n",
    "    q[:, 0] = cy * cr * cp + sy * sr * sp\n",
    "    q[:, 1] = cy * sr * cp - sy * cr * sp\n",
    "    q[:, 2] = cy * cr * sp + sy * sr * cp\n",
    "    q[:, 3] = sy * cr * cp - cy * sr * sp\n",
    "\n",
    "    return q"
   ]
  },
  {
   "cell_type": "markdown",
   "metadata": {},
   "source": [
    "orientations_euler = np.array(orientations_euler)"
   ]
  },
  {
   "cell_type": "markdown",
   "metadata": {},
   "source": [
    "orientations_quat = euler_angles_to_quaternions(orientations_euler[:, ::-1])"
   ]
  },
  {
   "cell_type": "markdown",
   "metadata": {},
   "source": [
    "orientations_quat[:30]"
   ]
  },
  {
   "cell_type": "markdown",
   "metadata": {},
   "source": [
    "for q in orientations_quat[:100]:\n",
    "    print(q)"
   ]
  },
  {
   "cell_type": "markdown",
   "metadata": {},
   "source": [
    "orientations_quat[0]"
   ]
  },
  {
   "cell_type": "markdown",
   "metadata": {},
   "source": [
    "((orientations_quat[2][1:] / np.sin(np.arccos(orientations_quat[2][0]))) ** 2).sum()"
   ]
  },
  {
   "cell_type": "markdown",
   "metadata": {},
   "source": [
    "((orientations_quat[2][:-1] / np.sin(np.arccos(orientations_quat[2][-1]))) ** 2).sum()"
   ]
  },
  {
   "cell_type": "code",
   "execution_count": null,
   "metadata": {},
   "outputs": [],
   "source": []
  }
 ],
 "metadata": {
  "kernelspec": {
   "display_name": "Python 3",
   "language": "python",
   "name": "python3"
  },
  "language_info": {
   "codemirror_mode": {
    "name": "ipython",
    "version": 3
   },
   "file_extension": ".py",
   "mimetype": "text/x-python",
   "name": "python",
   "nbconvert_exporter": "python",
   "pygments_lexer": "ipython3",
   "version": "3.7.4"
  }
 },
 "nbformat": 4,
 "nbformat_minor": 2
}
