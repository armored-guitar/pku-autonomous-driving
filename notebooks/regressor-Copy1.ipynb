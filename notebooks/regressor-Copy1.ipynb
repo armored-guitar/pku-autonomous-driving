{
 "cells": [
  {
   "cell_type": "code",
   "execution_count": 1,
   "metadata": {},
   "outputs": [
    {
     "name": "stdout",
     "output_type": "stream",
     "text": [
      "\u001b[0m\u001b[1;31m                          ./+o+-      \u001b[0m\u001b[1;31m ivb\u001b[0m\u001b[1m@\u001b[0m\u001b[0m\u001b[1;31mcds2\u001b[0m\n",
      "\u001b[0m\u001b[1;37m                  yyyyy- \u001b[0m\u001b[1;31m-yyyyyy+     \u001b[0m\u001b[1;31m OS:\u001b[0m Ubuntu 18.04 bionic\u001b[0m\n",
      "\u001b[0m\u001b[1;37m               \u001b[0m\u001b[1;37m://+//////\u001b[0m\u001b[1;31m-yyyyyyo     \u001b[0m\u001b[1;31m Kernel:\u001b[0m x86_64 Linux 4.15.0-74-generic\u001b[0m\n",
      "\u001b[0m\u001b[1;33m           .++ \u001b[0m\u001b[1;37m.:/++++++/-\u001b[0m\u001b[1;31m.+sss/`     \u001b[0m\u001b[1;31m Uptime:\u001b[0m 10h 27m\u001b[0m\n",
      "\u001b[0m\u001b[1;33m         .:++o:  \u001b[0m\u001b[1;37m/++++++++/:--:/-     \u001b[0m\u001b[1;31m Packages:\u001b[0m 3045\u001b[0m\n",
      "\u001b[0m\u001b[1;33m        o:+o+:++.\u001b[0m\u001b[1;37m`..```.-/oo+++++/    \u001b[0m\u001b[1;31m Shell:\u001b[0m sh\u001b[0m\n",
      "\u001b[0m\u001b[1;33m       .:+o:+o/.\u001b[0m\u001b[1;37m          `+sssoo+/   \u001b[0m\u001b[1;31m CPU:\u001b[0m Intel Xeon Gold 6154 @ 16x 3GHz\u001b[0m\n",
      "\u001b[0m\u001b[1;37m  .++/+:\u001b[0m\u001b[1;33m+oo+o:`\u001b[0m\u001b[1;37m             /sssooo.  \u001b[0m\u001b[1;31m GPU:\u001b[0m Tesla V100-SXM2-32GB, Tesla V100-SXM2-32GB, Tesla V100-SXM2-32GB, Tesla V100-SXM2-32GB\u001b[0m\n",
      "\u001b[0m\u001b[1;37m /+++//+:\u001b[0m\u001b[1;33m`oo+o\u001b[0m\u001b[1;37m               /::--:.  \u001b[0m\u001b[1;31m RAM:\u001b[0m 18568MiB / 128933MiB\u001b[0m\n",
      "\u001b[0m\u001b[1;37m \\+/+o+++\u001b[0m\u001b[1;33m`o++o\u001b[0m\u001b[1;31m               ++////.  \u001b[0m\n",
      "\u001b[0m\u001b[1;37m  .++.o+\u001b[0m\u001b[1;33m++oo+:`\u001b[0m\u001b[1;31m             /dddhhh.  \u001b[0m\n",
      "\u001b[0m\u001b[1;33m       .+.o+oo:.\u001b[0m\u001b[1;31m          `oddhhhh+   \u001b[0m\n",
      "\u001b[0m\u001b[1;33m        \\+.++o+o`\u001b[0m\u001b[1;31m`-````.:ohdhhhhh+    \u001b[0m\n",
      "\u001b[0m\u001b[1;33m         `:o+++ \u001b[0m\u001b[1;31m`ohhhhhhhhyo++os:     \u001b[0m\n",
      "\u001b[0m\u001b[1;33m           .o:\u001b[0m\u001b[1;31m`.syhhhhhhh/\u001b[0m\u001b[1;33m.oo++o`     \u001b[0m\n",
      "\u001b[0m\u001b[1;31m               /osyyyyyyo\u001b[0m\u001b[1;33m++ooo+++/    \u001b[0m\n",
      "\u001b[0m\u001b[1;31m                   ````` \u001b[0m\u001b[1;33m+oo+++o\\:    \u001b[0m\n",
      "\u001b[0m\u001b[1;33m                          `oo++.      \u001b[0m\n"
     ]
    }
   ],
   "source": [
    "!screenfetch"
   ]
  },
  {
   "cell_type": "code",
   "execution_count": 2,
   "metadata": {},
   "outputs": [],
   "source": [
    "%load_ext autoreload\n",
    "%autoreload 2"
   ]
  },
  {
   "cell_type": "code",
   "execution_count": 3,
   "metadata": {},
   "outputs": [],
   "source": [
    "import torch\n",
    "import numpy as np\n",
    "import json\n",
    "import config as C\n",
    "import os\n",
    "import cv2\n",
    "from PIL import Image\n",
    "import matplotlib.pyplot as plt\n",
    "from utils import parse_camera_intrinsic as parse_camera_intrinsic\n",
    "from scipy.spatial.transform import Rotation as R\n",
    "from torch.utils.data import Dataset, DataLoader\n",
    "from torchvision import models\n",
    "from torchvision import transforms as T\n",
    "from torch import nn\n",
    "from tqdm import tqdm"
   ]
  },
  {
   "cell_type": "code",
   "execution_count": 4,
   "metadata": {},
   "outputs": [],
   "source": [
    "os.environ['CUDA_VISIBLE_DEVICES'] = '1'"
   ]
  },
  {
   "cell_type": "code",
   "execution_count": 5,
   "metadata": {},
   "outputs": [],
   "source": [
    "with open(C.TRAIN_CROPS_JSON, \"r\") as f:\n",
    "    train_gt = json.load(f)"
   ]
  },
  {
   "cell_type": "code",
   "execution_count": 6,
   "metadata": {
    "scrolled": true
   },
   "outputs": [
    {
     "data": {
      "text/plain": [
       "{'id': 1,\n",
       " 'image_id': 0,\n",
       " 'category_id': 47,\n",
       " 'bbox': [1723.0, 1776.0, 29.0, 26.0],\n",
       " 'position': [3.8249, 31.7701, 168.57],\n",
       " 'orientation': [0.0063812, -0.184722, 3.13912],\n",
       " 'orientation_relative': [0.006918107352997232,\n",
       "  -0.18451171371342667,\n",
       "  3.139121365067781]}"
      ]
     },
     "execution_count": 6,
     "metadata": {},
     "output_type": "execute_result"
    }
   ],
   "source": [
    "train_gt[\"annotations\"][0]"
   ]
  },
  {
   "cell_type": "code",
   "execution_count": 7,
   "metadata": {},
   "outputs": [],
   "source": [
    "p = parse_camera_intrinsic()\n",
    "for k in p:\n",
    "    p[k] = torch.from_numpy(np.array(p[k],dtype=np.float))"
   ]
  },
  {
   "cell_type": "code",
   "execution_count": 8,
   "metadata": {},
   "outputs": [],
   "source": [
    "class PKURegressionDataset(Dataset):\n",
    "    \n",
    "    def __init__(self, orientation_field, images_dir, max_size, transforms=None):\n",
    "        super().__init__()\n",
    "        self.orientation_field = orientation_field\n",
    "        self.images_dir = images_dir\n",
    "        self.max_size = max_size\n",
    "        self.transforms = transforms\n",
    "        \n",
    "        with open(C.TRAIN_CROPS_JSON, \"r\") as f:\n",
    "            self.gt = json.load(f)\n",
    "        \n",
    "        cat_ids = set(ann['category_id'] for ann in self.gt['annotations'])\n",
    "        categories = [cat for cat in self.gt['categories'] if cat['id'] in cat_ids]\n",
    "        self.category_id_to_label = {\n",
    "            cat[\"id\"]: label\n",
    "            for label, cat in enumerate(sorted(categories, key=lambda x: x[\"id\"]))\n",
    "        }\n",
    "        self.image_id_to_path = {\n",
    "            image[\"id\"]: os.path.join(images_dir, image[\"file_name\"]) \n",
    "            for image in self.gt[\"images\"]\n",
    "        }\n",
    "        self.p = parse_camera_intrinsic()\n",
    "        for k in self.p:\n",
    "            self.p[k] = float(self.p[k])\n",
    "    \n",
    "    def __len__(self):\n",
    "        return len(self.gt[\"annotations\"])\n",
    "    \n",
    "    def __getitem__(self, idx):\n",
    "        image = self.load_image(idx)\n",
    "        label = self.get_label(idx)\n",
    "        bbox_x, bbox_y, bbox_w, bbox_h = self.get_bbox(idx)\n",
    "        bbox_center_x, bbox_center_y = bbox_x + bbox_w / 2, bbox_y + bbox_h / 2\n",
    "        wx, wy, wz = self.get_position(idx)\n",
    "        orientation = self.get_orientation(idx)\n",
    "        \n",
    "        result =  dict(\n",
    "            image=image,\n",
    "            label=label,\n",
    "            bbox=np.array([(bbox_center_x-self.p['cx'])/self.p['fx'], (bbox_center_y-self.p['cy'])/self.p['fy'], bbox_w/self.p['fx'], bbox_h/self.p['fy']]),\n",
    "            position=np.array([wx, wy, wz]),\n",
    "            distance=np.sqrt(wx**2 + wy**2 + wz**2),\n",
    "            orientation=np.array(orientation)\n",
    "        )\n",
    "        if self.transforms is not None:\n",
    "            result['image'] = self.transforms(result['image'])\n",
    "        return result\n",
    "    \n",
    "    def load_image(self, idx):\n",
    "        \n",
    "        image_id = self.gt[\"annotations\"][idx][\"image_id\"]\n",
    "        path = self.image_id_to_path[image_id]\n",
    "        image = Image.open(path)\n",
    "        w, h = image.size\n",
    "        scale = self.max_size / max(w, h)\n",
    "        w_new, h_new = int(w * scale), int(h * scale)\n",
    "        image = image.resize((w_new, h_new), Image.LANCZOS)\n",
    "        new_image = Image.new(\"RGB\", (self.max_size, self.max_size))\n",
    "        new_image.paste(image, ((self.max_size - w_new) // 2, (self.max_size - h_new) // 2))\n",
    "        return new_image\n",
    "        \n",
    "    def get_label(self, idx):\n",
    "        return self.category_id_to_label[self.gt[\"annotations\"][idx][\"category_id\"]]\n",
    "    \n",
    "    def get_bbox(self, idx):\n",
    "        return self.gt[\"annotations\"][idx][\"bbox\"]\n",
    "    \n",
    "    def get_position(self, idx):\n",
    "        return self.gt[\"annotations\"][idx][\"position\"]\n",
    "    \n",
    "    def get_orientation(self, idx):\n",
    "        euler_angles = self.gt[\"annotations\"][idx][self.orientation_field]\n",
    "        rotation = R.from_euler(\"YXZ\", euler_angles)\n",
    "        q = rotation.as_quat()\n",
    "        e = np.array([0,0,1])\n",
    "        q[:3] = q[:3] * np.dot(e, q[:3]) / (np.abs(np.dot(q[:3], e)))\n",
    "        return q"
   ]
  },
  {
   "cell_type": "code",
   "execution_count": 9,
   "metadata": {},
   "outputs": [],
   "source": [
    "transforms = T.Compose([\n",
    "    T.ToTensor(),\n",
    "    T.Normalize(mean=[0.485, 0.456, 0.406], std=[0.229, 0.224, 0.225]),\n",
    "])"
   ]
  },
  {
   "cell_type": "code",
   "execution_count": 10,
   "metadata": {},
   "outputs": [],
   "source": [
    "ds = PKURegressionDataset(\"orientation\", C.TRAIN_CROPS_ORIGIN, 256, transforms)"
   ]
  },
  {
   "cell_type": "code",
   "execution_count": 11,
   "metadata": {},
   "outputs": [
    {
     "data": {
      "text/plain": [
       "49115"
      ]
     },
     "execution_count": 11,
     "metadata": {},
     "output_type": "execute_result"
    }
   ],
   "source": [
    "len(ds)"
   ]
  },
  {
   "cell_type": "code",
   "execution_count": 12,
   "metadata": {},
   "outputs": [],
   "source": [
    "r = ds[3]"
   ]
  },
  {
   "cell_type": "code",
   "execution_count": 13,
   "metadata": {},
   "outputs": [
    {
     "data": {
      "text/plain": [
       "torch.Size([3, 256, 256])"
      ]
     },
     "execution_count": 13,
     "metadata": {},
     "output_type": "execute_result"
    }
   ],
   "source": [
    "r[\"image\"].shape"
   ]
  },
  {
   "cell_type": "code",
   "execution_count": 14,
   "metadata": {},
   "outputs": [
    {
     "name": "stderr",
     "output_type": "stream",
     "text": [
      "Clipping input data to the valid range for imshow with RGB data ([0..1] for floats or [0..255] for integers).\n"
     ]
    },
    {
     "data": {
      "text/plain": [
       "<matplotlib.image.AxesImage at 0x7fc1486b9910>"
      ]
     },
     "execution_count": 14,
     "metadata": {},
     "output_type": "execute_result"
    },
    {
     "data": {
      "image/png": "[encoded data removed]",
      "text/plain": [
       "<Figure size 432x288 with 1 Axes>"
      ]
     },
     "metadata": {
      "needs_background": "light"
     },
     "output_type": "display_data"
    }
   ],
   "source": [
    "plt.imshow((np.transpose(r[\"image\"].numpy(), (1, 2, 0)) * np.array([0.229, 0.224, 0.225]) + np.array([0.485, 0.456, 0.406])))"
   ]
  },
  {
   "cell_type": "code",
   "execution_count": 15,
   "metadata": {},
   "outputs": [
    {
     "data": {
      "text/plain": [
       "{'image': tensor([[[-2.1179, -2.1179, -2.1179,  ..., -2.1179, -2.1179, -2.1179],\n",
       "          [-2.1179, -2.1179, -2.1179,  ..., -2.1179, -2.1179, -2.1179],\n",
       "          [-2.1179, -2.1179, -2.1179,  ..., -2.1179, -2.1179, -2.1179],\n",
       "          ...,\n",
       "          [-2.1179, -2.1179, -2.1179,  ..., -2.1179, -2.1179, -2.1179],\n",
       "          [-2.1179, -2.1179, -2.1179,  ..., -2.1179, -2.1179, -2.1179],\n",
       "          [-2.1179, -2.1179, -2.1179,  ..., -2.1179, -2.1179, -2.1179]],\n",
       " \n",
       "         [[-2.0357, -2.0357, -2.0357,  ..., -2.0357, -2.0357, -2.0357],\n",
       "          [-2.0357, -2.0357, -2.0357,  ..., -2.0357, -2.0357, -2.0357],\n",
       "          [-2.0357, -2.0357, -2.0357,  ..., -2.0357, -2.0357, -2.0357],\n",
       "          ...,\n",
       "          [-2.0357, -2.0357, -2.0357,  ..., -2.0357, -2.0357, -2.0357],\n",
       "          [-2.0357, -2.0357, -2.0357,  ..., -2.0357, -2.0357, -2.0357],\n",
       "          [-2.0357, -2.0357, -2.0357,  ..., -2.0357, -2.0357, -2.0357]],\n",
       " \n",
       "         [[-1.8044, -1.8044, -1.8044,  ..., -1.8044, -1.8044, -1.8044],\n",
       "          [-1.8044, -1.8044, -1.8044,  ..., -1.8044, -1.8044, -1.8044],\n",
       "          [-1.8044, -1.8044, -1.8044,  ..., -1.8044, -1.8044, -1.8044],\n",
       "          ...,\n",
       "          [-1.8044, -1.8044, -1.8044,  ..., -1.8044, -1.8044, -1.8044],\n",
       "          [-1.8044, -1.8044, -1.8044,  ..., -1.8044, -1.8044, -1.8044],\n",
       "          [-1.8044, -1.8044, -1.8044,  ..., -1.8044, -1.8044, -1.8044]]]),\n",
       " 'label': 33,\n",
       " 'bbox': array([-0.26392938,  0.22053014,  0.09112416,  0.05854609]),\n",
       " 'position': array([-8.95864,  7.44172, 34.3233 ]),\n",
       " 'distance': 36.24534935820043,\n",
       " 'orientation': array([0.03372075, 0.04996048, 0.99795703, 0.0211808 ])}"
      ]
     },
     "execution_count": 15,
     "metadata": {},
     "output_type": "execute_result"
    }
   ],
   "source": [
    "r"
   ]
  },
  {
   "cell_type": "code",
   "execution_count": 16,
   "metadata": {},
   "outputs": [],
   "source": [
    "dl = DataLoader(ds, batch_size=64, shuffle=True, drop_last=True, pin_memory=True)"
   ]
  },
  {
   "cell_type": "code",
   "execution_count": 17,
   "metadata": {},
   "outputs": [],
   "source": [
    "for batch in dl:\n",
    "    break"
   ]
  },
  {
   "cell_type": "markdown",
   "metadata": {},
   "source": [
    "print(batch)"
   ]
  },
  {
   "cell_type": "code",
   "execution_count": 18,
   "metadata": {},
   "outputs": [
    {
     "data": {
      "text/plain": [
       "34"
      ]
     },
     "execution_count": 18,
     "metadata": {},
     "output_type": "execute_result"
    }
   ],
   "source": [
    "len(ds.category_id_to_label)"
   ]
  },
  {
   "cell_type": "code",
   "execution_count": 19,
   "metadata": {},
   "outputs": [
    {
     "data": {
      "text/plain": [
       "torch.Size([64, 3, 256, 256])"
      ]
     },
     "execution_count": 19,
     "metadata": {},
     "output_type": "execute_result"
    }
   ],
   "source": [
    "batch['image'].shape"
   ]
  },
  {
   "cell_type": "code",
   "execution_count": 20,
   "metadata": {},
   "outputs": [],
   "source": [
    "class ConvBnAct(nn.Module):\n",
    "    \n",
    "    def __init__(self, in_channels, out_channels):\n",
    "        super().__init__()\n",
    "        self.conv = nn.Conv2d(in_channels, out_channels, (3, 3), padding=1)\n",
    "        self.bn = nn.BatchNorm2d(out_channels)\n",
    "        self.act = nn.ReLU(inplace=True)\n",
    "        \n",
    "#         nn.init.kaiming_normal_(self.conv.weight, nonlinearity='relu')\n",
    "#         nn.init.constant_(self.conv.bias, 0)\n",
    "    \n",
    "    def forward(self, x):\n",
    "        x = self.conv(x)\n",
    "        x = self.bn(x)\n",
    "        x = self.act(x)\n",
    "        return x\n",
    "\n",
    "class Model(torch.nn.Module):\n",
    "    \n",
    "    def __init__(self):\n",
    "        super().__init__()\n",
    "        self.backbone = models.resnet101(pretrained=True)\n",
    "        \n",
    "        self.local_neck = nn.Sequential(\n",
    "            ConvBnAct(2048, 512),\n",
    "            ConvBnAct(512, 256),\n",
    "            ConvBnAct(256, 64),\n",
    "            nn.Flatten(),\n",
    "            nn.Linear(64 * 8 * 8, 1024),  # 4\n",
    "            nn.ReLU(inplace=True),\n",
    "            nn.Linear(1024, 1024),  # 6\n",
    "            nn.ReLU(inplace=True)\n",
    "        )\n",
    "#         nn.init.kaiming_normal_(self.local_neck[4].weight, nonlinearity='leaky_relu')\n",
    "#         nn.init.constant_(self.local_neck[4].bias, 0)\n",
    "#         nn.init.kaiming_normal_(self.local_neck[6].weight, nonlinearity='leaky_relu')\n",
    "#         nn.init.constant_(self.local_neck[6].bias, 0)\n",
    "        \n",
    "        self.cls_head = nn.Linear(1024, 34)\n",
    "#         nn.init.kaiming_normal_(self.cls_head.weight, nonlinearity='leaky_relu')\n",
    "#         nn.init.constant_(self.cls_head.bias, 0)\n",
    "        \n",
    "        self.rot_head = nn.Linear(1024, 4)\n",
    "#         nn.init.kaiming_normal_(self.rot_head.weight, nonlinearity='leaky_relu')\n",
    "#         nn.init.constant_(self.rot_head.bias, 0)\n",
    "        \n",
    "#         self.trans_ass = nn.Sequential(\n",
    "#             nn.Linear(2,128),\n",
    "#             nn.LeakyReLU(inplace=True),\n",
    "#             nn.Linear(128,128),\n",
    "#             nn.LeakyReLU(inplace=True),\n",
    "#             nn.Linear(128,128),\n",
    "#             nn.LeakyReLU(inplace=True)\n",
    "#         )\n",
    "#         nn.init.kaiming_normal_(self.trans_ass[0].weight, nonlinearity='leaky_relu')\n",
    "#         nn.init.constant_(self.trans_ass[0].bias, 0)\n",
    "#         nn.init.kaiming_normal_(self.trans_ass[2].weight, nonlinearity='leaky_relu')\n",
    "#         nn.init.constant_(self.trans_ass[2].bias, 0)\n",
    "#         nn.init.kaiming_normal_(self.trans_ass[4].weight, nonlinearity='leaky_relu')\n",
    "#         nn.init.constant_(self.trans_ass[0].bias, 0)\n",
    "        \n",
    "#         self.trans_neck = nn.Sequential(\n",
    "#              nn.Linear(1024, 128),  # 0\n",
    "#              nn.LeakyReLU(inplace=True)#,\n",
    "# #             nn.Linear(100, 100),  # 2\n",
    "# #             nn.LeakyReLU(inplace=True),\n",
    "#         )\n",
    "#         nn.init.kaiming_normal_(self.trans_neck[0].weight, nonlinearity='leaky_relu')\n",
    "#         nn.init.constant_(self.trans_neck[0].bias, 0)\n",
    "# #         nn.init.kaiming_normal_(self.trans_neck[2].weight, nonlinearity='leaky_relu')\n",
    "# #         nn.init.constant_(self.trans_neck[2].bias, 0)\n",
    "        \n",
    "# #         self.ln_to_trans = nn.Sequential(\n",
    "# #             nn.Linear(1024, 100),  # 0\n",
    "# #             nn.LeakyReLU(inplace=True)\n",
    "# #         )\n",
    "# #         nn.init.kaiming_normal_(self.ln_to_trans[0].weight, nonlinearity='leaky_relu')\n",
    "# #         nn.init.constant_(self.ln_to_trans[0].bias, 0)\n",
    "#         self.size_neck = nn.Linear(2,128)\n",
    "#         nn.init.xavier_normal_(self.size_neck.weight)\n",
    "#         nn.init.constant_(self.size_neck.bias, 0)\n",
    "    \n",
    "#         self.trans_head = nn.Linear(128, 1)\n",
    "#         nn.init.xavier_normal_(self.trans_head.weight)\n",
    "#         nn.init.constant_(self.trans_head.bias, 0)\n",
    "        \n",
    "    def extract_features(self, x):\n",
    "        x = self.backbone.conv1(x)\n",
    "        x = self.backbone.bn1(x)\n",
    "        x = self.backbone.relu(x)\n",
    "        x = self.backbone.maxpool(x)\n",
    "\n",
    "        x = self.backbone.layer1(x)\n",
    "        x = self.backbone.layer2(x)\n",
    "        x = self.backbone.layer3(x)\n",
    "        x = self.backbone.layer4(x)\n",
    "        \n",
    "        return x\n",
    "    \n",
    "    def forward(self, x,bbox):\n",
    "        features = self.extract_features(x)\n",
    "        ln = self.local_neck(features)\n",
    "#         tn = self.trans_neck(ln)\n",
    "#         ta = self.trans_ass(bbox[:,:2])\n",
    "# #         translation_v1 = self.trans_neck(bbox)\n",
    "# #         ln_to_trans_n = self.ln_to_trans(ln)\n",
    "# #         #rint((translation_v1.shape,ln_to_trans_n.shape))\n",
    "        \n",
    "#         sn = self.size_neck(bbox[:,2:])\n",
    "        \n",
    "#         translation = self.trans_head(sn*tn*ta)\n",
    "        cls_score = self.cls_head(ln)\n",
    "        orientation = self.rot_head(ln)\n",
    "        \n",
    "        return dict(cls_score=cls_score, orientation = orientation)#, distance = translation)"
   ]
  },
  {
   "cell_type": "code",
   "execution_count": 21,
   "metadata": {},
   "outputs": [],
   "source": [
    "model = Model()"
   ]
  },
  {
   "cell_type": "code",
   "execution_count": 22,
   "metadata": {},
   "outputs": [],
   "source": [
    "#sum(p.nelement() for p in model.parameters())"
   ]
  },
  {
   "cell_type": "code",
   "execution_count": 23,
   "metadata": {},
   "outputs": [],
   "source": [
    "#sum(p.nelement() for p in model.backbone.parameters())"
   ]
  },
  {
   "cell_type": "markdown",
   "metadata": {},
   "source": [
    "outputs = model(batch['image'])"
   ]
  },
  {
   "cell_type": "markdown",
   "metadata": {},
   "source": [
    "outputs"
   ]
  },
  {
   "cell_type": "markdown",
   "metadata": {},
   "source": [
    " torch.norm(outputs['orientation'], dim=-1, keepdim=True)"
   ]
  },
  {
   "cell_type": "code",
   "execution_count": 24,
   "metadata": {},
   "outputs": [],
   "source": [
    "def huber_loss(bbox_pred, bbox_targets, beta=2.8):\n",
    "    \"\"\"\n",
    "    SmoothL1(x) = 0.5 * x^2 / beta      if |x| < beta\n",
    "                  |x| - 0.5 * beta      otherwise.\n",
    "    https://en.wikipedia.org/wiki/Huber_loss\n",
    "    \"\"\"\n",
    "    box_diff = bbox_pred - bbox_targets\n",
    "\n",
    "    dis_trans = torch.norm(box_diff, dim=1)\n",
    "    # dis_trans = np.linalg.norm(box_diff.data.cpu().numpy(), axis=1)\n",
    "    # we also add a metric for dist<2.8 metres.\n",
    "    inbox_idx = dis_trans <= 2.8\n",
    "    outbox_idx = dis_trans > 2.8\n",
    "\n",
    "    # bbox_inside_weights = torch.from_numpy(inbox_idx.astype('float32')).cuda()\n",
    "    # bbox_outside_weights = torch.from_numpy(outbox_idx.astype('float32')).cuda()\n",
    "    bbox_inside_weights = inbox_idx.float()\n",
    "    bbox_outside_weights = outbox_idx.float()\n",
    "\n",
    "    in_box_pow_diff = 0.5 * torch.pow(box_diff, 2) / beta\n",
    "    in_box_loss = in_box_pow_diff.sum(dim=1) * bbox_inside_weights\n",
    "\n",
    "    out_box_abs_diff = torch.abs(box_diff)\n",
    "    out_box_loss = (out_box_abs_diff.sum(dim=1) - beta / 2) * bbox_outside_weights\n",
    "\n",
    "    loss_box = in_box_loss + out_box_loss\n",
    "    N = loss_box.size(0)  # batch size\n",
    "    loss_box = loss_box.view(-1).sum(0) / N\n",
    "    return loss_box"
   ]
  },
  {
   "cell_type": "code",
   "execution_count": 25,
   "metadata": {},
   "outputs": [],
   "source": [
    "def dist_to_coord(outputs, batch):\n",
    "#     print(outputs['distance'])\n",
    "    z_outputs = outputs['distance']*torch.sqrt(1/torch.reshape(1+torch.pow(batch['bbox'][:,0],2)+torch.pow(batch['bbox'][:,1],2),(128,1)))\n",
    "    x_outputs = torch.reshape(batch['bbox'][:,0],(128,1))*z_outputs\n",
    "    y_outputs = torch.reshape(batch['bbox'][:,1],(128,1))*z_outputs\n",
    "#     print(torch.cat((x_outputs,y_outputs,z_outputs),dim = -1))\n",
    "    return torch.cat((x_outputs,y_outputs,z_outputs),dim = -1)"
   ]
  },
  {
   "cell_type": "markdown",
   "metadata": {},
   "source": [
    "def dist_to_coord(outputs, batch):\n",
    "#     print(outputs['distance'])\n",
    "    z_outputs = outputs['distance']*torch.sqrt(1/torch.reshape(1+torch.pow((batch['bbox'][:,0]-p['cx'])/p['fx'],2)+torch.pow((batch['bbox'][:,1]-p['cy'])/p['fy'],2),(64,1)))\n",
    "    x_outputs = torch.reshape((batch['bbox'][:,0]-p['cx'])/p['fx'],(64,1))*z_outputs\n",
    "    y_outputs = torch.reshape((batch['bbox'][:,1]-p['cy'])/p['fy'],(64,1))*z_outputs\n",
    "#     print(torch.cat((x_outputs,y_outputs,z_outputs),dim = -1))\n",
    "    return torch.cat((x_outputs,y_outputs,z_outputs),dim = -1)"
   ]
  },
  {
   "cell_type": "code",
   "execution_count": 26,
   "metadata": {},
   "outputs": [],
   "source": [
    "def loss_fn(outputs, batch):\n",
    "    cls_loss = nn.functional.cross_entropy(outputs['cls_score'], batch['label'])\n",
    "    normed = outputs['orientation'] / torch.norm(outputs['orientation'], dim=-1, keepdim=True)\n",
    "    \n",
    "#     e = torch.FloatTensor([0, 0, 1]).cuda()\n",
    "#     prod = (normed[:, :3] * e).sum(dim=1)\n",
    "#     normed2 = torch.cat((torch.unsqueeze(prod / torch.abs(prod), 1) * normed[:, :3], normed[:, 3:4]), dim=1)\n",
    "#     trans_loss = huber_loss(outputs['translation'],batch['position'])\n",
    "\n",
    "    rot_loss_old = nn.functional.l1_loss(normed, batch['orientation'])\n",
    "    \n",
    "    rot_loss = 1 - (normed[:, -1] * batch['orientation'][:, -1] + \\\n",
    "               (normed[:, :-1] * batch['orientation'][:, :-1]).sum(dim=1)).mean()\n",
    "    #trans_loss = huber_loss(dist_to_coord(outputs,batch),batch['position'])\n",
    "#     distance_loss = huber_loss(outputs['distance'],batch['distance'])\n",
    "    \n",
    "    loss =  rot_loss #+ 0.1*trans_loss + cls_loss \n",
    "    return dict(loss=loss, cls_loss=rot_loss_old, rot_loss = rot_loss)#, trans_loss = trans_loss)"
   ]
  },
  {
   "cell_type": "code",
   "execution_count": 27,
   "metadata": {},
   "outputs": [],
   "source": [
    "model = model.cuda()"
   ]
  },
  {
   "cell_type": "code",
   "execution_count": 28,
   "metadata": {},
   "outputs": [],
   "source": [
    "optimizer = torch.optim.Adam(model.parameters(), lr=0.0001)"
   ]
  },
  {
   "cell_type": "code",
   "execution_count": 40,
   "metadata": {},
   "outputs": [],
   "source": [
    "sd = optimizer.state_dict()\n",
    "sd['param_groups'][0]['lr'] = 0.000001\n",
    "optimizer.load_state_dict(sd)"
   ]
  },
  {
   "cell_type": "code",
   "execution_count": 41,
   "metadata": {},
   "outputs": [
    {
     "data": {
      "text/plain": [
       "1e-06"
      ]
     },
     "execution_count": 41,
     "metadata": {},
     "output_type": "execute_result"
    }
   ],
   "source": [
    "sd['param_groups'][0]['lr']"
   ]
  },
  {
   "cell_type": "code",
   "execution_count": 29,
   "metadata": {},
   "outputs": [],
   "source": [
    "losses = []"
   ]
  },
  {
   "cell_type": "code",
   "execution_count": 30,
   "metadata": {},
   "outputs": [
    {
     "name": "stderr",
     "output_type": "stream",
     "text": [
      "\r",
      "  0%|          | 0/767 [00:00<?, ?it/s]"
     ]
    }
   ],
   "source": [
    "pbar = tqdm(total=len(dl))"
   ]
  },
  {
   "cell_type": "code",
   "execution_count": 31,
   "metadata": {},
   "outputs": [],
   "source": [
    "def smooth(beta, array):\n",
    "    s=[]\n",
    "    s.append(array[0])\n",
    "    for i in range(1,len(array)):\n",
    "        s.append((1-beta)*s[-1]+beta*array[i])\n",
    "    return s"
   ]
  },
  {
   "cell_type": "code",
   "execution_count": 46,
   "metadata": {
    "scrolled": true
   },
   "outputs": [
    {
     "name": "stderr",
     "output_type": "stream",
     "text": [
      "0.25574 0.11828 0.25574 : : 3068it [39:07,  1.49it/s]"
     ]
    }
   ],
   "source": [
    "#pbar = tqdm(total=len(dl))\n",
    "for i in range(1):\n",
    "    for batch in dl:\n",
    "        for k in batch:\n",
    "            if k == 'label':\n",
    "                batch[k] = batch[k].long()\n",
    "            else:\n",
    "                batch[k] = batch[k].float()\n",
    "            batch[k] = batch[k].cuda()\n",
    "        outputs = model(batch['image'],batch['bbox'])\n",
    "        loss = loss_fn(outputs, batch)\n",
    "        optimizer.zero_grad()\n",
    "        loss['loss'].backward()\n",
    "        optimizer.step()\n",
    "        for k in loss:\n",
    "            loss[k] = loss[k].item()\n",
    "        losses.append(loss)\n",
    "        pbar.update()\n",
    "        pbar.set_description(\"{:.5f} {:.5f} {:.5f} \".format(loss['loss'], loss['cls_loss'], loss['rot_loss']))#, loss['trans_loss']))"
   ]
  },
  {
   "cell_type": "markdown",
   "metadata": {},
   "source": [
    "model.load_state_dict(torch.load(\"stupid_1501_model.pth\"))"
   ]
  },
  {
   "cell_type": "markdown",
   "metadata": {
    "scrolled": true
   },
   "source": [
    "pbar = tqdm(total=len(dl))\n",
    "s = 0\n",
    "for batch in dl:\n",
    "    for k in batch:\n",
    "        if k == 'label':\n",
    "            batch[k] = batch[k].long()\n",
    "        else:\n",
    "            batch[k] = batch[k].float()\n",
    "        batch[k] = batch[k].cuda()\n",
    "    with torch.no_grad():\n",
    "        outputs = model(batch['image'],batch['bbox'])\n",
    "    dis_trans = torch.norm(batch['position'] - dist_to_coord(outputs,batch), dim = 1 )\n",
    "    s+=(dis_trans < 0.1).long().sum().item()\n",
    "    pbar.update()\n",
    "print(s/len(ds))"
   ]
  },
  {
   "cell_type": "markdown",
   "metadata": {},
   "source": [
    "print(s)"
   ]
  },
  {
   "cell_type": "code",
   "execution_count": null,
   "metadata": {},
   "outputs": [],
   "source": [
    "torch.save(model.state_dict(), \"not_so_stupid_1501_model.pth\")\n",
    "torch.save(optimizer.state_dict(), \"not_so_stupid_1501_optim.pth\")"
   ]
  },
  {
   "cell_type": "code",
   "execution_count": 48,
   "metadata": {},
   "outputs": [
    {
     "data": {
      "image/png": "[encoded data removed]",
      "text/plain": [
       "<Figure size 432x288 with 1 Axes>"
      ]
     },
     "metadata": {
      "needs_background": "light"
     },
     "output_type": "display_data"
    }
   ],
   "source": [
    "plt.plot([l[\"rot_loss\"] for l in losses], alpha=0.2) #second epoch lr =1e-6\n",
    "plt.plot(smooth(0.1, [l[\"rot_loss\"] for l in losses]))\n",
    "plt.ylim((0,0.5))\n",
    "plt.grid()"
   ]
  },
  {
   "cell_type": "code",
   "execution_count": 47,
   "metadata": {},
   "outputs": [
    {
     "data": {
      "image/png": "[encoded data removed]",
      "text/plain": [
       "<Figure size 432x288 with 1 Axes>"
      ]
     },
     "metadata": {
      "needs_background": "light"
     },
     "output_type": "display_data"
    }
   ],
   "source": [
    "plt.plot([l[\"cls_loss\"] for l in losses], alpha=0.2) #forth epoch lr =1e-6\n",
    "plt.plot(smooth(0.1, [l[\"cls_loss\"] for l in losses]))\n",
    "plt.ylim((0,0.5))\n",
    "plt.grid()"
   ]
  },
  {
   "cell_type": "code",
   "execution_count": 43,
   "metadata": {},
   "outputs": [
    {
     "data": {
      "image/png": "[encoded data removed]",
      "text/plain": [
       "<Figure size 432x288 with 1 Axes>"
      ]
     },
     "metadata": {
      "needs_background": "light"
     },
     "output_type": "display_data"
    }
   ],
   "source": [
    "plt.plot([l[\"cls_loss\"] for l in losses], alpha=0.2) #third epoch lr =1e-6\n",
    "plt.plot(smooth(0.1, [l[\"cls_loss\"] for l in losses]))\n",
    "plt.ylim((0,0.5))\n",
    "plt.grid()"
   ]
  },
  {
   "cell_type": "code",
   "execution_count": 39,
   "metadata": {},
   "outputs": [
    {
     "data": {
      "image/png": "[encoded data removed]",
      "text/plain": [
       "<Figure size 432x288 with 1 Axes>"
      ]
     },
     "metadata": {
      "needs_background": "light"
     },
     "output_type": "display_data"
    }
   ],
   "source": [
    "plt.plot([l[\"cls_loss\"] for l in losses], alpha=0.2) #second epoch lr =1e-5\n",
    "plt.plot(smooth(0.1, [l[\"cls_loss\"] for l in losses]))\n",
    "plt.grid()"
   ]
  },
  {
   "cell_type": "code",
   "execution_count": 34,
   "metadata": {},
   "outputs": [
    {
     "data": {
      "image/png": "[encoded data removed]",
      "text/plain": [
       "<Figure size 432x288 with 1 Axes>"
      ]
     },
     "metadata": {
      "needs_background": "light"
     },
     "output_type": "display_data"
    }
   ],
   "source": [
    "plt.plot([l[\"cls_loss\"] for l in losses], alpha=0.2) #first epoch lr =1e-4\n",
    "plt.plot(smooth(0.1, [l[\"cls_loss\"] for l in losses]))\n",
    "plt.ylim((0,0.5))\n",
    "plt.grid()"
   ]
  },
  {
   "cell_type": "code",
   "execution_count": 35,
   "metadata": {},
   "outputs": [
    {
     "data": {
      "image/png": "[encoded data removed]",
      "text/plain": [
       "<Figure size 432x288 with 1 Axes>"
      ]
     },
     "metadata": {
      "needs_background": "light"
     },
     "output_type": "display_data"
    }
   ],
   "source": [
    "plt.plot([l[\"cls_loss\"] for l in losses], alpha=0.2) #old\n",
    "plt.plot(smooth(0.1, [l[\"cls_loss\"] for l in losses]))\n",
    "plt.ylim((0,0.5))\n",
    "plt.grid()"
   ]
  },
  {
   "cell_type": "markdown",
   "metadata": {},
   "source": [
    "torch.save(model.state_dict(), \"scare_model.pth\")\n",
    "torch.save(optimizer.state_dict(), \"scare_optim.pth\")"
   ]
  },
  {
   "cell_type": "markdown",
   "metadata": {},
   "source": [
    "batch['orientation']"
   ]
  },
  {
   "cell_type": "markdown",
   "metadata": {},
   "source": [
    "outputs['orientation'] / torch.norm(outputs['orientation'], dim=-1, keepdim=True)"
   ]
  },
  {
   "cell_type": "markdown",
   "metadata": {},
   "source": [
    "torch.sum(torch.abs(outputs['orientation'] / torch.norm(outputs['orientation'], dim=-1, keepdim=True) - batch['orientation']), dim=1)"
   ]
  },
  {
   "cell_type": "markdown",
   "metadata": {},
   "source": [
    "torch.sum((outputs['orientation'] / torch.norm(outputs['orientation'], dim=-1, keepdim=True) - batch['orientation']) ** 2, dim=1) ** 0.5"
   ]
  },
  {
   "cell_type": "markdown",
   "metadata": {},
   "source": [
    "batch['label']"
   ]
  },
  {
   "cell_type": "markdown",
   "metadata": {},
   "source": [
    "torch.argmax(outputs['cls_score'], dim=1)"
   ]
  },
  {
   "cell_type": "markdown",
   "metadata": {},
   "source": [
    "model.backbone"
   ]
  },
  {
   "cell_type": "markdown",
   "metadata": {},
   "source": [
    "nn.Sequential"
   ]
  },
  {
   "cell_type": "markdown",
   "metadata": {},
   "source": [
    "import pandas as pd"
   ]
  },
  {
   "cell_type": "markdown",
   "metadata": {},
   "source": [
    "df = pd.read_csv(C.TRAIN_CSV)"
   ]
  },
  {
   "cell_type": "markdown",
   "metadata": {},
   "source": [
    "df.head()"
   ]
  },
  {
   "cell_type": "markdown",
   "metadata": {},
   "source": [
    "import utils"
   ]
  },
  {
   "cell_type": "markdown",
   "metadata": {},
   "source": [
    "train_anns = utils.load_train_annotations()"
   ]
  },
  {
   "cell_type": "markdown",
   "metadata": {},
   "source": [
    "train_anns[\"ID_8a6e65317\"]"
   ]
  },
  {
   "cell_type": "markdown",
   "metadata": {},
   "source": [
    "orientations_euler = []\n",
    "for k, v in train_anns.items():\n",
    "    for y, p, r in zip(v[\"yaws\"], v[\"pitches\"], v[\"rolls\"]):\n",
    "        orientations_euler.append((-p, -y, -r))"
   ]
  },
  {
   "cell_type": "markdown",
   "metadata": {},
   "source": [
    "len(orientations_euler)"
   ]
  },
  {
   "cell_type": "markdown",
   "metadata": {},
   "source": [
    "from scipy.spatial.transform import rotation as R"
   ]
  },
  {
   "cell_type": "markdown",
   "metadata": {},
   "source": [
    "euler_angles = self.gt[\"annotations\"][idx][self.orientation_field]\n",
    "rotation = R.from_euler(\"XYZ\", euler_angles)\n",
    "q = rotation.as_quat()"
   ]
  },
  {
   "cell_type": "markdown",
   "metadata": {},
   "source": [
    "def quaternion_to_euler_angle(q):\n",
    "\n",
    "    \"\"\"Convert quaternion to euler angel.\n",
    "    Input:\n",
    "        q: 1 * 4 vector,\n",
    "    Output:\n",
    "        angle: 1 x 3 vector, each row is [roll, pitch, yaw]\n",
    "    \"\"\"\n",
    "    w, x, y, z = q\n",
    "    t0 = +2.0 * (w * x + y * z)\n",
    "    t1 = +1.0 - 2.0 * (x * x + y * y)\n",
    "    X = math.atan2(t0, t1)\n",
    "\n",
    "    t2 = +2.0 * (w * y - z * x)\n",
    "    t2 = +1.0 if t2 > +1.0 else t2\n",
    "    t2 = -1.0 if t2 < -1.0 else t2\n",
    "    Y = math.asin(t2)\n",
    "\n",
    "    t3 = +2.0 * (w * z + x * y)\n",
    "    t4 = +1.0 - 2.0 * (y * y + z * z)\n",
    "    Z = math.atan2(t3, t4)\n",
    "\n",
    "    return X, Y, Z"
   ]
  },
  {
   "cell_type": "markdown",
   "metadata": {},
   "source": [
    "def euler_angles_to_quaternions(angle):\n",
    "    \"\"\"Convert euler angels to quaternions representation.\n",
    "    Input:\n",
    "        angle: n x 3 matrix, each row is [roll, pitch, yaw]\n",
    "    Output:\n",
    "        q: n x 4 matrix, each row is corresponding quaternion.\n",
    "    \"\"\"\n",
    "\n",
    "    in_dim = np.ndim(angle)\n",
    "    if in_dim == 1:\n",
    "        angle = angle[None, :]\n",
    "\n",
    "    n = angle.shape[0]\n",
    "    roll, pitch, yaw = angle[:, 0], angle[:, 1], angle[:, 2]\n",
    "    q = np.zeros((n, 4))\n",
    "\n",
    "    cy = np.cos(yaw * 0.5)\n",
    "    sy = np.sin(yaw * 0.5)\n",
    "    cr = np.cos(roll * 0.5)\n",
    "    sr = np.sin(roll * 0.5)\n",
    "    cp = np.cos(pitch * 0.5)\n",
    "    sp = np.sin(pitch * 0.5)\n",
    "\n",
    "    q[:, 0] = cy * cr * cp + sy * sr * sp\n",
    "    q[:, 1] = cy * sr * cp - sy * cr * sp\n",
    "    q[:, 2] = cy * cr * sp + sy * sr * cp\n",
    "    q[:, 3] = sy * cr * cp - cy * sr * sp\n",
    "\n",
    "    return q"
   ]
  },
  {
   "cell_type": "markdown",
   "metadata": {},
   "source": [
    "orientations_euler = np.array(orientations_euler)"
   ]
  },
  {
   "cell_type": "markdown",
   "metadata": {},
   "source": [
    "orientations_quat = euler_angles_to_quaternions(orientations_euler[:, ::-1])"
   ]
  },
  {
   "cell_type": "markdown",
   "metadata": {},
   "source": [
    "orientations_quat[:30]"
   ]
  },
  {
   "cell_type": "markdown",
   "metadata": {},
   "source": [
    "for q in orientations_quat[:100]:\n",
    "    print(q)"
   ]
  },
  {
   "cell_type": "markdown",
   "metadata": {},
   "source": [
    "orientations_quat[0]"
   ]
  },
  {
   "cell_type": "markdown",
   "metadata": {},
   "source": [
    "((orientations_quat[2][1:] / np.sin(np.arccos(orientations_quat[2][0]))) ** 2).sum()"
   ]
  },
  {
   "cell_type": "markdown",
   "metadata": {},
   "source": [
    "((orientations_quat[2][:-1] / np.sin(np.arccos(orientations_quat[2][-1]))) ** 2).sum()"
   ]
  },
  {
   "cell_type": "code",
   "execution_count": null,
   "metadata": {},
   "outputs": [],
   "source": []
  }
 ],
 "metadata": {
  "kernelspec": {
   "display_name": "Python 3",
   "language": "python",
   "name": "python3"
  },
  "language_info": {
   "codemirror_mode": {
    "name": "ipython",
    "version": 3
   },
   "file_extension": ".py",
   "mimetype": "text/x-python",
   "name": "python",
   "nbconvert_exporter": "python",
   "pygments_lexer": "ipython3",
   "version": "3.7.4"
  }
 },
 "nbformat": 4,
 "nbformat_minor": 2
}
