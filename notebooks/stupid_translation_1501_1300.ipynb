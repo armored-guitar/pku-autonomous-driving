{
 "cells": [
  {
   "cell_type": "code",
   "execution_count": 1,
   "metadata": {},
   "outputs": [
    {
     "name": "stdout",
     "output_type": "stream",
     "text": [
      "\u001b[0m\u001b[1;31m                          ./+o+-      \u001b[0m\u001b[1;31m ivb\u001b[0m\u001b[1m@\u001b[0m\u001b[0m\u001b[1;31mcds2\u001b[0m\n",
      "\u001b[0m\u001b[1;37m                  yyyyy- \u001b[0m\u001b[1;31m-yyyyyy+     \u001b[0m\u001b[1;31m OS:\u001b[0m Ubuntu 18.04 bionic\u001b[0m\n",
      "\u001b[0m\u001b[1;37m               \u001b[0m\u001b[1;37m://+//////\u001b[0m\u001b[1;31m-yyyyyyo     \u001b[0m\u001b[1;31m Kernel:\u001b[0m x86_64 Linux 4.15.0-74-generic\u001b[0m\n",
      "\u001b[0m\u001b[1;33m           .++ \u001b[0m\u001b[1;37m.:/++++++/-\u001b[0m\u001b[1;31m.+sss/`     \u001b[0m\u001b[1;31m Uptime:\u001b[0m 3h 57m\u001b[0m\n",
      "\u001b[0m\u001b[1;33m         .:++o:  \u001b[0m\u001b[1;37m/++++++++/:--:/-     \u001b[0m\u001b[1;31m Packages:\u001b[0m 3045\u001b[0m\n",
      "\u001b[0m\u001b[1;33m        o:+o+:++.\u001b[0m\u001b[1;37m`..```.-/oo+++++/    \u001b[0m\u001b[1;31m Shell:\u001b[0m sh\u001b[0m\n",
      "\u001b[0m\u001b[1;33m       .:+o:+o/.\u001b[0m\u001b[1;37m          `+sssoo+/   \u001b[0m\u001b[1;31m CPU:\u001b[0m Intel Xeon Gold 6154 @ 16x 3GHz\u001b[0m\n",
      "\u001b[0m\u001b[1;37m  .++/+:\u001b[0m\u001b[1;33m+oo+o:`\u001b[0m\u001b[1;37m             /sssooo.  \u001b[0m\u001b[1;31m GPU:\u001b[0m Tesla V100-SXM2-32GB, Tesla V100-SXM2-32GB, Tesla V100-SXM2-32GB, Tesla V100-SXM2-32GB\u001b[0m\n",
      "\u001b[0m\u001b[1;37m /+++//+:\u001b[0m\u001b[1;33m`oo+o\u001b[0m\u001b[1;37m               /::--:.  \u001b[0m\u001b[1;31m RAM:\u001b[0m 31178MiB / 128933MiB\u001b[0m\n",
      "\u001b[0m\u001b[1;37m \\+/+o+++\u001b[0m\u001b[1;33m`o++o\u001b[0m\u001b[1;31m               ++////.  \u001b[0m\n",
      "\u001b[0m\u001b[1;37m  .++.o+\u001b[0m\u001b[1;33m++oo+:`\u001b[0m\u001b[1;31m             /dddhhh.  \u001b[0m\n",
      "\u001b[0m\u001b[1;33m       .+.o+oo:.\u001b[0m\u001b[1;31m          `oddhhhh+   \u001b[0m\n",
      "\u001b[0m\u001b[1;33m        \\+.++o+o`\u001b[0m\u001b[1;31m`-````.:ohdhhhhh+    \u001b[0m\n",
      "\u001b[0m\u001b[1;33m         `:o+++ \u001b[0m\u001b[1;31m`ohhhhhhhhyo++os:     \u001b[0m\n",
      "\u001b[0m\u001b[1;33m           .o:\u001b[0m\u001b[1;31m`.syhhhhhhh/\u001b[0m\u001b[1;33m.oo++o`     \u001b[0m\n",
      "\u001b[0m\u001b[1;31m               /osyyyyyyo\u001b[0m\u001b[1;33m++ooo+++/    \u001b[0m\n",
      "\u001b[0m\u001b[1;31m                   ````` \u001b[0m\u001b[1;33m+oo+++o\\:    \u001b[0m\n",
      "\u001b[0m\u001b[1;33m                          `oo++.      \u001b[0m\n"
     ]
    }
   ],
   "source": [
    "!screenfetch"
   ]
  },
  {
   "cell_type": "code",
   "execution_count": 2,
   "metadata": {},
   "outputs": [],
   "source": [
    "%load_ext autoreload\n",
    "%autoreload 2"
   ]
  },
  {
   "cell_type": "code",
   "execution_count": 3,
   "metadata": {},
   "outputs": [],
   "source": [
    "import torch\n",
    "import numpy as np\n",
    "import json\n",
    "import config as C\n",
    "import os\n",
    "import cv2\n",
    "from PIL import Image\n",
    "import matplotlib.pyplot as plt\n",
    "from utils import parse_camera_intrinsic as parse_camera_intrinsic\n",
    "from scipy.spatial.transform import Rotation as R\n",
    "from torch.utils.data import Dataset, DataLoader\n",
    "from torchvision import models\n",
    "from torchvision import transforms as T\n",
    "from torch import nn\n",
    "from tqdm import tqdm"
   ]
  },
  {
   "cell_type": "code",
   "execution_count": 4,
   "metadata": {},
   "outputs": [],
   "source": [
    "os.environ['CUDA_VISIBLE_DEVICES'] = '1'"
   ]
  },
  {
   "cell_type": "code",
   "execution_count": 5,
   "metadata": {},
   "outputs": [],
   "source": [
    "with open(C.TRAIN_CROPS_JSON, \"r\") as f:\n",
    "    train_gt = json.load(f)"
   ]
  },
  {
   "cell_type": "code",
   "execution_count": 6,
   "metadata": {},
   "outputs": [
    {
     "data": {
      "text/plain": [
       "{'id': 1,\n",
       " 'image_id': 0,\n",
       " 'category_id': 47,\n",
       " 'bbox': [1723.0, 1776.0, 29.0, 26.0],\n",
       " 'position': [3.8249, 31.7701, 168.57],\n",
       " 'orientation': [0.0063812, -0.184722, 3.13912],\n",
       " 'orientation_relative': [0.006918107352997232,\n",
       "  -0.18451171371342667,\n",
       "  3.139121365067781]}"
      ]
     },
     "execution_count": 6,
     "metadata": {},
     "output_type": "execute_result"
    }
   ],
   "source": [
    "train_gt[\"annotations\"][0]"
   ]
  },
  {
   "cell_type": "code",
   "execution_count": 7,
   "metadata": {},
   "outputs": [],
   "source": [
    "class PKURegressionDataset(Dataset):\n",
    "    \n",
    "    def __init__(self, orientation_field, images_dir, max_size, transforms=None):\n",
    "        super().__init__()\n",
    "        self.orientation_field = orientation_field\n",
    "        self.images_dir = images_dir\n",
    "        self.max_size = max_size\n",
    "        self.transforms = transforms\n",
    "        \n",
    "        with open(C.TRAIN_CROPS_JSON, \"r\") as f:\n",
    "            self.gt = json.load(f)\n",
    "        \n",
    "        cat_ids = set(ann['category_id'] for ann in self.gt['annotations'])\n",
    "        categories = [cat for cat in self.gt['categories'] if cat['id'] in cat_ids]\n",
    "        self.category_id_to_label = {\n",
    "            cat[\"id\"]: label\n",
    "            for label, cat in enumerate(sorted(categories, key=lambda x: x[\"id\"]))\n",
    "        }\n",
    "        self.image_id_to_path = {\n",
    "            image[\"id\"]: os.path.join(images_dir, image[\"file_name\"]) \n",
    "            for image in self.gt[\"images\"]\n",
    "        }\n",
    "        self.p = parse_camera_intrinsic()\n",
    "        for k in self.p:\n",
    "            self.p[k] = float(self.p[k])\n",
    "    \n",
    "    def __len__(self):\n",
    "        return len(self.gt[\"annotations\"])\n",
    "    \n",
    "    def __getitem__(self, idx):\n",
    "        image = self.load_image(idx)\n",
    "        label = self.get_label(idx)\n",
    "        bbox_x, bbox_y, bbox_w, bbox_h = self.get_bbox(idx)\n",
    "        bbox_center_x, bbox_center_y = bbox_x + bbox_w / 2, bbox_y + bbox_h / 2\n",
    "        wx, wy, wz = self.get_position(idx)\n",
    "        orientation = self.get_orientation(idx)\n",
    "        \n",
    "        result =  dict(\n",
    "            image=image,\n",
    "            label=label,\n",
    "            bbox=np.array([(bbox_center_x-self.p[\"cx\"])/self.p[\"fx\"], (bbox_center_y-self.p[\"cy\"])/self.p[\"fy\"], bbox_w/self.p[\"fx\"], bbox_h/self.p[\"fy\"]]),\n",
    "            position=np.array([wx, wy, wz]),\n",
    "            distance=np.sqrt(wx**2 + wy**2 + wz**2),\n",
    "            orientation=np.array(orientation)\n",
    "        )\n",
    "        if self.transforms is not None:\n",
    "            result['image'] = self.transforms(result['image'])\n",
    "        return result\n",
    "    \n",
    "    def load_image(self, idx):\n",
    "        \n",
    "        image_id = self.gt[\"annotations\"][idx][\"image_id\"]\n",
    "        path = self.image_id_to_path[image_id]\n",
    "        image = Image.open(path)\n",
    "        w, h = image.size\n",
    "        scale = self.max_size / max(w, h)\n",
    "        w_new, h_new = int(w * scale), int(h * scale)\n",
    "        image = image.resize((w_new, h_new), Image.LANCZOS)\n",
    "        new_image = Image.new(\"RGB\", (self.max_size, self.max_size))\n",
    "        new_image.paste(image, ((self.max_size - w_new) // 2, (self.max_size - h_new) // 2))\n",
    "        return new_image\n",
    "        \n",
    "    def get_label(self, idx):\n",
    "        return self.category_id_to_label[self.gt[\"annotations\"][idx][\"category_id\"]]\n",
    "    \n",
    "    def get_bbox(self, idx):\n",
    "        return self.gt[\"annotations\"][idx][\"bbox\"]\n",
    "    \n",
    "    def get_position(self, idx):\n",
    "        return self.gt[\"annotations\"][idx][\"position\"]\n",
    "    \n",
    "    def get_orientation(self, idx):\n",
    "        euler_angles = self.gt[\"annotations\"][idx][self.orientation_field]\n",
    "        rotation = R.from_euler(\"YXZ\", euler_angles)\n",
    "        q = rotation.as_quat()\n",
    "        e = np.array([0,0,1])\n",
    "        q[:3] = q[:3] * np.dot(e, q[:3]) / (np.abs(np.dot(q[:3], e)))\n",
    "        return q"
   ]
  },
  {
   "cell_type": "code",
   "execution_count": 8,
   "metadata": {},
   "outputs": [],
   "source": [
    "transforms = T.Compose([\n",
    "    T.ToTensor(),\n",
    "    T.Normalize(mean=[0.485, 0.456, 0.406], std=[0.229, 0.224, 0.225]),\n",
    "])"
   ]
  },
  {
   "cell_type": "code",
   "execution_count": 9,
   "metadata": {},
   "outputs": [],
   "source": [
    "ds = PKURegressionDataset(\"orientation\", C.TRAIN_CROPS_ORIGIN, 256, transforms)"
   ]
  },
  {
   "cell_type": "code",
   "execution_count": 10,
   "metadata": {},
   "outputs": [
    {
     "data": {
      "text/plain": [
       "49115"
      ]
     },
     "execution_count": 10,
     "metadata": {},
     "output_type": "execute_result"
    }
   ],
   "source": [
    "len(ds)"
   ]
  },
  {
   "cell_type": "code",
   "execution_count": 11,
   "metadata": {},
   "outputs": [],
   "source": [
    "r = ds[3]"
   ]
  },
  {
   "cell_type": "code",
   "execution_count": 12,
   "metadata": {},
   "outputs": [
    {
     "data": {
      "text/plain": [
       "torch.Size([3, 256, 256])"
      ]
     },
     "execution_count": 12,
     "metadata": {},
     "output_type": "execute_result"
    }
   ],
   "source": [
    "r[\"image\"].shape"
   ]
  },
  {
   "cell_type": "code",
   "execution_count": 13,
   "metadata": {},
   "outputs": [
    {
     "name": "stderr",
     "output_type": "stream",
     "text": [
      "Clipping input data to the valid range for imshow with RGB data ([0..1] for floats or [0..255] for integers).\n"
     ]
    },
    {
     "data": {
      "text/plain": [
       "<matplotlib.image.AxesImage at 0x7f7648f09510>"
      ]
     },
     "execution_count": 13,
     "metadata": {},
     "output_type": "execute_result"
    },
    {
     "data": {
      "image/png": "[encoded data removed]",
      "text/plain": [
       "<Figure size 432x288 with 1 Axes>"
      ]
     },
     "metadata": {
      "needs_background": "light"
     },
     "output_type": "display_data"
    }
   ],
   "source": [
    "plt.imshow((np.transpose(r[\"image\"].numpy(), (1, 2, 0)) * np.array([0.229, 0.224, 0.225]) + np.array([0.485, 0.456, 0.406])))"
   ]
  },
  {
   "cell_type": "code",
   "execution_count": 14,
   "metadata": {},
   "outputs": [
    {
     "data": {
      "text/plain": [
       "{'image': tensor([[[-2.1179, -2.1179, -2.1179,  ..., -2.1179, -2.1179, -2.1179],\n",
       "          [-2.1179, -2.1179, -2.1179,  ..., -2.1179, -2.1179, -2.1179],\n",
       "          [-2.1179, -2.1179, -2.1179,  ..., -2.1179, -2.1179, -2.1179],\n",
       "          ...,\n",
       "          [-2.1179, -2.1179, -2.1179,  ..., -2.1179, -2.1179, -2.1179],\n",
       "          [-2.1179, -2.1179, -2.1179,  ..., -2.1179, -2.1179, -2.1179],\n",
       "          [-2.1179, -2.1179, -2.1179,  ..., -2.1179, -2.1179, -2.1179]],\n",
       " \n",
       "         [[-2.0357, -2.0357, -2.0357,  ..., -2.0357, -2.0357, -2.0357],\n",
       "          [-2.0357, -2.0357, -2.0357,  ..., -2.0357, -2.0357, -2.0357],\n",
       "          [-2.0357, -2.0357, -2.0357,  ..., -2.0357, -2.0357, -2.0357],\n",
       "          ...,\n",
       "          [-2.0357, -2.0357, -2.0357,  ..., -2.0357, -2.0357, -2.0357],\n",
       "          [-2.0357, -2.0357, -2.0357,  ..., -2.0357, -2.0357, -2.0357],\n",
       "          [-2.0357, -2.0357, -2.0357,  ..., -2.0357, -2.0357, -2.0357]],\n",
       " \n",
       "         [[-1.8044, -1.8044, -1.8044,  ..., -1.8044, -1.8044, -1.8044],\n",
       "          [-1.8044, -1.8044, -1.8044,  ..., -1.8044, -1.8044, -1.8044],\n",
       "          [-1.8044, -1.8044, -1.8044,  ..., -1.8044, -1.8044, -1.8044],\n",
       "          ...,\n",
       "          [-1.8044, -1.8044, -1.8044,  ..., -1.8044, -1.8044, -1.8044],\n",
       "          [-1.8044, -1.8044, -1.8044,  ..., -1.8044, -1.8044, -1.8044],\n",
       "          [-1.8044, -1.8044, -1.8044,  ..., -1.8044, -1.8044, -1.8044]]]),\n",
       " 'label': 33,\n",
       " 'bbox': array([-0.26392938,  0.22053014,  0.09112416,  0.05854609]),\n",
       " 'position': array([-8.95864,  7.44172, 34.3233 ]),\n",
       " 'distance': 36.24534935820043,\n",
       " 'orientation': array([0.03372075, 0.04996048, 0.99795703, 0.0211808 ])}"
      ]
     },
     "execution_count": 14,
     "metadata": {},
     "output_type": "execute_result"
    }
   ],
   "source": [
    "r"
   ]
  },
  {
   "cell_type": "code",
   "execution_count": 15,
   "metadata": {},
   "outputs": [],
   "source": [
    "dl = DataLoader(ds, batch_size=32, shuffle=True, drop_last=True, pin_memory=True)"
   ]
  },
  {
   "cell_type": "code",
   "execution_count": 16,
   "metadata": {},
   "outputs": [],
   "source": [
    "for batch in dl:\n",
    "    break"
   ]
  },
  {
   "cell_type": "code",
   "execution_count": 17,
   "metadata": {},
   "outputs": [
    {
     "data": {
      "text/plain": [
       "{'image': tensor([[[[-2.1179, -2.1179, -2.1179,  ..., -2.1179, -2.1179, -2.1179],\n",
       "           [-2.1179, -2.1179, -2.1179,  ..., -2.1179, -2.1179, -2.1179],\n",
       "           [-2.1179, -2.1179, -2.1179,  ..., -2.1179, -2.1179, -2.1179],\n",
       "           ...,\n",
       "           [-2.1179, -2.1179, -2.1179,  ..., -2.1179, -2.1179, -2.1179],\n",
       "           [-2.1179, -2.1179, -2.1179,  ..., -2.1179, -2.1179, -2.1179],\n",
       "           [-2.1179, -2.1179, -2.1179,  ..., -2.1179, -2.1179, -2.1179]],\n",
       " \n",
       "          [[-2.0357, -2.0357, -2.0357,  ..., -2.0357, -2.0357, -2.0357],\n",
       "           [-2.0357, -2.0357, -2.0357,  ..., -2.0357, -2.0357, -2.0357],\n",
       "           [-2.0357, -2.0357, -2.0357,  ..., -2.0357, -2.0357, -2.0357],\n",
       "           ...,\n",
       "           [-2.0357, -2.0357, -2.0357,  ..., -2.0357, -2.0357, -2.0357],\n",
       "           [-2.0357, -2.0357, -2.0357,  ..., -2.0357, -2.0357, -2.0357],\n",
       "           [-2.0357, -2.0357, -2.0357,  ..., -2.0357, -2.0357, -2.0357]],\n",
       " \n",
       "          [[-1.8044, -1.8044, -1.8044,  ..., -1.8044, -1.8044, -1.8044],\n",
       "           [-1.8044, -1.8044, -1.8044,  ..., -1.8044, -1.8044, -1.8044],\n",
       "           [-1.8044, -1.8044, -1.8044,  ..., -1.8044, -1.8044, -1.8044],\n",
       "           ...,\n",
       "           [-1.8044, -1.8044, -1.8044,  ..., -1.8044, -1.8044, -1.8044],\n",
       "           [-1.8044, -1.8044, -1.8044,  ..., -1.8044, -1.8044, -1.8044],\n",
       "           [-1.8044, -1.8044, -1.8044,  ..., -1.8044, -1.8044, -1.8044]]],\n",
       " \n",
       " \n",
       "         [[[-2.1179, -2.1179, -2.1179,  ..., -2.1179, -2.1179, -2.1179],\n",
       "           [-2.1179, -2.1179, -2.1179,  ..., -2.1179, -2.1179, -2.1179],\n",
       "           [-2.1179, -2.1179, -2.1179,  ..., -2.1179, -2.1179, -2.1179],\n",
       "           ...,\n",
       "           [-2.1179, -2.1179, -2.1179,  ..., -2.1179, -2.1179, -2.1179],\n",
       "           [-2.1179, -2.1179, -2.1179,  ..., -2.1179, -2.1179, -2.1179],\n",
       "           [-2.1179, -2.1179, -2.1179,  ..., -2.1179, -2.1179, -2.1179]],\n",
       " \n",
       "          [[-2.0357, -2.0357, -2.0357,  ..., -2.0357, -2.0357, -2.0357],\n",
       "           [-2.0357, -2.0357, -2.0357,  ..., -2.0357, -2.0357, -2.0357],\n",
       "           [-2.0357, -2.0357, -2.0357,  ..., -2.0357, -2.0357, -2.0357],\n",
       "           ...,\n",
       "           [-2.0357, -2.0357, -2.0357,  ..., -2.0357, -2.0357, -2.0357],\n",
       "           [-2.0357, -2.0357, -2.0357,  ..., -2.0357, -2.0357, -2.0357],\n",
       "           [-2.0357, -2.0357, -2.0357,  ..., -2.0357, -2.0357, -2.0357]],\n",
       " \n",
       "          [[-1.8044, -1.8044, -1.8044,  ..., -1.8044, -1.8044, -1.8044],\n",
       "           [-1.8044, -1.8044, -1.8044,  ..., -1.8044, -1.8044, -1.8044],\n",
       "           [-1.8044, -1.8044, -1.8044,  ..., -1.8044, -1.8044, -1.8044],\n",
       "           ...,\n",
       "           [-1.8044, -1.8044, -1.8044,  ..., -1.8044, -1.8044, -1.8044],\n",
       "           [-1.8044, -1.8044, -1.8044,  ..., -1.8044, -1.8044, -1.8044],\n",
       "           [-1.8044, -1.8044, -1.8044,  ..., -1.8044, -1.8044, -1.8044]]],\n",
       " \n",
       " \n",
       "         [[[-2.1179, -2.1179, -2.1179,  ..., -2.1179, -2.1179, -2.1179],\n",
       "           [-2.1179, -2.1179, -2.1179,  ..., -2.1179, -2.1179, -2.1179],\n",
       "           [-2.1179, -2.1179, -2.1179,  ..., -2.1179, -2.1179, -2.1179],\n",
       "           ...,\n",
       "           [-2.1179, -2.1179, -2.1179,  ..., -2.1179, -2.1179, -2.1179],\n",
       "           [-2.1179, -2.1179, -2.1179,  ..., -2.1179, -2.1179, -2.1179],\n",
       "           [-2.1179, -2.1179, -2.1179,  ..., -2.1179, -2.1179, -2.1179]],\n",
       " \n",
       "          [[-2.0357, -2.0357, -2.0357,  ..., -2.0357, -2.0357, -2.0357],\n",
       "           [-2.0357, -2.0357, -2.0357,  ..., -2.0357, -2.0357, -2.0357],\n",
       "           [-2.0357, -2.0357, -2.0357,  ..., -2.0357, -2.0357, -2.0357],\n",
       "           ...,\n",
       "           [-2.0357, -2.0357, -2.0357,  ..., -2.0357, -2.0357, -2.0357],\n",
       "           [-2.0357, -2.0357, -2.0357,  ..., -2.0357, -2.0357, -2.0357],\n",
       "           [-2.0357, -2.0357, -2.0357,  ..., -2.0357, -2.0357, -2.0357]],\n",
       " \n",
       "          [[-1.8044, -1.8044, -1.8044,  ..., -1.8044, -1.8044, -1.8044],\n",
       "           [-1.8044, -1.8044, -1.8044,  ..., -1.8044, -1.8044, -1.8044],\n",
       "           [-1.8044, -1.8044, -1.8044,  ..., -1.8044, -1.8044, -1.8044],\n",
       "           ...,\n",
       "           [-1.8044, -1.8044, -1.8044,  ..., -1.8044, -1.8044, -1.8044],\n",
       "           [-1.8044, -1.8044, -1.8044,  ..., -1.8044, -1.8044, -1.8044],\n",
       "           [-1.8044, -1.8044, -1.8044,  ..., -1.8044, -1.8044, -1.8044]]],\n",
       " \n",
       " \n",
       "         ...,\n",
       " \n",
       " \n",
       "         [[[-2.1179, -2.1179, -2.1179,  ..., -2.1179, -2.1179, -2.1179],\n",
       "           [-2.1179, -2.1179, -2.1179,  ..., -2.1179, -2.1179, -2.1179],\n",
       "           [-2.1179, -2.1179, -2.1179,  ..., -2.1179, -2.1179, -2.1179],\n",
       "           ...,\n",
       "           [-2.1179, -2.1179, -2.1179,  ..., -2.1179, -2.1179, -2.1179],\n",
       "           [-2.1179, -2.1179, -2.1179,  ..., -2.1179, -2.1179, -2.1179],\n",
       "           [-2.1179, -2.1179, -2.1179,  ..., -2.1179, -2.1179, -2.1179]],\n",
       " \n",
       "          [[-2.0357, -2.0357, -2.0357,  ..., -2.0357, -2.0357, -2.0357],\n",
       "           [-2.0357, -2.0357, -2.0357,  ..., -2.0357, -2.0357, -2.0357],\n",
       "           [-2.0357, -2.0357, -2.0357,  ..., -2.0357, -2.0357, -2.0357],\n",
       "           ...,\n",
       "           [-2.0357, -2.0357, -2.0357,  ..., -2.0357, -2.0357, -2.0357],\n",
       "           [-2.0357, -2.0357, -2.0357,  ..., -2.0357, -2.0357, -2.0357],\n",
       "           [-2.0357, -2.0357, -2.0357,  ..., -2.0357, -2.0357, -2.0357]],\n",
       " \n",
       "          [[-1.8044, -1.8044, -1.8044,  ..., -1.8044, -1.8044, -1.8044],\n",
       "           [-1.8044, -1.8044, -1.8044,  ..., -1.8044, -1.8044, -1.8044],\n",
       "           [-1.8044, -1.8044, -1.8044,  ..., -1.8044, -1.8044, -1.8044],\n",
       "           ...,\n",
       "           [-1.8044, -1.8044, -1.8044,  ..., -1.8044, -1.8044, -1.8044],\n",
       "           [-1.8044, -1.8044, -1.8044,  ..., -1.8044, -1.8044, -1.8044],\n",
       "           [-1.8044, -1.8044, -1.8044,  ..., -1.8044, -1.8044, -1.8044]]],\n",
       " \n",
       " \n",
       "         [[[-2.1179, -2.1179, -2.1179,  ..., -2.1179, -2.1179, -2.1179],\n",
       "           [-2.1179, -2.1179, -2.1179,  ..., -2.1179, -2.1179, -2.1179],\n",
       "           [-2.1179, -2.1179, -2.1179,  ..., -2.1179, -2.1179, -2.1179],\n",
       "           ...,\n",
       "           [-2.1179, -2.1179, -2.1179,  ..., -2.1179, -2.1179, -2.1179],\n",
       "           [-2.1179, -2.1179, -2.1179,  ..., -2.1179, -2.1179, -2.1179],\n",
       "           [-2.1179, -2.1179, -2.1179,  ..., -2.1179, -2.1179, -2.1179]],\n",
       " \n",
       "          [[-2.0357, -2.0357, -2.0357,  ..., -2.0357, -2.0357, -2.0357],\n",
       "           [-2.0357, -2.0357, -2.0357,  ..., -2.0357, -2.0357, -2.0357],\n",
       "           [-2.0357, -2.0357, -2.0357,  ..., -2.0357, -2.0357, -2.0357],\n",
       "           ...,\n",
       "           [-2.0357, -2.0357, -2.0357,  ..., -2.0357, -2.0357, -2.0357],\n",
       "           [-2.0357, -2.0357, -2.0357,  ..., -2.0357, -2.0357, -2.0357],\n",
       "           [-2.0357, -2.0357, -2.0357,  ..., -2.0357, -2.0357, -2.0357]],\n",
       " \n",
       "          [[-1.8044, -1.8044, -1.8044,  ..., -1.8044, -1.8044, -1.8044],\n",
       "           [-1.8044, -1.8044, -1.8044,  ..., -1.8044, -1.8044, -1.8044],\n",
       "           [-1.8044, -1.8044, -1.8044,  ..., -1.8044, -1.8044, -1.8044],\n",
       "           ...,\n",
       "           [-1.8044, -1.8044, -1.8044,  ..., -1.8044, -1.8044, -1.8044],\n",
       "           [-1.8044, -1.8044, -1.8044,  ..., -1.8044, -1.8044, -1.8044],\n",
       "           [-1.8044, -1.8044, -1.8044,  ..., -1.8044, -1.8044, -1.8044]]],\n",
       " \n",
       " \n",
       "         [[[-2.1179, -2.1179, -2.1179,  ..., -2.1179, -2.1179, -2.1179],\n",
       "           [-2.1179, -2.1179, -2.1179,  ..., -2.1179, -2.1179, -2.1179],\n",
       "           [-2.1179, -2.1179, -2.1179,  ..., -2.1179, -2.1179, -2.1179],\n",
       "           ...,\n",
       "           [-2.1179, -2.1179, -2.1179,  ..., -2.1179, -2.1179, -2.1179],\n",
       "           [-2.1179, -2.1179, -2.1179,  ..., -2.1179, -2.1179, -2.1179],\n",
       "           [-2.1179, -2.1179, -2.1179,  ..., -2.1179, -2.1179, -2.1179]],\n",
       " \n",
       "          [[-2.0357, -2.0357, -2.0357,  ..., -2.0357, -2.0357, -2.0357],\n",
       "           [-2.0357, -2.0357, -2.0357,  ..., -2.0357, -2.0357, -2.0357],\n",
       "           [-2.0357, -2.0357, -2.0357,  ..., -2.0357, -2.0357, -2.0357],\n",
       "           ...,\n",
       "           [-2.0357, -2.0357, -2.0357,  ..., -2.0357, -2.0357, -2.0357],\n",
       "           [-2.0357, -2.0357, -2.0357,  ..., -2.0357, -2.0357, -2.0357],\n",
       "           [-2.0357, -2.0357, -2.0357,  ..., -2.0357, -2.0357, -2.0357]],\n",
       " \n",
       "          [[-1.8044, -1.8044, -1.8044,  ..., -1.8044, -1.8044, -1.8044],\n",
       "           [-1.8044, -1.8044, -1.8044,  ..., -1.8044, -1.8044, -1.8044],\n",
       "           [-1.8044, -1.8044, -1.8044,  ..., -1.8044, -1.8044, -1.8044],\n",
       "           ...,\n",
       "           [-1.8044, -1.8044, -1.8044,  ..., -1.8044, -1.8044, -1.8044],\n",
       "           [-1.8044, -1.8044, -1.8044,  ..., -1.8044, -1.8044, -1.8044],\n",
       "           [-1.8044, -1.8044, -1.8044,  ..., -1.8044, -1.8044, -1.8044]]]]),\n",
       " 'label': tensor([ 0, 21, 17,  7, 21, 17, 30, 25, 17, 21, 21, 21, 21,  8, 17, 20, 22,  7,\n",
       "         21,  7,  7,  4, 29,  7,  0,  7, 17, 12, 31,  7,  7, 29]),\n",
       " 'bbox': tensor([[ 0.0186,  0.1904,  0.0243,  0.0182],\n",
       "         [-0.1279,  0.1668,  0.0169,  0.0160],\n",
       "         [-0.4162,  0.2114,  0.1232,  0.0672],\n",
       "         [-0.0784,  0.1683,  0.0169,  0.0130],\n",
       "         [ 0.4251,  0.2041,  0.1076,  0.0403],\n",
       "         [ 0.5128,  0.3890,  0.4478,  0.2377],\n",
       "         [ 0.0088,  0.2051,  0.0716,  0.0616],\n",
       "         [ 0.4102,  0.2296,  0.1133,  0.0611],\n",
       "         [-0.5032,  0.3461,  0.4109,  0.2385],\n",
       "         [-0.3475,  0.1795,  0.0837,  0.0460],\n",
       "         [-0.3134,  0.1668,  0.0226,  0.0160],\n",
       "         [ 0.0806,  0.1895,  0.0382,  0.0312],\n",
       "         [-0.6879,  0.2127,  0.0877,  0.0646],\n",
       "         [-0.4772,  0.2225,  0.1558,  0.0729],\n",
       "         [-0.2887,  0.1906,  0.0668,  0.0351],\n",
       "         [-0.2769,  0.1566,  0.0330,  0.0182],\n",
       "         [-0.0693,  0.1806,  0.0378,  0.0369],\n",
       "         [ 0.0596,  0.1815,  0.0681,  0.0239],\n",
       "         [ 0.6859,  0.2767,  0.1015,  0.1769],\n",
       "         [-0.0834,  0.2023,  0.0399,  0.0317],\n",
       "         [ 0.3303,  0.2106,  0.1497,  0.0585],\n",
       "         [-0.4633,  0.1652,  0.1271,  0.0477],\n",
       "         [-0.5488,  0.1880,  0.1107,  0.0533],\n",
       "         [-0.3763,  0.1861,  0.0686,  0.0330],\n",
       "         [-0.3030,  0.1535,  0.0243,  0.0156],\n",
       "         [ 0.1986,  0.2220,  0.0877,  0.0633],\n",
       "         [-0.2351,  0.1759,  0.0386,  0.0256],\n",
       "         [-0.1025,  0.1709,  0.0269,  0.0199],\n",
       "         [-0.1830,  0.2164,  0.1540,  0.1180],\n",
       "         [-0.6401,  0.1713,  0.0798,  0.0269],\n",
       "         [ 0.2182,  0.2405,  0.1067,  0.0629],\n",
       "         [ 0.1101,  0.1908,  0.0529,  0.0408]], dtype=torch.float64),\n",
       " 'position': tensor([[  1.5993,  16.1837,  85.1023],\n",
       "         [-16.2448,  21.1629, 126.9550],\n",
       "         [-10.4404,   5.3084,  25.4326],\n",
       "         [ -8.6235,  18.5075, 110.1690],\n",
       "         [ 20.0671,   9.5922,  47.2417],\n",
       "         [  4.0053,   3.1221,   8.6829],\n",
       "         [  0.2759,   5.9761,  29.4557],\n",
       "         [ 13.3140,   7.4401,  32.7685],\n",
       "         [ -4.0680,   2.8672,   8.9850],\n",
       "         [-14.5227,   7.5302,  42.1393],\n",
       "         [-36.0064,  19.1887, 115.1200],\n",
       "         [  5.2211,  12.3302,  64.9133],\n",
       "         [-22.2937,   6.4502,  30.6473],\n",
       "         [-12.1042,   5.6751,  25.8292],\n",
       "         [-13.3192,   8.8237,  46.4628],\n",
       "         [-22.8404,  12.9611,  82.7729],\n",
       "         [ -4.2013,  11.0249,  61.3007],\n",
       "         [  3.6728,  11.1478,  61.7122],\n",
       "         [ 11.4492,   3.5991,  13.6534],\n",
       "         [ -3.8691,   9.4032,  46.7877],\n",
       "         [  8.7731,   5.5191,  26.4878],\n",
       "         [-19.3953,   6.8858,  42.0246],\n",
       "         [-17.4881,   5.9982,  32.0363],\n",
       "         [-16.7595,   8.3141,  44.8646],\n",
       "         [-30.2495,  15.3472,  99.9225],\n",
       "         [  4.7114,   5.3007,  23.9134],\n",
       "         [-15.0092,  11.2781,  64.2663],\n",
       "         [ -8.1954,  13.7271,  80.4306],\n",
       "         [ -3.0061,   3.6404,  17.1800],\n",
       "         [-32.8975,   8.8346,  51.5985],\n",
       "         [  5.1856,   5.7161,  24.1038],\n",
       "         [  5.0127,   8.6799,  46.0000]], dtype=torch.float64),\n",
       " 'distance': tensor([ 86.6422, 129.7279,  28.0000, 112.0451,  52.2157,  10.0589,  30.0571,\n",
       "          36.1441,  10.2713,  45.2032, 122.1363,  66.2799,  38.4431,  29.0838,\n",
       "          49.1330,  86.8391,  62.4258,  62.8185,  18.1784,  47.8798,  28.4435,\n",
       "          46.7938,  36.9883,  48.6090, 105.5229,  24.9428,  66.9524,  82.0041,\n",
       "          17.8169,  61.8280,  25.3092,  47.0794]),\n",
       " 'orientation': tensor([[ 9.4367e-03,  8.6999e-02,  9.9614e-01,  6.8492e-03],\n",
       "         [ 9.9561e-01,  3.1756e-02,  6.6958e-02, -5.7216e-02],\n",
       "         [ 9.9642e-01,  1.4425e-02,  3.5820e-02, -7.5206e-02],\n",
       "         [-3.6465e-02,  7.2385e-02,  9.9647e-01,  2.1936e-02],\n",
       "         [-7.6311e-01,  3.6372e-02,  6.3977e-01,  8.3845e-02],\n",
       "         [-1.9974e-02,  8.1502e-02,  9.9624e-01,  2.1560e-02],\n",
       "         [-8.5947e-03,  7.3571e-02,  9.9703e-01,  2.1146e-02],\n",
       "         [ 8.1457e-03,  8.8787e-02,  9.9587e-01,  1.7235e-02],\n",
       "         [ 9.9709e-01,  2.3082e-02,  1.0720e-02, -7.1831e-02],\n",
       "         [-9.9566e-01, -2.1719e-02,  4.2219e-02,  8.0054e-02],\n",
       "         [-5.7201e-02,  7.6485e-02,  9.9526e-01,  1.8323e-02],\n",
       "         [-4.7398e-02,  1.2699e-01,  9.9077e-01,  4.1705e-04],\n",
       "         [-6.2314e-01,  4.6805e-02,  7.7969e-01,  3.9910e-02],\n",
       "         [ 9.9656e-01,  8.6731e-04,  6.9915e-03, -8.2525e-02],\n",
       "         [-9.9578e-01, -1.5824e-02,  3.2658e-02,  8.4263e-02],\n",
       "         [-5.8722e-03,  8.0187e-02,  9.9666e-01,  1.4323e-02],\n",
       "         [ 9.9977e-01,  2.5418e-03,  7.6274e-03, -1.9904e-02],\n",
       "         [-4.6445e-01,  5.5078e-02,  8.8060e-01,  7.6126e-02],\n",
       "         [ 9.7323e-01,  2.3846e-02,  2.2263e-01, -5.1837e-02],\n",
       "         [-6.4982e-02,  7.4997e-02,  9.9464e-01,  2.9204e-02],\n",
       "         [-8.5858e-01,  3.3542e-02,  5.0828e-01,  5.8056e-02],\n",
       "         [-7.5279e-01,  2.3698e-02,  6.5416e-01,  6.9461e-02],\n",
       "         [ 9.9432e-01,  1.1493e-03,  3.5682e-02,  1.0031e-01],\n",
       "         [-9.9469e-01, -4.0854e-02,  2.2513e-02,  9.1739e-02],\n",
       "         [ 9.9639e-01,  1.9425e-03,  5.2909e-02,  6.6301e-02],\n",
       "         [ 3.2381e-02,  1.1694e-01,  9.9207e-01,  3.2898e-02],\n",
       "         [ 9.9477e-01,  4.4625e-02,  1.8782e-02, -8.9966e-02],\n",
       "         [-9.9685e-01, -1.8526e-02,  1.8832e-03,  7.7147e-02],\n",
       "         [ 1.0782e-03,  8.6357e-02,  9.9566e-01,  3.4642e-02],\n",
       "         [-9.9549e-01,  7.2709e-03,  2.2840e-02, -9.1734e-02],\n",
       "         [-3.2054e-02,  8.8042e-02,  9.9527e-01,  2.5608e-02],\n",
       "         [-4.5692e-02,  5.1115e-02,  9.9739e-01,  2.2769e-02]],\n",
       "        dtype=torch.float64)}"
      ]
     },
     "execution_count": 17,
     "metadata": {},
     "output_type": "execute_result"
    }
   ],
   "source": [
    "batch"
   ]
  },
  {
   "cell_type": "code",
   "execution_count": 18,
   "metadata": {},
   "outputs": [
    {
     "data": {
      "text/plain": [
       "34"
      ]
     },
     "execution_count": 18,
     "metadata": {},
     "output_type": "execute_result"
    }
   ],
   "source": [
    "len(ds.category_id_to_label)"
   ]
  },
  {
   "cell_type": "code",
   "execution_count": 19,
   "metadata": {},
   "outputs": [
    {
     "data": {
      "text/plain": [
       "torch.Size([32, 3, 256, 256])"
      ]
     },
     "execution_count": 19,
     "metadata": {},
     "output_type": "execute_result"
    }
   ],
   "source": [
    "batch['image'].shape"
   ]
  },
  {
   "cell_type": "code",
   "execution_count": 20,
   "metadata": {},
   "outputs": [],
   "source": [
    "class ConvBnAct(nn.Module):\n",
    "    \n",
    "    def __init__(self, in_channels, out_channels):\n",
    "        super().__init__()\n",
    "        self.conv = nn.Conv2d(in_channels, out_channels, (3, 3), padding=1)\n",
    "        self.bn = nn.BatchNorm2d(out_channels)\n",
    "        self.act = nn.LeakyReLU(inplace=True)\n",
    "        \n",
    "        nn.init.kaiming_normal_(self.conv.weight, nonlinearity='relu')\n",
    "        nn.init.constant_(self.conv.bias, 0)\n",
    "    \n",
    "    def forward(self, x):\n",
    "        x = self.conv(x)\n",
    "        x = self.bn(x)\n",
    "        x = self.act(x)\n",
    "        return x\n",
    "\n",
    "class Model(torch.nn.Module):\n",
    "    \n",
    "    def __init__(self):\n",
    "        super().__init__()\n",
    "        self.backbone = models.resnet101(pretrained=True)\n",
    "        \n",
    "        self.local_neck = nn.Sequential(\n",
    "            ConvBnAct(2048, 512),\n",
    "            ConvBnAct(512, 256),\n",
    "            ConvBnAct(256, 64),\n",
    "            nn.Flatten(),\n",
    "            nn.Linear(64 * 8 * 8, 1024),  # 4\n",
    "            nn.LeakyReLU(inplace=True),\n",
    "            nn.Linear(1024, 1024),  # 6\n",
    "            nn.LeakyReLU(inplace=True)\n",
    "        )\n",
    "        nn.init.kaiming_normal_(self.local_neck[4].weight, nonlinearity='leaky_relu')\n",
    "        nn.init.constant_(self.local_neck[4].bias, 0)\n",
    "        nn.init.kaiming_normal_(self.local_neck[6].weight, nonlinearity='leaky_relu')\n",
    "        nn.init.constant_(self.local_neck[6].bias, 0)\n",
    "        \n",
    "        self.cls_head = nn.Linear(1024, 34)\n",
    "        nn.init.kaiming_normal_(self.cls_head.weight, nonlinearity='leaky_relu')\n",
    "        nn.init.constant_(self.cls_head.bias, 0)\n",
    "        \n",
    "        self.rot_head = nn.Linear(1024, 4)\n",
    "        nn.init.kaiming_normal_(self.rot_head.weight, nonlinearity='leaky_relu')\n",
    "        nn.init.constant_(self.rot_head.bias, 0)\n",
    "        \n",
    "        self.trans_neck = nn.Sequential(\n",
    "            nn.Linear(4, 100),  # 0\n",
    "            nn.LeakyReLU(inplace=True),\n",
    "            nn.Linear(100, 100),  # 2\n",
    "            nn.LeakyReLU(inplace=True),\n",
    "        )\n",
    "        nn.init.kaiming_normal_(self.trans_neck[0].weight, nonlinearity='leaky_relu')\n",
    "        nn.init.constant_(self.trans_neck[0].bias, 0)\n",
    "        nn.init.kaiming_normal_(self.trans_neck[2].weight, nonlinearity='leaky_relu')\n",
    "        nn.init.constant_(self.trans_neck[2].bias, 0)\n",
    "        \n",
    "        self.ln_to_trans = nn.Sequential(\n",
    "            nn.Linear(1024, 100),  # 0\n",
    "            nn.LeakyReLU(inplace=True)\n",
    "        )\n",
    "        nn.init.kaiming_normal_(self.ln_to_trans[0].weight, nonlinearity='leaky_relu')\n",
    "        nn.init.constant_(self.ln_to_trans[0].bias, 0)\n",
    "        \n",
    "        self.trans_head = nn.Linear(200, 3)\n",
    "        nn.init.kaiming_normal_(self.trans_head.weight, nonlinearity='leaky_relu')\n",
    "        nn.init.constant_(self.trans_head.bias, 0)\n",
    "        \n",
    "    def extract_features(self, x):\n",
    "        x = self.backbone.conv1(x)\n",
    "        x = self.backbone.bn1(x)\n",
    "        x = self.backbone.relu(x)\n",
    "        x = self.backbone.maxpool(x)\n",
    "\n",
    "        x = self.backbone.layer1(x)\n",
    "        x = self.backbone.layer2(x)\n",
    "        x = self.backbone.layer3(x)\n",
    "        x = self.backbone.layer4(x)\n",
    "        \n",
    "        return x\n",
    "    \n",
    "    def forward(self, x,bbox):\n",
    "        features = self.extract_features(x)\n",
    "        ln = self.local_neck(features)\n",
    "\n",
    "        translation_v1 = self.trans_neck(bbox)\n",
    "        ln_to_trans_n = self.ln_to_trans(ln)\n",
    "        #rint((translation_v1.shape,ln_to_trans_n.shape))\n",
    "        translation = self.trans_head(torch.cat((translation_v1,ln_to_trans_n),dim=-1))\n",
    "        \n",
    "        cls_score = self.cls_head(ln)\n",
    "        orientation = self.rot_head(ln)\n",
    "        \n",
    "        return dict(cls_score=cls_score, orientation = orientation, translation = translation)"
   ]
  },
  {
   "cell_type": "code",
   "execution_count": 21,
   "metadata": {},
   "outputs": [],
   "source": [
    "model = Model()"
   ]
  },
  {
   "cell_type": "code",
   "execution_count": 22,
   "metadata": {},
   "outputs": [
    {
     "data": {
      "text/plain": [
       "60713525"
      ]
     },
     "execution_count": 22,
     "metadata": {},
     "output_type": "execute_result"
    }
   ],
   "source": [
    "sum(p.nelement() for p in model.parameters())"
   ]
  },
  {
   "cell_type": "code",
   "execution_count": 23,
   "metadata": {},
   "outputs": [
    {
     "data": {
      "text/plain": [
       "44549160"
      ]
     },
     "execution_count": 23,
     "metadata": {},
     "output_type": "execute_result"
    }
   ],
   "source": [
    "sum(p.nelement() for p in model.backbone.parameters())"
   ]
  },
  {
   "cell_type": "markdown",
   "metadata": {},
   "source": [
    "outputs = model(batch['image'])"
   ]
  },
  {
   "cell_type": "markdown",
   "metadata": {},
   "source": [
    "outputs"
   ]
  },
  {
   "cell_type": "markdown",
   "metadata": {},
   "source": [
    " torch.norm(outputs['orientation'], dim=-1, keepdim=True)"
   ]
  },
  {
   "cell_type": "code",
   "execution_count": 24,
   "metadata": {},
   "outputs": [],
   "source": [
    "def huber_loss(bbox_pred, bbox_targets, beta=2.8):\n",
    "    \"\"\"\n",
    "    SmoothL1(x) = 0.5 * x^2 / beta      if |x| < beta\n",
    "                  |x| - 0.5 * beta      otherwise.\n",
    "    https://en.wikipedia.org/wiki/Huber_loss\n",
    "    \"\"\"\n",
    "    box_diff = bbox_pred - bbox_targets\n",
    "\n",
    "    dis_trans = torch.norm(box_diff, dim=1)\n",
    "    # dis_trans = np.linalg.norm(box_diff.data.cpu().numpy(), axis=1)\n",
    "    # we also add a metric for dist<2.8 metres.\n",
    "    inbox_idx = dis_trans <= 2.8\n",
    "    outbox_idx = dis_trans > 2.8\n",
    "\n",
    "    # bbox_inside_weights = torch.from_numpy(inbox_idx.astype('float32')).cuda()\n",
    "    # bbox_outside_weights = torch.from_numpy(outbox_idx.astype('float32')).cuda()\n",
    "    bbox_inside_weights = inbox_idx.float()\n",
    "    bbox_outside_weights = outbox_idx.float()\n",
    "\n",
    "    in_box_pow_diff = 0.5 * torch.pow(box_diff, 2) / beta\n",
    "    in_box_loss = in_box_pow_diff.sum(dim=1) * bbox_inside_weights\n",
    "\n",
    "    out_box_abs_diff = torch.abs(box_diff)\n",
    "    out_box_loss = (out_box_abs_diff.sum(dim=1) - beta / 2) * bbox_outside_weights\n",
    "\n",
    "    loss_box = in_box_loss + out_box_loss\n",
    "    N = loss_box.size(0)  # batch size\n",
    "    loss_box = loss_box.view(-1).sum(0) / N\n",
    "    return loss_box"
   ]
  },
  {
   "cell_type": "code",
   "execution_count": 25,
   "metadata": {},
   "outputs": [],
   "source": [
    "def loss_fn(outputs, batch):\n",
    "    cls_loss = nn.functional.cross_entropy(outputs['cls_score'], batch['label'])\n",
    "    normed = outputs['orientation'] / torch.norm(outputs['orientation'], dim=-1, keepdim=True)\n",
    "#     e = torch.FloatTensor([0, 0, 1]).cuda()\n",
    "#     prod = (normed[:, :3] * e).sum(dim=1)\n",
    "#     normed2 = torch.cat((torch.unsqueeze(prod / torch.abs(prod), 1) * normed[:, :3], normed[:, 3:4]), dim=1)\n",
    "    rot_loss_old = nn.functional.l1_loss(normed, batch['orientation'])\n",
    "#    translation_loss = nn.SmoothL1Loss\n",
    "    rot_loss = (normed[:, -1] * batch['orientation'][:, -1] + \\\n",
    "               (normed[:, :-1] * batch['orientation'][:, :-1]).sum(dim=1)).mean()\n",
    "    trans_loss = huber_loss(outputs['translation'],batch['position'])\n",
    "    loss = trans_loss \n",
    "    return dict(loss=loss, cls_loss=rot_loss_old, rot_loss=1-rot_loss, trans_loss = trans_loss)"
   ]
  },
  {
   "cell_type": "code",
   "execution_count": 26,
   "metadata": {},
   "outputs": [],
   "source": [
    "model = model.cuda()"
   ]
  },
  {
   "cell_type": "code",
   "execution_count": 27,
   "metadata": {},
   "outputs": [],
   "source": [
    "optimizer = torch.optim.Adam(model.parameters(), lr=0.001)"
   ]
  },
  {
   "cell_type": "markdown",
   "metadata": {},
   "source": [
    "sd = optimizer.state_dict()\n",
    "sd['param_groups'][0]['lr'] = 0.0001\n",
    "optimizer.load_state_dict(sd)"
   ]
  },
  {
   "cell_type": "markdown",
   "metadata": {},
   "source": [
    "sd['param_groups'][0]['lr']"
   ]
  },
  {
   "cell_type": "code",
   "execution_count": 28,
   "metadata": {},
   "outputs": [],
   "source": [
    "losses = []"
   ]
  },
  {
   "cell_type": "code",
   "execution_count": 29,
   "metadata": {},
   "outputs": [
    {
     "name": "stderr",
     "output_type": "stream",
     "text": [
      "\r",
      "  0%|          | 0/1534 [00:00<?, ?it/s]"
     ]
    }
   ],
   "source": [
    "pbar = tqdm(total=len(dl))"
   ]
  },
  {
   "cell_type": "code",
   "execution_count": 30,
   "metadata": {},
   "outputs": [],
   "source": [
    "def smooth(beta, array):\n",
    "    s=[]\n",
    "    s.append(array[0])\n",
    "    for i in range(1,len(array)):\n",
    "        s.append((1-beta)*s[-1]+beta*array[i])\n",
    "    return s"
   ]
  },
  {
   "cell_type": "code",
   "execution_count": 47,
   "metadata": {
    "scrolled": true
   },
   "outputs": [
    {
     "name": "stderr",
     "output_type": "stream",
     "text": [
      "5.25116 0.70995 1.47652 5.25116 : : 4602it [53:14,  1.47it/s]    "
     ]
    }
   ],
   "source": [
    "#pbar = tqdm(total=len(dl))\n",
    "for i in range(1):\n",
    "    for batch in dl:\n",
    "        for k in batch:\n",
    "            if k == 'label':\n",
    "                batch[k] = batch[k].long()\n",
    "            else:\n",
    "                batch[k] = batch[k].float()\n",
    "            batch[k] = batch[k].cuda()\n",
    "        outputs = model(batch['image'],batch['bbox'])\n",
    "        loss = loss_fn(outputs, batch)\n",
    "        optimizer.zero_grad()\n",
    "        loss['loss'].backward()\n",
    "        optimizer.step()\n",
    "        for k in loss:\n",
    "            loss[k] = loss[k].item()\n",
    "        losses.append(loss)\n",
    "        pbar.update()\n",
    "        pbar.set_description(\"{:.5f} {:.5f} {:.5f} {:.5f} \".format(loss['loss'], loss['cls_loss'], loss['rot_loss'], loss['trans_loss']))"
   ]
  },
  {
   "cell_type": "code",
   "execution_count": 28,
   "metadata": {},
   "outputs": [
    {
     "data": {
      "text/plain": [
       "<All keys matched successfully>"
      ]
     },
     "execution_count": 28,
     "metadata": {},
     "output_type": "execute_result"
    }
   ],
   "source": [
    "model.load_state_dict(torch.load(\"stupid_1501_model.pth\"))"
   ]
  },
  {
   "cell_type": "code",
   "execution_count": 29,
   "metadata": {},
   "outputs": [
    {
     "name": "stderr",
     "output_type": "stream",
     "text": [
      "100%|██████████| 1534/1534 [10:19<00:00,  2.63it/s]"
     ]
    },
    {
     "name": "stdout",
     "output_type": "stream",
     "text": [
      "0.00022396416573348266\n"
     ]
    },
    {
     "name": "stderr",
     "output_type": "stream",
     "text": [
      "\n"
     ]
    }
   ],
   "source": [
    "s = 0\n",
    "for batch in tqdm(dl):\n",
    "    for k in batch:\n",
    "        if k == 'label':\n",
    "            batch[k] = batch[k].long()\n",
    "        else:\n",
    "            batch[k] = batch[k].float()\n",
    "        batch[k] = batch[k].cuda()\n",
    "    with torch.no_grad():\n",
    "        outputs = model(batch['image'],batch['bbox'])\n",
    "    dis_trans = torch.norm(batch['position'] - outputs['translation'], dim = 1 )\n",
    "    s+=(dis_trans < 0.1).long().sum().item()\n",
    "print(s/len(ds))"
   ]
  },
  {
   "cell_type": "code",
   "execution_count": 30,
   "metadata": {},
   "outputs": [
    {
     "name": "stdout",
     "output_type": "stream",
     "text": [
      "11\n"
     ]
    }
   ],
   "source": [
    "print(s)"
   ]
  },
  {
   "cell_type": "code",
   "execution_count": 50,
   "metadata": {},
   "outputs": [],
   "source": [
    "torch.save(model.state_dict(), \"stupid_1501_model.pth\")\n",
    "torch.save(optimizer.state_dict(), \"stupid_1501_optim.pth\")"
   ]
  },
  {
   "cell_type": "code",
   "execution_count": 32,
   "metadata": {},
   "outputs": [
    {
     "data": {
      "image/png": "[encoded data removed]",
      "text/plain": [
       "<Figure size 432x288 with 1 Axes>"
      ]
     },
     "metadata": {
      "needs_background": "light"
     },
     "output_type": "display_data"
    }
   ],
   "source": [
    "plt.plot([l[\"cls_loss\"] for l in losses], alpha=0.2)\n",
    "plt.plot(smooth(0.1, [l[\"cls_loss\"] for l in losses]))\n",
    "plt.ylim((0,0.5))\n",
    "plt.grid()"
   ]
  },
  {
   "cell_type": "code",
   "execution_count": 44,
   "metadata": {
    "scrolled": true
   },
   "outputs": [
    {
     "data": {
      "image/png": "[encoded data removed]",
      "text/plain": [
       "<Figure size 432x288 with 1 Axes>"
      ]
     },
     "metadata": {
      "needs_background": "light"
     },
     "output_type": "display_data"
    }
   ],
   "source": [
    "# lr = 0.0001\n",
    "plt.plot([l[\"trans_loss\"] for l in losses], alpha=0.2)\n",
    "plt.plot(smooth(0.1, [l[\"trans_loss\"] for l in losses]))\n",
    "plt.ylim((0,30))\n",
    "plt.grid()"
   ]
  },
  {
   "cell_type": "code",
   "execution_count": 34,
   "metadata": {},
   "outputs": [
    {
     "data": {
      "image/png": "[encoded data removed]",
      "text/plain": [
       "<Figure size 432x288 with 1 Axes>"
      ]
     },
     "metadata": {
      "needs_background": "light"
     },
     "output_type": "display_data"
    }
   ],
   "source": [
    "# lr = 0.001\n",
    "plt.plot([l[\"trans_loss\"] for l in losses], alpha=0.2)\n",
    "plt.plot(smooth(0.1, [l[\"trans_loss\"] for l in losses]))\n",
    "plt.ylim((0,30))\n",
    "plt.grid()"
   ]
  },
  {
   "cell_type": "code",
   "execution_count": 48,
   "metadata": {},
   "outputs": [
    {
     "data": {
      "image/png": "[encoded data removed]",
      "text/plain": [
       "<Figure size 432x288 with 1 Axes>"
      ]
     },
     "metadata": {
      "needs_background": "light"
     },
     "output_type": "display_data"
    }
   ],
   "source": [
    "# lr = 0.001, LeakyReLU\n",
    "plt.plot([l[\"trans_loss\"] for l in losses], alpha=0.2)\n",
    "plt.plot(smooth(0.1, [l[\"trans_loss\"] for l in losses]))\n",
    "plt.ylim((0,30))\n",
    "plt.grid()"
   ]
  },
  {
   "cell_type": "code",
   "execution_count": 36,
   "metadata": {},
   "outputs": [
    {
     "data": {
      "image/png": "[encoded data removed]",
      "text/plain": [
       "<Figure size 432x288 with 1 Axes>"
      ]
     },
     "metadata": {
      "needs_background": "light"
     },
     "output_type": "display_data"
    }
   ],
   "source": [
    "# lr = 0.001, ReLU, xavier_normal + constant\n",
    "plt.plot([l[\"trans_loss\"] for l in losses], alpha=0.2)\n",
    "plt.plot(smooth(0.1, [l[\"trans_loss\"] for l in losses]))\n",
    "plt.ylim((0,30))\n",
    "plt.grid()"
   ]
  },
  {
   "cell_type": "code",
   "execution_count": 37,
   "metadata": {},
   "outputs": [
    {
     "data": {
      "image/png": "[encoded data removed]",
      "text/plain": [
       "<Figure size 432x288 with 1 Axes>"
      ]
     },
     "metadata": {
      "needs_background": "light"
     },
     "output_type": "display_data"
    }
   ],
   "source": [
    "# lr = 0.001, ReLU, kaiming_normal + constant\n",
    "plt.plot([l[\"trans_loss\"] for l in losses], alpha=0.2)\n",
    "plt.plot(smooth(0.1, [l[\"trans_loss\"] for l in losses]))\n",
    "plt.ylim((0,30))\n",
    "plt.grid()"
   ]
  },
  {
   "cell_type": "code",
   "execution_count": 38,
   "metadata": {},
   "outputs": [
    {
     "data": {
      "image/png": "[encoded data removed]",
      "text/plain": [
       "<Figure size 432x288 with 1 Axes>"
      ]
     },
     "metadata": {
      "needs_background": "light"
     },
     "output_type": "display_data"
    }
   ],
   "source": [
    "# lr = 0.001, LeakyReLU, kaiming_normal + constant\n",
    "plt.plot([l[\"trans_loss\"] for l in losses], alpha=0.2)\n",
    "plt.plot(smooth(0.1, [l[\"trans_loss\"] for l in losses]))\n",
    "plt.ylim((0,30))\n",
    "plt.grid()"
   ]
  },
  {
   "cell_type": "code",
   "execution_count": 39,
   "metadata": {},
   "outputs": [
    {
     "data": {
      "image/png": "[encoded data removed]",
      "text/plain": [
       "<Figure size 432x288 with 1 Axes>"
      ]
     },
     "metadata": {
      "needs_background": "light"
     },
     "output_type": "display_data"
    }
   ],
   "source": [
    "# lr = 0.001, LeakyReLU, kaiming_normal + constant\n",
    "plt.plot([l[\"trans_loss\"] for l in losses], alpha=0.2)\n",
    "plt.plot(smooth(0.1, [l[\"trans_loss\"] for l in losses]))\n",
    "plt.ylim((0,0.1))\n",
    "plt.grid()"
   ]
  },
  {
   "cell_type": "code",
   "execution_count": 40,
   "metadata": {},
   "outputs": [
    {
     "data": {
      "image/png": "[encoded data removed]",
      "text/plain": [
       "<Figure size 432x288 with 1 Axes>"
      ]
     },
     "metadata": {
      "needs_background": "light"
     },
     "output_type": "display_data"
    }
   ],
   "source": [
    "# lr = 1E-6, LeakyReLU, kaiming_normal + constant\n",
    "plt.plot([l[\"trans_loss\"] for l in losses], alpha=0.2)\n",
    "plt.plot(smooth(0.1, [l[\"trans_loss\"] for l in losses]))\n",
    "plt.ylim((0,0.1))\n",
    "plt.grid()"
   ]
  },
  {
   "cell_type": "code",
   "execution_count": 41,
   "metadata": {},
   "outputs": [
    {
     "data": {
      "text/plain": [
       "tensor([[  0.9715,  10.2677,  52.6250],\n",
       "        [ -5.1611,   3.3153,  13.0684],\n",
       "        [ 13.3450,  17.3639,  95.6653],\n",
       "        [  1.3535,   7.2706,  36.1182],\n",
       "        [ 23.9238,  24.6501, 133.9880],\n",
       "        [ 39.1876,  12.7158,  56.0081],\n",
       "        [-11.9792,   5.3000,  25.6193],\n",
       "        [-23.7771,  15.0668,  91.4483],\n",
       "        [  3.1462,   3.5019,  13.3995],\n",
       "        [ -9.8934,   3.5457,  13.9921],\n",
       "        [ 12.5112,   9.4120,  46.7156],\n",
       "        [ -0.4235,   8.3956,  46.0491],\n",
       "        [ -0.1888,   6.6921,  32.9357],\n",
       "        [-16.5908,   6.6929,  35.5071],\n",
       "        [-11.8478,   7.2559,  41.6835],\n",
       "        [-21.0399,  15.9676,  99.1230],\n",
       "        [  4.7226,   6.1759,  27.2343],\n",
       "        [ 21.7381,   9.4025,  50.4439],\n",
       "        [-15.0878,   8.5627,  46.6871],\n",
       "        [  5.1678,  24.3439, 143.4470],\n",
       "        [ 21.5083,  11.9634,  56.3446],\n",
       "        [ -9.6294,  14.4852,  82.6147],\n",
       "        [-24.2136,  23.7430, 138.8920],\n",
       "        [ -0.2850,   3.8879,  17.7998],\n",
       "        [ -7.2880,   5.6932,  25.4758],\n",
       "        [-15.2608,   6.0905,  34.7733],\n",
       "        [-10.3080,   9.4741,  50.2060],\n",
       "        [ -9.8126,  10.4019,  58.8192],\n",
       "        [ -2.7518,   5.1690,  24.2531],\n",
       "        [ 12.1578,   7.0837,  32.3034],\n",
       "        [ -5.5707,   4.3328,  20.0176],\n",
       "        [  0.4683,   7.7218,  40.3546]], device='cuda:0')"
      ]
     },
     "execution_count": 41,
     "metadata": {},
     "output_type": "execute_result"
    }
   ],
   "source": [
    "batch['position']"
   ]
  },
  {
   "cell_type": "code",
   "execution_count": 42,
   "metadata": {},
   "outputs": [
    {
     "data": {
      "text/plain": [
       "tensor([[ 1.9854e+00,  1.0080e+01,  4.8428e+01],\n",
       "        [-5.5262e+00,  3.3472e+00,  1.4107e+01],\n",
       "        [ 1.2380e+01,  1.4674e+01,  8.2138e+01],\n",
       "        [ 1.3242e+00,  7.2969e+00,  3.6771e+01],\n",
       "        [ 1.4658e+01,  1.8452e+01,  1.0492e+02],\n",
       "        [ 3.4430e+01,  1.2375e+01,  5.6322e+01],\n",
       "        [-1.1970e+01,  4.6669e+00,  2.6410e+01],\n",
       "        [-1.9984e+01,  1.2143e+01,  7.4136e+01],\n",
       "        [ 3.3614e+00,  2.8344e+00,  1.3929e+01],\n",
       "        [-1.1645e+01,  2.9591e+00,  1.3983e+01],\n",
       "        [ 1.3840e+01,  8.8167e+00,  3.9731e+01],\n",
       "        [ 1.1824e-02,  8.7539e+00,  4.5746e+01],\n",
       "        [-1.4927e-01,  7.7627e+00,  3.7195e+01],\n",
       "        [-1.5868e+01,  6.3586e+00,  3.4880e+01],\n",
       "        [-1.3683e+01,  7.6744e+00,  4.0514e+01],\n",
       "        [-1.7699e+01,  1.3877e+01,  8.3436e+01],\n",
       "        [ 4.2523e+00,  6.0404e+00,  2.4339e+01],\n",
       "        [ 1.9573e+01,  8.3661e+00,  3.8968e+01],\n",
       "        [-1.4854e+01,  7.1976e+00,  3.6541e+01],\n",
       "        [ 4.6754e+00,  1.9667e+01,  1.1159e+02],\n",
       "        [ 2.0619e+01,  1.1491e+01,  5.7997e+01],\n",
       "        [-1.0163e+01,  1.3780e+01,  7.8799e+01],\n",
       "        [-1.7963e+01,  2.0025e+01,  1.1509e+02],\n",
       "        [-2.1575e-01,  5.0500e+00,  2.2157e+01],\n",
       "        [-5.1296e+00,  4.4874e+00,  2.5091e+01],\n",
       "        [-1.7863e+01,  6.4027e+00,  3.7835e+01],\n",
       "        [-9.1821e+00,  7.5067e+00,  3.8101e+01],\n",
       "        [-1.1209e+01,  1.1171e+01,  6.3135e+01],\n",
       "        [-2.8548e+00,  5.6878e+00,  2.5716e+01],\n",
       "        [ 1.4694e+01,  7.2994e+00,  3.3334e+01],\n",
       "        [-6.7595e+00,  4.9005e+00,  2.6152e+01],\n",
       "        [ 7.8159e-01,  8.2786e+00,  3.8087e+01]], device='cuda:0',\n",
       "       grad_fn=<AddmmBackward>)"
      ]
     },
     "execution_count": 42,
     "metadata": {},
     "output_type": "execute_result"
    }
   ],
   "source": [
    "outputs['translation']"
   ]
  },
  {
   "cell_type": "markdown",
   "metadata": {},
   "source": [
    "torch.save(model.state_dict(), \"scare_model.pth\")\n",
    "torch.save(optimizer.state_dict(), \"scare_optim.pth\")"
   ]
  },
  {
   "cell_type": "markdown",
   "metadata": {},
   "source": [
    "batch['orientation']"
   ]
  },
  {
   "cell_type": "markdown",
   "metadata": {},
   "source": [
    "outputs['orientation'] / torch.norm(outputs['orientation'], dim=-1, keepdim=True)"
   ]
  },
  {
   "cell_type": "markdown",
   "metadata": {},
   "source": [
    "torch.sum(torch.abs(outputs['orientation'] / torch.norm(outputs['orientation'], dim=-1, keepdim=True) - batch['orientation']), dim=1)"
   ]
  },
  {
   "cell_type": "markdown",
   "metadata": {},
   "source": [
    "torch.sum((outputs['orientation'] / torch.norm(outputs['orientation'], dim=-1, keepdim=True) - batch['orientation']) ** 2, dim=1) ** 0.5"
   ]
  },
  {
   "cell_type": "markdown",
   "metadata": {},
   "source": [
    "batch['label']"
   ]
  },
  {
   "cell_type": "markdown",
   "metadata": {},
   "source": [
    "torch.argmax(outputs['cls_score'], dim=1)"
   ]
  },
  {
   "cell_type": "markdown",
   "metadata": {},
   "source": [
    "model.backbone"
   ]
  },
  {
   "cell_type": "markdown",
   "metadata": {},
   "source": [
    "nn.Sequential"
   ]
  },
  {
   "cell_type": "markdown",
   "metadata": {},
   "source": [
    "import pandas as pd"
   ]
  },
  {
   "cell_type": "markdown",
   "metadata": {},
   "source": [
    "df = pd.read_csv(C.TRAIN_CSV)"
   ]
  },
  {
   "cell_type": "markdown",
   "metadata": {},
   "source": [
    "df.head()"
   ]
  },
  {
   "cell_type": "markdown",
   "metadata": {},
   "source": [
    "import utils"
   ]
  },
  {
   "cell_type": "markdown",
   "metadata": {},
   "source": [
    "train_anns = utils.load_train_annotations()"
   ]
  },
  {
   "cell_type": "markdown",
   "metadata": {},
   "source": [
    "train_anns[\"ID_8a6e65317\"]"
   ]
  },
  {
   "cell_type": "markdown",
   "metadata": {},
   "source": [
    "orientations_euler = []\n",
    "for k, v in train_anns.items():\n",
    "    for y, p, r in zip(v[\"yaws\"], v[\"pitches\"], v[\"rolls\"]):\n",
    "        orientations_euler.append((-p, -y, -r))"
   ]
  },
  {
   "cell_type": "markdown",
   "metadata": {},
   "source": [
    "len(orientations_euler)"
   ]
  },
  {
   "cell_type": "markdown",
   "metadata": {},
   "source": [
    "from scipy.spatial.transform import rotation as R"
   ]
  },
  {
   "cell_type": "markdown",
   "metadata": {},
   "source": [
    "euler_angles = self.gt[\"annotations\"][idx][self.orientation_field]\n",
    "rotation = R.from_euler(\"XYZ\", euler_angles)\n",
    "q = rotation.as_quat()"
   ]
  },
  {
   "cell_type": "markdown",
   "metadata": {},
   "source": [
    "def quaternion_to_euler_angle(q):\n",
    "\n",
    "    \"\"\"Convert quaternion to euler angel.\n",
    "    Input:\n",
    "        q: 1 * 4 vector,\n",
    "    Output:\n",
    "        angle: 1 x 3 vector, each row is [roll, pitch, yaw]\n",
    "    \"\"\"\n",
    "    w, x, y, z = q\n",
    "    t0 = +2.0 * (w * x + y * z)\n",
    "    t1 = +1.0 - 2.0 * (x * x + y * y)\n",
    "    X = math.atan2(t0, t1)\n",
    "\n",
    "    t2 = +2.0 * (w * y - z * x)\n",
    "    t2 = +1.0 if t2 > +1.0 else t2\n",
    "    t2 = -1.0 if t2 < -1.0 else t2\n",
    "    Y = math.asin(t2)\n",
    "\n",
    "    t3 = +2.0 * (w * z + x * y)\n",
    "    t4 = +1.0 - 2.0 * (y * y + z * z)\n",
    "    Z = math.atan2(t3, t4)\n",
    "\n",
    "    return X, Y, Z"
   ]
  },
  {
   "cell_type": "markdown",
   "metadata": {},
   "source": [
    "def euler_angles_to_quaternions(angle):\n",
    "    \"\"\"Convert euler angels to quaternions representation.\n",
    "    Input:\n",
    "        angle: n x 3 matrix, each row is [roll, pitch, yaw]\n",
    "    Output:\n",
    "        q: n x 4 matrix, each row is corresponding quaternion.\n",
    "    \"\"\"\n",
    "\n",
    "    in_dim = np.ndim(angle)\n",
    "    if in_dim == 1:\n",
    "        angle = angle[None, :]\n",
    "\n",
    "    n = angle.shape[0]\n",
    "    roll, pitch, yaw = angle[:, 0], angle[:, 1], angle[:, 2]\n",
    "    q = np.zeros((n, 4))\n",
    "\n",
    "    cy = np.cos(yaw * 0.5)\n",
    "    sy = np.sin(yaw * 0.5)\n",
    "    cr = np.cos(roll * 0.5)\n",
    "    sr = np.sin(roll * 0.5)\n",
    "    cp = np.cos(pitch * 0.5)\n",
    "    sp = np.sin(pitch * 0.5)\n",
    "\n",
    "    q[:, 0] = cy * cr * cp + sy * sr * sp\n",
    "    q[:, 1] = cy * sr * cp - sy * cr * sp\n",
    "    q[:, 2] = cy * cr * sp + sy * sr * cp\n",
    "    q[:, 3] = sy * cr * cp - cy * sr * sp\n",
    "\n",
    "    return q"
   ]
  },
  {
   "cell_type": "markdown",
   "metadata": {},
   "source": [
    "orientations_euler = np.array(orientations_euler)"
   ]
  },
  {
   "cell_type": "markdown",
   "metadata": {},
   "source": [
    "orientations_quat = euler_angles_to_quaternions(orientations_euler[:, ::-1])"
   ]
  },
  {
   "cell_type": "markdown",
   "metadata": {},
   "source": [
    "orientations_quat[:30]"
   ]
  },
  {
   "cell_type": "markdown",
   "metadata": {},
   "source": [
    "for q in orientations_quat[:100]:\n",
    "    print(q)"
   ]
  },
  {
   "cell_type": "markdown",
   "metadata": {},
   "source": [
    "orientations_quat[0]"
   ]
  },
  {
   "cell_type": "markdown",
   "metadata": {},
   "source": [
    "((orientations_quat[2][1:] / np.sin(np.arccos(orientations_quat[2][0]))) ** 2).sum()"
   ]
  },
  {
   "cell_type": "markdown",
   "metadata": {},
   "source": [
    "((orientations_quat[2][:-1] / np.sin(np.arccos(orientations_quat[2][-1]))) ** 2).sum()"
   ]
  },
  {
   "cell_type": "code",
   "execution_count": null,
   "metadata": {},
   "outputs": [],
   "source": []
  }
 ],
 "metadata": {
  "kernelspec": {
   "display_name": "Python 3",
   "language": "python",
   "name": "python3"
  },
  "language_info": {
   "codemirror_mode": {
    "name": "ipython",
    "version": 3
   },
   "file_extension": ".py",
   "mimetype": "text/x-python",
   "name": "python",
   "nbconvert_exporter": "python",
   "pygments_lexer": "ipython3",
   "version": "3.7.4"
  }
 },
 "nbformat": 4,
 "nbformat_minor": 2
}
